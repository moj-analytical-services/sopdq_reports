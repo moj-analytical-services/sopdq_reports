{
 "cells": [
  {
   "cell_type": "code",
   "execution_count": null,
   "id": "f119c236-e9b3-4d9c-bc9b-7746e3c69f02",
   "metadata": {},
   "outputs": [],
   "source": [
    "import pandas as pd\n",
    "import io\n",
    "import xlsxwriter\n",
    "from openpyxl import load_workbook\n",
    "import boto3\n",
    "import botocore"
   ]
  },
  {
   "cell_type": "code",
   "execution_count": null,
   "id": "21575d60-289a-48c2-b252-a8bdedd1e255",
   "metadata": {},
   "outputs": [],
   "source": [
    "data_input = {'Area':['North', 'North', 'North',  'South', 'South', 'South',  'West', 'West', 'West',   'East', \"East\",\"East\"], \n",
    "              \"Sub-Area\": [\"North2\", \"North1\", \"North2\",   \"South2\", \"South1\", \"South2\",\"West3\", \"West9\", \"West9\", \"East1\", \"East4\", \"East1\"], \n",
    "              \"Workers\": [1,20,30, 2,33,5, 3,6,44, 1, 11, 111], \n",
    "              \"Job1\":[\"T\", \"T\", \"T\",  \"X\",\"T\", \"T\",  \"T\", \"X\", \"T\", \"X\",\"T\", \"T\"],\n",
    "              \"Job2\":[\"F\", \"X\", \"T\",  \"X\",\"T\", \"F\",  \"T\", \"X\", \"F\", \"X\",\"T\", \"T\"],\n",
    "              \"Job3\":[\"T\", \"F\", \"T\",  \"X\",\"X\", \"F\",  \"F\", \"T\",\"X\",  \"X\",\"T\", \"T\"]}\n",
    " \n",
    "# Create DataFrame\n",
    "df1 = pd.DataFrame(data_input)\n",
    " \n",
    "# Print the output.\n",
    "#df1"
   ]
  },
  {
   "cell_type": "code",
   "execution_count": null,
   "id": "a4a39d13-8d11-47e6-bac6-08d6d6a6a169",
   "metadata": {},
   "outputs": [],
   "source": [
    "# Save file to S3\n",
    "with io.BytesIO() as output:\n",
    "    with pd.ExcelWriter(output, engine='openpyxl', mode =\"a\") as writer:\n",
    "        df1.to_excel(writer, sheet_name='Sheet1',startcol = 0, startrow=2)\n",
    "    data = output.getvalue()\n",
    "s3 = boto3.resource('s3')\n",
    "s3.Bucket('alpha-piatool').put_object(Key='harmonisation/template.xlsx', Body=data)\n"
   ]
  },
  {
   "cell_type": "code",
   "execution_count": null,
   "id": "80b7efe5-ab6a-4ba3-944f-c15352420d7f",
   "metadata": {},
   "outputs": [],
   "source": [
    "#File is not a zip file"
   ]
  }
 ],
 "metadata": {
  "kernelspec": {
   "display_name": "Python 3 (ipykernel)",
   "language": "python",
   "name": "python3"
  },
  "language_info": {
   "codemirror_mode": {
    "name": "ipython",
    "version": 3
   },
   "file_extension": ".py",
   "mimetype": "text/x-python",
   "name": "python",
   "nbconvert_exporter": "python",
   "pygments_lexer": "ipython3",
   "version": "3.9.6"
  }
 },
 "nbformat": 4,
 "nbformat_minor": 5
}
