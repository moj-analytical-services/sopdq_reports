{
 "cells": [
  {
   "cell_type": "code",
   "execution_count": null,
   "id": "a08f3e0b-1832-4f0f-8557-6dac2e00588d",
   "metadata": {},
   "outputs": [],
   "source": [
    "import pandas as pd\n",
    "\n",
    "data_input = {'Area':['North', 'North', 'North',  'South', 'South', 'South',  'West', 'West', 'West',   'East', \"East\",\"East\"], \n",
    "              \"Sub-Area\": [\"North2\", \"North1\", \"North2\",   \"South2\", \"South1\", \"South2\",\"West3\", \"West9\", \"West9\", \"East1\", \"East4\", \"East1\"], \n",
    "              \"Workers\": [1,20,30, 2,33,5, 3,6,44, 1, 11, 111], \n",
    "              \"Job1\":[\"T\", \"T\", \"T\",  \"X\",\"T\", \"T\",  \"T\", \"X\", \"T\", \"X\",\"T\", \"T\"],\n",
    "              \"Job2\":[\"F\", \"X\", \"T\",  \"X\",\"T\", \"F\",  \"T\", \"X\", \"F\", \"X\",\"T\", \"T\"],\n",
    "              \"Job3\":[\"T\", \"F\", \"T\",  \"X\",\"X\", \"F\",  \"F\", \"T\",\"X\",  \"X\",\"T\", \"T\"]}\n",
    " \n",
    "# Create DataFrame\n",
    "df1 = pd.DataFrame(data_input)\n",
    " \n",
    "# Print the output.\n",
    "df1"
   ]
  },
  {
   "cell_type": "code",
   "execution_count": null,
   "id": "356f7316-ba5b-4e52-ab81-d0c49bd40922",
   "metadata": {},
   "outputs": [],
   "source": [
    "# import pandas as pd\n",
    "\n",
    "# data_input = {'Area':['North', 'North', 'North',  'South', 'South', 'South',  'West', 'West', 'West',   'East', \"East\",\"East\"], \n",
    "#               \"Sub-Area\": [\"North1\", \"North2\", \"North2\",   \"South1\", \"South2\", \"South2\",\"West3\", \"West9\", \"West9\", \"East4\", \"East11\", \"East11\"], \n",
    "#               \"Workers\": [20,1,30,  33,2,5, 3,6,44,  11, 1, 111], \n",
    "#               \"Job1\":[\"T\", \"T\", \"T\",  \"X\",\"T\", \"T\",  \"T\", \"X\", \"T\", \"X\",\"T\", \"T\"],\n",
    "#               \"Job2\":[\"F\", \"X\", \"T\",  \"X\",\"T\", \"F\",  \"T\", \"X\", \"F\", \"X\",\"T\", \"T\"],\n",
    "#               \"Job3\":[\"T\", \"F\", \"T\",  \"X\",\"X\", \"F\",  \"F\", \"T\",\"X\",  \"X\",\"T\", \"T\"]}\n",
    " \n",
    "# # Create DataFrame\n",
    "# df1 = pd.DataFrame(data_input)\n",
    " \n",
    "# # Print the output.\n",
    "# df1"
   ]
  },
  {
   "cell_type": "code",
   "execution_count": null,
   "id": "fadd233a-a935-480f-ab3f-bdb7236ddfae",
   "metadata": {},
   "outputs": [],
   "source": [
    "df1.sort_values(by = ['Sub-Area', 'Workers'], ascending = [True, True], na_position = 'first')"
   ]
  },
  {
   "cell_type": "code",
   "execution_count": null,
   "id": "0e242f99-80e0-4f18-80fb-28dafcfd0257",
   "metadata": {},
   "outputs": [],
   "source": []
  }
 ],
 "metadata": {
  "kernelspec": {
   "display_name": "Python 3 (ipykernel)",
   "language": "python",
   "name": "python3"
  },
  "language_info": {
   "codemirror_mode": {
    "name": "ipython",
    "version": 3
   },
   "file_extension": ".py",
   "mimetype": "text/x-python",
   "name": "python",
   "nbconvert_exporter": "python",
   "pygments_lexer": "ipython3",
   "version": "3.9.6"
  }
 },
 "nbformat": 4,
 "nbformat_minor": 5
}
