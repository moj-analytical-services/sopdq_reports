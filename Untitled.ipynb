{
 "cells": [
  {
   "cell_type": "code",
   "execution_count": null,
   "id": "6c31f277-b58e-4d1e-ba63-3a8219b62abe",
   "metadata": {},
   "outputs": [],
   "source": [
    "import pandas as pd\n",
    "\n",
    "data_input = {'Area':['North', 'North', 'South', 'South', 'West', 'West', 'East', \"East\"], \n",
    "              \"Sub-Area\": [\"North1\", \"North2\", \"South1\", \"South3\", \"West3\", \"West9\", \"East1\", \"East4\"], \n",
    "              \"Job1\":[\"T\", \"T\", \"T\", \"X\",\"T\", \"T\", \"T\", \"X\"],\n",
    "              \"Job2\":[\"F\", \"X\", \"T\", \"X\",\"T\", \"F\", \"T\", \"X\"],\n",
    "              \"Job3\":[\"T\", \"F\", \"T\", \"X\",\"X\", \"F\", \"F\", \"T\"]}\n",
    " \n",
    "# Create DataFrame\n",
    "df1 = pd.DataFrame(data_input)\n",
    " \n",
    "# Print the output.\n",
    "df1"
   ]
  },
  {
   "cell_type": "code",
   "execution_count": null,
   "id": "943fcca6-4ddc-4653-a129-3e9b103a1105",
   "metadata": {},
   "outputs": [],
   "source": [
    "import pandas as pd\n",
    "\n",
    "data_input = {'Area':['North', 'North', 'South', 'South', 'West', 'West', 'East', \"East\"], \n",
    "              \"Sub-Area\": [\"North1\", \"North2\", \"South1\", \"South3\", \"West3\", \"West9\", \"East1\", \"East4\"], \n",
    "              \"Job1\":[\"T\", \"T\", \"T\", \"X\",\"T\", \"T\", \"T\", \"X\"],\n",
    "              \"Job2\":[\"F\", \"X\", \"T\", \"X\",\"T\", \"F\", \"T\", \"X\"],\n",
    "              \"Job3\":[\"T\", \"F\", \"T\", \"X\",\"X\", \"F\", \"F\", \"T\"]}\n",
    " \n",
    "# Create DataFrame\n",
    "df1 = pd.DataFrame(data_input)\n",
    " \n",
    "# Print the output.\n",
    "df1"
   ]
  },
  {
   "cell_type": "code",
   "execution_count": null,
   "id": "47cd6357-608e-43e3-ac7c-67ec17c603d5",
   "metadata": {},
   "outputs": [],
   "source": [
    "cols = ['Job1', 'Job2', 'Job3']\n",
    "df2 = []\n",
    "\n",
    "for col in cols:\n",
    "    df = pd.crosstab(df1['Area'], df1[col])\n",
    "    df.columns = pd.MultiIndex.from_product([[col], df.columns.tolist()])\n",
    "    df2.append(df)\n",
    "out = pd.concat(dfs, axis=1)"
   ]
  },
  {
   "cell_type": "code",
   "execution_count": null,
   "id": "569d95a8-19c1-46e1-b455-290962de3183",
   "metadata": {},
   "outputs": [],
   "source": [
    "if (\"Job1\", \"M\") not in dfx.columns.tolist():\n",
    "    dfx[\"Job1\", \"M\"] = [0,0,0,0]\n",
    "else:\n",
    "    if (\"Job1\", \"T\") not in dfx.columns.tolist():\n",
    "        dfx[\"Job1\", \"T\"] = [0,0,0,0]\n",
    "    else:\n",
    "        if (\"Job1\", \"X\") not in dfx.columns.tolist():\n",
    "            dfx[\"Job1\", \"X\"] = [0,0,0,0]\n",
    "        else:\n",
    "            print(\"complete set\")\n",
    "dfx = dfx.sort_index(axis=1)"
   ]
  },
  {
   "cell_type": "code",
   "execution_count": null,
   "id": "d30f43c6-6e46-42c7-b3fc-02df91fffe20",
   "metadata": {},
   "outputs": [],
   "source": [
    "dfx"
   ]
  }
 ],
 "metadata": {
  "kernelspec": {
   "display_name": "Python 3 (ipykernel)",
   "language": "python",
   "name": "python3"
  },
  "language_info": {
   "codemirror_mode": {
    "name": "ipython",
    "version": 3
   },
   "file_extension": ".py",
   "mimetype": "text/x-python",
   "name": "python",
   "nbconvert_exporter": "python",
   "pygments_lexer": "ipython3",
   "version": "3.9.6"
  }
 },
 "nbformat": 4,
 "nbformat_minor": 5
}
