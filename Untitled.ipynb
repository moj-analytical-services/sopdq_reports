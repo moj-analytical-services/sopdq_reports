{
 "cells": [
  {
   "cell_type": "code",
   "execution_count": null,
   "id": "5e067ae4-18b3-45ef-b5e2-7f813f2eb862",
   "metadata": {},
   "outputs": [],
   "source": [
    "import pandas as pd\n",
    "import io\n",
    "import xlsxwriter\n",
    "from openpyxl import load_workbook\n",
    "import boto3\n",
    "import botocore\n",
    "\n",
    "data_input = {'Area':['North', 'North', 'North',  'South', 'South', 'South',  'West', 'West', 'West',   'East', \"East\",\"East\"], \n",
    "              \"Sub-Area\": [\"North2\", \"North1\", \"North2\",   \"South2\", \"South1\", \"South2\",\"West3\", \"West9\", \"West9\", \"East1\", \"East4\", \"East1\"], \n",
    "              \"Workers\": [1,20,30, 2,33,5, 3,6,44, 1, 11, 111], \n",
    "              \"Job1\":[\"T\", \"T\", \"T\",  \"X\",\"T\", \"T\",  \"T\", \"X\", \"T\", \"X\",\"T\", \"T\"],\n",
    "              \"Job2\":[\"F\", \"X\", \"T\",  \"X\",\"T\", \"F\",  \"T\", \"X\", \"F\", \"X\",\"T\", \"T\"],\n",
    "              \"Job3\":[\"T\", \"F\", \"T\",  \"X\",\"X\", \"F\",  \"F\", \"T\",\"X\",  \"X\",\"T\", \"T\"]}\n",
    " \n",
    "# Create DataFrame\n",
    "df1 = pd.DataFrame(data_input)\n",
    " \n",
    "# Print the output.\n",
    "#df1\n",
    "\n",
    "# Save file to S3\n",
    "with io.BytesIO() as output:\n",
    "    with pd.ExcelWriter(output, engine='openpyxl', mode =\"a\") as writer:\n",
    "        df1.to_excel(writer, sheet_name='Sheet1',startcol = 0, startrow=2)\n",
    "    data = output.getvalue()\n",
    "s3 = boto3.resource('s3')\n",
    "s3.Bucket('alpha-piatool').put_object(Key='harmonisation/template.xlsx', Body=data)\n",
    "\n",
    "#File is not a zip file\n",
    "\n"
   ]
  }
 ],
 "metadata": {
  "kernelspec": {
   "display_name": "Python 3 (ipykernel)",
   "language": "python",
   "name": "python3"
  },
  "language_info": {
   "codemirror_mode": {
    "name": "ipython",
    "version": 3
   },
   "file_extension": ".py",
   "mimetype": "text/x-python",
   "name": "python",
   "nbconvert_exporter": "python",
   "pygments_lexer": "ipython3",
   "version": "3.9.6"
  }
 },
 "nbformat": 4,
 "nbformat_minor": 5
}
