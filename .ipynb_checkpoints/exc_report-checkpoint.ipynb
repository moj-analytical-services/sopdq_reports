{
 "cells": [
  {
   "cell_type": "code",
   "execution_count": null,
   "id": "b6dd4001-c7a2-46e8-946e-af4b322064a9",
   "metadata": {},
   "outputs": [],
   "source": [
    "#Downloading the raw data from Amazon Web Service (AWS) S3 \n",
    "#This is the cloud warehouse where we store data for use on the analytical platform\n",
    "\n",
    "#This is a package that allows us to download data from AWS S3 in a more usable way\n",
    "#You may need to install it in the Terminal --> pip install arrow-pd-parser\n",
    "#Alternatively --> pip install --user arrow-pd-parser"
   ]
  },
  {
   "cell_type": "code",
   "execution_count": null,
   "id": "55903ad7-a2c2-4129-9e6a-d8a94b7b0cce",
   "metadata": {},
   "outputs": [],
   "source": [
    "import boto3\n",
    "import pandas as pd\n",
    "import numpy as np\n",
    "import io\n",
    "import xlsxwriter\n",
    "from openpyxl.utils.dataframe import dataframe_to_rows\n",
    "import openpyxl\n",
    "from openpyxl import load_workbook\n",
    "from arrow_pd_parser import reader, writer"
   ]
  },
  {
   "cell_type": "code",
   "execution_count": null,
   "id": "e7f95398-fa86-41a7-b102-b165abad575f",
   "metadata": {},
   "outputs": [],
   "source": [
    "#Location of data - setting up the folder and file names\n",
    "bucket = \"s3://alpha-piatool/\"\n",
    "input_folder = \"sopdq_AV/inputs/\"\n",
    "output_folder = \"sopdq_AV/outputs/\""
   ]
  },
  {
   "cell_type": "code",
   "execution_count": null,
   "id": "987314a3-9379-4ee6-b3da-d96d40210046",
   "metadata": {},
   "outputs": [],
   "source": [
    "#Choose your dataset\n",
    "\n",
    "valid_dates = [\"test23\", \"Mar22\", \"Apr22\", \"May22\", \"Jun22\", \"Jul22\", \"Aug22\", \"Sep22\", \"Oct22\", \"Nov22\", \"Dec22\", \n",
    "               \"Jan23\", \"Feb23\", \"Mar23\", \"Apr23\", \"May23\", \"Jun23\", \"Jul23\", \"Aug23\", \"Sep23\", \"Oct23\", \"Nov23\"]\n",
    "\n",
    "while True:    \n",
    "    date = input(\"Please choose the month you want an Exception Report for: \")\n",
    "\n",
    "    if date not in valid_dates:\n",
    "        print(\"That was not a valid choice. Please try again\")\n",
    "        continue \n",
    "    else:\n",
    "        print(\"You have made a valid choice.\")\n",
    "        raw_data = \"WFPT Staff Data \" + date + \".csv\"\n",
    "        look_up_data = \"WFPT lookups \" + date + \".xlsx\"\n",
    "        print(raw_data)\n",
    "        break       \n",
    "        "
   ]
  },
  {
   "cell_type": "code",
   "execution_count": null,
   "id": "9835d0a2-4864-4f0b-bc90-627ed626911e",
   "metadata": {},
   "outputs": [],
   "source": [
    "#Loading the raw data stored by David Yuen \n",
    "raw_data_file = reader.read(bucket+input_folder+raw_data, file_format=\"csv\")"
   ]
  },
  {
   "cell_type": "code",
   "execution_count": null,
   "id": "f4d71160-0a73-4740-827a-d191f8b14d5a",
   "metadata": {},
   "outputs": [],
   "source": [
    "print(bucket+input_folder+raw_data)"
   ]
  },
  {
   "cell_type": "code",
   "execution_count": null,
   "id": "fb2587c8-f092-4725-beb9-59c2b5d0ee5f",
   "metadata": {},
   "outputs": [],
   "source": [
    "raw_data_file.head(2)"
   ]
  },
  {
   "cell_type": "code",
   "execution_count": null,
   "id": "b4bbc627-51dd-41ed-a776-db3b3705aeea",
   "metadata": {},
   "outputs": [],
   "source": [
    "#Tracie Kilbey creates four sheets from the raw dataset, which she then uses for the exception reports\n",
    "#Let's start with creating the first sheet, as it's the simplest - \"WfPT all\"\n",
    "#This is just the raw data, but we'll make a few changes to column headings to make it easier to use"
   ]
  },
  {
   "cell_type": "code",
   "execution_count": null,
   "id": "75c351d8-9b46-48e3-b4ab-8538f5e56588",
   "metadata": {},
   "outputs": [],
   "source": [
    "WfPT_all = raw_data_file"
   ]
  },
  {
   "cell_type": "code",
   "execution_count": null,
   "id": "6a4e153d-4aa8-4907-b525-c824886d93cd",
   "metadata": {},
   "outputs": [],
   "source": [
    "# WfPT_all.columns = WfPT_all.columns.str.replace(\" \", \"_\")\n",
    "# WfPT_all.columns = map(str.lower, WfPT_all.columns)"
   ]
  },
  {
   "cell_type": "code",
   "execution_count": null,
   "id": "b56bbab3-3df6-4af4-8f54-e49e6e6e1377",
   "metadata": {},
   "outputs": [],
   "source": [
    "raw_data_file.columns"
   ]
  },
  {
   "cell_type": "code",
   "execution_count": null,
   "id": "79fe49a4-17fe-4e3d-ab03-781d9ef95f8e",
   "metadata": {},
   "outputs": [],
   "source": [
    "#Save this file in AWS S3 \n",
    "writer.write(df=WfPT_all, output_path=bucket+output_folder+\"WfPT all.csv\", file_format=\"csv\")"
   ]
  },
  {
   "cell_type": "code",
   "execution_count": null,
   "id": "754c4279-cbce-40a8-b730-ce55fcaf5ca4",
   "metadata": {},
   "outputs": [],
   "source": [
    "#Completed first file\n",
    "WfPT_all\n",
    "len(WfPT_all)"
   ]
  },
  {
   "cell_type": "code",
   "execution_count": null,
   "id": "f111e311-3230-4193-b1e9-daa238c9c23a",
   "metadata": {},
   "outputs": [],
   "source": [
    "# Now create second file - Probation inc HQ\n",
    "# Filter Column \"NOMS-MOJ\" to leave only \"NPS\" or \"NOMS HQ\""
   ]
  },
  {
   "cell_type": "code",
   "execution_count": null,
   "id": "00281bbc-a842-4e9a-bd51-371e97fb8ff0",
   "metadata": {},
   "outputs": [],
   "source": [
    "Probation_inc_HQ = raw_data_file[raw_data_file[\"NOMS-MOJ\"].isin([\"NOMS HQ\", \"NPS\"])]"
   ]
  },
  {
   "cell_type": "code",
   "execution_count": null,
   "id": "bac9c5f1-38b9-47cd-b545-f912e06598a2",
   "metadata": {},
   "outputs": [],
   "source": [
    "#Save on AWS S3\n",
    "writer.write(df=Probation_inc_HQ, output_path=bucket+output_folder+\"Probation inc HQ.csv\", file_format=\"csv\")"
   ]
  },
  {
   "cell_type": "code",
   "execution_count": null,
   "id": "1c9634ad-35aa-45a7-9273-f4e2d254bf88",
   "metadata": {},
   "outputs": [],
   "source": [
    "#Completed second file\n",
    "Probation_inc_HQ.head(2)\n",
    "len(Probation_inc_HQ)"
   ]
  },
  {
   "cell_type": "code",
   "execution_count": null,
   "id": "c72a04c8-2eb2-46c0-aa05-ecc881d1189f",
   "metadata": {},
   "outputs": [],
   "source": [
    "# Now create the third file - Probation some HQ\n",
    "#For those working in Probation Delivery Units (PDUs) and Region Offices, \n",
    "#identify those who have NOMS-MOJ (column S) value of \"NPS\".\n",
    "# Add in Other HQ staff – see establishment names below (use the Prog CC and Admin CC)\n",
    "# Cost Centre = 10207830, 10207831, 10207812"
   ]
  },
  {
   "cell_type": "code",
   "execution_count": null,
   "id": "27a07098-dd61-46cd-b41e-be907186d2d8",
   "metadata": {},
   "outputs": [],
   "source": [
    "probation_staff = raw_data_file[raw_data_file[\"NOMS-MOJ\"] == \"NPS\"] # Only include National Probation Service\n",
    "probation_staff_exc_aps = probation_staff[~probation_staff[\"Establishment\"].str.contains(\"APs\")] # remove Approved Premises\n",
    "probation_staff_exc_aps = probation_staff[~probation_staff[\"Area_Directorate\"].str.contains(\"Approved Premises\")] # remove Approved Premises\n",
    "probation_staff_exc_aps = probation_staff_exc_aps[~probation_staff_exc_aps[\"Establishment\"].str.contains(\"Approved Premises\")]# remove Approved Premises\n",
    "hq_staff = raw_data_file[raw_data_file[\"NOMS-MOJ\"] == \"NOMS HQ\"] # Get cost centres from HQ\n",
    "some_hq_staff = hq_staff[hq_staff[\"Cost Centre\"].isin([10207830, 10207831, 10207812])] # Include only three cost centres from HQ\n",
    "\n",
    "probation_some_hq = pd.concat([probation_staff_exc_aps,some_hq_staff]) # combine the National Probation staff (excluding Approved Premises) AND three cost centres from HQ"
   ]
  },
  {
   "cell_type": "code",
   "execution_count": null,
   "id": "076f52b4-479a-4987-8e52-98be2637b0c1",
   "metadata": {},
   "outputs": [],
   "source": [
    "probation_some_hq\n",
    "len(probation_some_hq)"
   ]
  },
  {
   "cell_type": "code",
   "execution_count": null,
   "id": "c66fb65a-c5b1-4854-9837-2c59c6ba63c9",
   "metadata": {},
   "outputs": [],
   "source": [
    "#Save on AWS S3\n",
    "writer.write(df=probation_some_hq, output_path=bucket+output_folder+\"Probation some HQ.csv\", file_format=\"csv\")"
   ]
  },
  {
   "cell_type": "code",
   "execution_count": null,
   "id": "b09532bb-2da0-49e8-a675-72e16ed31d5c",
   "metadata": {},
   "outputs": [],
   "source": [
    "#Create the fourth sheet - APs\n",
    "## Filter for NOMS-HQ field of \"NOMS HQ\" and then filter for all establishment with “APs\" at end of name. \n",
    "## Filter for National Approved Premises and AP Professionalisation Project (as in the table below).\n",
    "### Cost centres = 10207588, 10207586\n"
   ]
  },
  {
   "cell_type": "code",
   "execution_count": null,
   "id": "920bc906-1ba4-4c10-b8c1-ee3f98b5f3d8",
   "metadata": {},
   "outputs": [],
   "source": [
    "hq_staff_only_aps = raw_data_file[raw_data_file[\"Establishment\"].str.contains(\"APs\")]\n",
    "other_aps = raw_data_file[raw_data_file[\"Cost Centre\"].isin([10207588, 10207586])] \n",
    "# \"AP Counter Terrorism and Drug Strategy\" has not been included.\n",
    "# David Yuen advised in email dated 30.11.2022 - \"It is more of a HQ type unit so I wouldn’t include with the other Approved Premises\"\n",
    "aps = pd.concat([hq_staff_only_aps,other_aps])"
   ]
  },
  {
   "cell_type": "code",
   "execution_count": null,
   "id": "acc8ad1b-0e7c-49f1-8090-5dda3439c9a5",
   "metadata": {},
   "outputs": [],
   "source": [
    "len(aps)"
   ]
  },
  {
   "cell_type": "code",
   "execution_count": null,
   "id": "7d5ec03c-1e83-49f9-8941-203474f8aacf",
   "metadata": {},
   "outputs": [],
   "source": [
    "#Save on AWS S3\n",
    "writer.write(df=aps, output_path=bucket+output_folder+\"APs.csv\", file_format=\"csv\")"
   ]
  },
  {
   "cell_type": "code",
   "execution_count": null,
   "id": "3b3bd99a-c0a0-47b2-98a8-9c912f84fdf3",
   "metadata": {},
   "outputs": [],
   "source": [
    "####################################################################################################################\n",
    "# Next step - to combine csv files into one workbook on excel\n",
    "####################################################################################################################"
   ]
  },
  {
   "cell_type": "code",
   "execution_count": null,
   "id": "2581f81e-55fe-448e-a4e2-e22ae9960308",
   "metadata": {},
   "outputs": [],
   "source": [
    "## Name of csv files\n",
    "# WfPT_all\n",
    "# Probation_inc_HQ\n",
    "# probation_some_hq\n",
    "# aps"
   ]
  },
  {
   "cell_type": "code",
   "execution_count": null,
   "id": "e464bb07-3772-4cd8-9615-e04a67ca5329",
   "metadata": {},
   "outputs": [],
   "source": [
    "with io.BytesIO() as output:\n",
    "    with pd.ExcelWriter(output, engine='xlsxwriter') as writer:\n",
    "        WfPT_all.to_excel(writer, sheet_name='WfPT All')\n",
    "        Probation_inc_HQ.to_excel(writer, sheet_name='Probation inc HQ')\n",
    "        probation_some_hq.to_excel(writer, sheet_name='Probation some HQ')\n",
    "        aps.to_excel(writer, sheet_name='APs')\n",
    "    data = output.getvalue()\n",
    "s3 = boto3.resource('s3')\n",
    "file_location = \"sopdq_AV/outputs/WFPT Staff Data \" + date + \" Probation.xlsx\"\n",
    "s3.Bucket('alpha-piatool').put_object(Key=file_location, Body=data)\n"
   ]
  },
  {
   "cell_type": "code",
   "execution_count": null,
   "id": "06db268c-a674-4e12-9d9e-83c0b095b069",
   "metadata": {},
   "outputs": [],
   "source": [
    "####################################################################################################################\n",
    "# Next step - Add look up files\n",
    "####################################################################################################################"
   ]
  },
  {
   "cell_type": "code",
   "execution_count": null,
   "id": "aa658376-2f7a-4907-8995-7066c8a5cabc",
   "metadata": {},
   "outputs": [],
   "source": [
    "look_up_data = bucket+input_folder+look_up_data"
   ]
  },
  {
   "cell_type": "code",
   "execution_count": null,
   "id": "d541091f-f7f7-45de-85cc-25a5c1f07012",
   "metadata": {},
   "outputs": [],
   "source": [
    "look_up_data"
   ]
  },
  {
   "cell_type": "code",
   "execution_count": null,
   "id": "c598da01-3a03-47bb-b065-295a42b0133f",
   "metadata": {},
   "outputs": [],
   "source": [
    "# #Loading the look up file stored in reference folder\n",
    "look_ups = pd.read_excel(bucket+input_folder+\"lookups_may22.xlsx\",\n",
    "                         sheet_name=\"Lookups\", skiprows=2)\n",
    "\n",
    "cost_centre_consistency = pd.read_excel(bucket+input_folder+\"Lookups for Probation DQ v1.4.xlsx\", \n",
    "                                        sheet_name=\"Cost Centre types\", skiprows=2)"
   ]
  },
  {
   "cell_type": "code",
   "execution_count": null,
   "id": "d6752032-2131-4432-8bdd-94693a9b445f",
   "metadata": {},
   "outputs": [],
   "source": [
    "#Loading the look up file stored in reference folder\n",
    "cost_centres = pd.read_excel(look_up_data, sheet_name=\"Cost Centre Lookup\")\n",
    "\n",
    "hr_locations = pd.read_excel(look_up_data, sheet_name=\"HR Location Lookup\")\n",
    "\n",
    "int_functions = pd.read_excel(look_up_data, sheet_name=\"Internal Function Lookup\")\n",
    "\n",
    "jobs = pd.read_excel(look_up_data, sheet_name=\"Job Title Lookup\")"
   ]
  },
  {
   "cell_type": "code",
   "execution_count": null,
   "id": "9265dd19-8988-4e1c-ab35-54b7eab21ee7",
   "metadata": {},
   "outputs": [],
   "source": [
    "################################################################################################################\n",
    "# Main Data Quality checks \n",
    "## Cost Centres\n",
    "## HR locations\n",
    "## Internal functions\n",
    "## Job (Title)\n",
    "## *Job (Band) not required but added in any event\n",
    "################################################################################################################"
   ]
  },
  {
   "cell_type": "code",
   "execution_count": null,
   "id": "e3b29bdc-8329-426f-a3a2-345cc1cfbe1c",
   "metadata": {},
   "outputs": [],
   "source": [
    "#Tidy up Cost Centre lookup column titles\n",
    "cost_centre_lookup = cost_centres[['Cost Centre Number', 'Cost Centre Number']].copy(deep=True)\n",
    "cost_centre_lookup.columns = ['Cost Centre', 'Cost Centre Number']\n",
    "cost_centre_lookup"
   ]
  },
  {
   "cell_type": "code",
   "execution_count": null,
   "id": "450c21b4-2543-40ed-80af-e82258e99034",
   "metadata": {},
   "outputs": [],
   "source": [
    "#Tidy up HR Location lookup column titles\n",
    "hr_location_lookup = hr_locations[[\"Location Name\"]].copy(deep=True)\n",
    "hr_location_lookup[\"HR Valid\"] = \"Valid\"\n",
    "hr_location_lookup.columns = [\"HR Location\", \"HR Valid\"]\n",
    "hr_location_lookup = hr_location_lookup.dropna().drop_duplicates()\n",
    "hr_location_lookup"
   ]
  },
  {
   "cell_type": "code",
   "execution_count": null,
   "id": "175d745b-60b9-4023-b857-7bb47f78b5cf",
   "metadata": {},
   "outputs": [],
   "source": [
    "#Tidy up Internal Function lookup column title\n",
    "internal_function_lookup = int_functions[['Internal Function', 'Internal Function Valid']].copy(deep=True)\n",
    "internal_function_lookup"
   ]
  },
  {
   "cell_type": "code",
   "execution_count": null,
   "id": "c7d93f84-46c7-4233-b617-85a233cc57fc",
   "metadata": {},
   "outputs": [],
   "source": [
    "len(internal_function_lookup)"
   ]
  },
  {
   "cell_type": "code",
   "execution_count": null,
   "id": "a4f834f5-8669-4a60-962d-3f96ffbb9171",
   "metadata": {},
   "outputs": [],
   "source": [
    "#Tidy up Job (title) lookup column title\n",
    "job_title_lookup = jobs[[\"Job\", \"Job Function Valid\"]].copy(deep=True)\n",
    "job_title_lookup = job_title_lookup.dropna().drop_duplicates()\n",
    "job_title_lookup"
   ]
  },
  {
   "cell_type": "code",
   "execution_count": null,
   "id": "a7afe5fa-500d-4d17-9f0d-50d31d73cf71",
   "metadata": {},
   "outputs": [],
   "source": [
    "# #Tidy up Job (band) lookup column title\n",
    "# new_header = job_band_lookup.iloc[0] #grab the first row for the header\n",
    "# job_band_lookup = job_band_lookup[1:] #take the data less the header row\n",
    "# job_band_lookup.columns = new_header #set the header row as the df header"
   ]
  },
  {
   "cell_type": "code",
   "execution_count": null,
   "id": "f9874892-99d8-476e-a964-f33cb68d57ce",
   "metadata": {},
   "outputs": [],
   "source": [
    "# job_band_lookup = look_ups[['Grade DY']]\n",
    "# job_band_lookup.head(3)"
   ]
  },
  {
   "cell_type": "code",
   "execution_count": null,
   "id": "79f689d8-4143-45a0-b5de-ca0ec5e20b29",
   "metadata": {},
   "outputs": [],
   "source": [
    "cost_centre_consistency = cost_centre_consistency[[\"Cost Centre\", \"Cost Centre Type\"]]\n",
    "cost_centre_consistency[\"Cost Centre\"]=cost_centre_consistency[\"Cost Centre\"].astype(\"Int64\")\n",
    "cost_centre_consistency.head(3)"
   ]
  },
  {
   "cell_type": "code",
   "execution_count": null,
   "id": "368e6889-c974-45da-aa85-4ad9fceb891f",
   "metadata": {},
   "outputs": [],
   "source": [
    "# Save all lookups in single excel file\n",
    "with io.BytesIO() as output:\n",
    "    with pd.ExcelWriter(output, engine='xlsxwriter') as writer:\n",
    "        cost_centre_lookup.to_excel(writer, sheet_name='Cost Centre Lookup')\n",
    "        internal_function_lookup.to_excel(writer, sheet_name='Internal Function Lookup')\n",
    "        hr_location_lookup.to_excel(writer, sheet_name='HR Location Lookup')\n",
    "        job_title_lookup.to_excel(writer, sheet_name='Job Title Lookup')\n",
    "        cost_centre_consistency.to_excel(writer, sheet_name=\"Cost Centre type\")\n",
    "    data = output.getvalue()\n",
    "s3 = boto3.resource('s3')\n",
    "s3.Bucket('alpha-piatool').put_object(Key='sopdq_AV/outputs/WFPT lookups.xlsx', Body=data)\n"
   ]
  },
  {
   "cell_type": "code",
   "execution_count": null,
   "id": "8c900c4c-e8f8-4664-8d62-a22af8213a7c",
   "metadata": {},
   "outputs": [],
   "source": [
    "################################################################################\n",
    "# Workforce Probation Error Report\n",
    "################################################################################"
   ]
  },
  {
   "cell_type": "code",
   "execution_count": null,
   "id": "84838b5b-6000-40a4-8053-1b91c644522f",
   "metadata": {},
   "outputs": [],
   "source": [
    "## Step 0: Create Sheet \"WfPT Probation Staff in Post\"\n",
    "### Use Probation Some HQ \n",
    "### Use cost_centre_consistency"
   ]
  },
  {
   "cell_type": "code",
   "execution_count": null,
   "id": "34cf872c-7d78-4678-8959-5c1eb9d334fe",
   "metadata": {},
   "outputs": [],
   "source": [
    "len(probation_some_hq)"
   ]
  },
  {
   "cell_type": "code",
   "execution_count": null,
   "id": "1c57d16a-89d6-43ae-8bb7-4dbcac678c5a",
   "metadata": {},
   "outputs": [],
   "source": [
    "probation_some_hq.columns"
   ]
  },
  {
   "cell_type": "code",
   "execution_count": null,
   "id": "4bfe9b21-7e68-4121-878e-e3427e0bfb43",
   "metadata": {},
   "outputs": [],
   "source": [
    "wfpt_probation_sip = pd.merge(probation_some_hq, cost_centre_consistency, on = \"Cost Centre\", how = \"left\")"
   ]
  },
  {
   "cell_type": "code",
   "execution_count": null,
   "id": "804dbea2-24dd-4e73-9592-634d9f6c33e6",
   "metadata": {},
   "outputs": [],
   "source": [
    "cols = ['Cost Centre Type', 'Internal Function', 'Job']\n",
    "wfpt_probation_sip[\"Joined CCType,IF, Job For Consistency Check\"] = wfpt_probation_sip[cols].apply(lambda row: ', '.join(row.values.astype(str)), axis=1)"
   ]
  },
  {
   "cell_type": "code",
   "execution_count": null,
   "id": "befec60e-8c54-43cc-a48f-9ab50f08e6d0",
   "metadata": {},
   "outputs": [],
   "source": [
    "##################################################################################################################"
   ]
  },
  {
   "cell_type": "code",
   "execution_count": null,
   "id": "00dbb3fa-3726-4a57-9a75-043f7a8b0fb8",
   "metadata": {},
   "outputs": [],
   "source": [
    "## Step 1: Create \"Cost Centre Error Flag\" column\n",
    "\n",
    "# Merge main to lookup on cost centre\n",
    "# If matched, \"Valid\", \n",
    "# If NA, \"Missing\", \n",
    "# If not NA and not matched, \"Invalid\""
   ]
  },
  {
   "cell_type": "code",
   "execution_count": null,
   "id": "bfbee508-ec82-485f-bc73-05e9987a2ffe",
   "metadata": {},
   "outputs": [],
   "source": [
    "wfpt_probation_sip2 = pd.merge(wfpt_probation_sip, cost_centre_lookup, on=\"Cost Centre\", how=\"left\")"
   ]
  },
  {
   "cell_type": "code",
   "execution_count": null,
   "id": "20a83ece-cf62-449b-b196-05157d3c539d",
   "metadata": {},
   "outputs": [],
   "source": [
    "wfpt_probation_sip2[\"Cost Centre Error Flag\"] = np.where(wfpt_probation_sip2[\"Cost Centre Number\"] == wfpt_probation_sip2[\"Cost Centre\"], \"Valid\", \n",
    "                                                         np.where(wfpt_probation_sip2[\"Cost Centre\"].isna(), \"Missing\", \"Invalid\"))"
   ]
  },
  {
   "cell_type": "code",
   "execution_count": null,
   "id": "12c47431-a96b-4e35-b328-64f2b8866adf",
   "metadata": {},
   "outputs": [],
   "source": [
    "print(\n",
    "    len(wfpt_probation_sip2[wfpt_probation_sip2[\"Cost Centre Error Flag\"]==\"Invalid\"]), \n",
    "    len(wfpt_probation_sip2[wfpt_probation_sip2[\"Cost Centre Error Flag\"]==\"Valid\"]), \n",
    "    len(wfpt_probation_sip2[wfpt_probation_sip2[\"Cost Centre Error Flag\"]==\"Missing\"]), \n",
    "    len(wfpt_probation_sip2)\n",
    ")"
   ]
  },
  {
   "cell_type": "code",
   "execution_count": null,
   "id": "84121b9d-9a6c-4e21-bf8e-f77c0778b2ad",
   "metadata": {},
   "outputs": [],
   "source": [
    "## Step 2: Create \"HR Location Error Flag\" column\n",
    "\n",
    "# Merge main to lookup on cost centre\n",
    "# If matched, \"Valid\", \n",
    "# If NA, \"Missing\", \n",
    "# If not NA and not matched, \"Invalid\""
   ]
  },
  {
   "cell_type": "code",
   "execution_count": null,
   "id": "110eafd8-4cd9-4ded-b4f5-fcb658a30581",
   "metadata": {},
   "outputs": [],
   "source": [
    "wfpt_probation_sip3 = pd.merge(wfpt_probation_sip2, hr_location_lookup, on=\"HR Location\", how=\"left\")"
   ]
  },
  {
   "cell_type": "code",
   "execution_count": null,
   "id": "eeb9adbd-8f69-4e44-b4dd-88a8c0228da2",
   "metadata": {},
   "outputs": [],
   "source": [
    "wfpt_probation_sip3[\"HR Location Error Flag\"] = np.where(wfpt_probation_sip3[\"HR Location\"].isnull(), \"Missing\", \n",
    "                                                         np.where(wfpt_probation_sip3[\"HR Valid\"].isnull(), \"Invalid\", \"Valid\"))"
   ]
  },
  {
   "cell_type": "code",
   "execution_count": null,
   "id": "b0d39ad7-9ccc-44bf-9e4d-e0317cd9ff84",
   "metadata": {},
   "outputs": [],
   "source": [
    "print(\n",
    "    r\"Invalid total: \", len(wfpt_probation_sip3[wfpt_probation_sip3[\"HR Location Error Flag\"]==\"Invalid\"]), \"\\n\",\n",
    "    r\"Valid total: \", len(wfpt_probation_sip3[wfpt_probation_sip3[\"HR Location Error Flag\"]==\"Valid\"]), \"\\n\", \n",
    "    r\"Missing Total: \", len(wfpt_probation_sip3[wfpt_probation_sip3[\"HR Location Error Flag\"]==\"Missing\"]), \"\\n\",\n",
    "    r\"Total Staff:\", len(wfpt_probation_sip3)\n",
    ")"
   ]
  },
  {
   "cell_type": "code",
   "execution_count": null,
   "id": "459d0cf8-53e6-4914-b29c-8563bf2a762f",
   "metadata": {},
   "outputs": [],
   "source": [
    "## Step 3: Create \"Internal Function Error Flag\" column\n",
    "\n",
    "# Merge main to lookup on cost centre\n",
    "# If matched, \"Valid\", \n",
    "# If NA, \"Missing\", \n",
    "# If not NA and not matched, \"Invalid\""
   ]
  },
  {
   "cell_type": "code",
   "execution_count": null,
   "id": "afd9615e-e619-43ef-8491-3f82efd94e88",
   "metadata": {},
   "outputs": [],
   "source": [
    "wfpt_probation_sip4 = pd.merge(wfpt_probation_sip3, internal_function_lookup, on=\"Internal Function\", how=\"left\")"
   ]
  },
  {
   "cell_type": "code",
   "execution_count": null,
   "id": "b129fa00-25d1-47d6-aa4c-ff6cb0243c0f",
   "metadata": {},
   "outputs": [],
   "source": [
    "wfpt_probation_sip4[\"Internal Function Error Flag\"] = np.where(wfpt_probation_sip4[\"Internal Function\"].isnull(), \"Missing\", \n",
    "                                                         np.where(wfpt_probation_sip4[\"Internal Function Valid\"].isnull(), \"Invalid\", \"Valid\"))"
   ]
  },
  {
   "cell_type": "code",
   "execution_count": null,
   "id": "9dbb706b-3721-4d20-bd25-9c0902922546",
   "metadata": {},
   "outputs": [],
   "source": [
    "print(\n",
    "    r\"Invalid total: \", len(wfpt_probation_sip4[wfpt_probation_sip4[\"Internal Function Error Flag\"]==\"Invalid\"]), \"\\n\",\n",
    "    r\"Valid total: \", len(wfpt_probation_sip4[wfpt_probation_sip4[\"Internal Function Error Flag\"]==\"Valid\"]), \"\\n\", \n",
    "    r\"Missing Total: \", len(wfpt_probation_sip4[wfpt_probation_sip4[\"Internal Function Error Flag\"]==\"Missing\"]), \"\\n\",\n",
    "    r\"Total Staff:\", len(wfpt_probation_sip4)\n",
    ")"
   ]
  },
  {
   "cell_type": "code",
   "execution_count": null,
   "id": "3bd11084-09d2-4d24-8d68-9dae3d64f6bb",
   "metadata": {},
   "outputs": [],
   "source": [
    "## Step 4: Create \"Job Error Flag\" column\n",
    "\n",
    "# Merge main to lookup on cost centre\n",
    "# If matched, \"Valid\", \n",
    "# If NA, \"Missing\", \n",
    "# If not NA and not matched, \"Invalid\""
   ]
  },
  {
   "cell_type": "code",
   "execution_count": null,
   "id": "78a8cf0b-6768-4c9e-8576-30c6dd891acb",
   "metadata": {},
   "outputs": [],
   "source": [
    "job_title_lookup.head(2)"
   ]
  },
  {
   "cell_type": "code",
   "execution_count": null,
   "id": "a0d24373-dcbf-47af-bb3c-abcedfc5b8df",
   "metadata": {},
   "outputs": [],
   "source": [
    "wfpt_probation_sip5 = pd.merge(wfpt_probation_sip4, job_title_lookup, on=\"Job\", how=\"left\")"
   ]
  },
  {
   "cell_type": "code",
   "execution_count": null,
   "id": "4a56ca4f-dffc-4380-849b-b9dd690ac843",
   "metadata": {},
   "outputs": [],
   "source": [
    "wfpt_probation_sip5.head(2)"
   ]
  },
  {
   "cell_type": "code",
   "execution_count": null,
   "id": "7c012d57-727a-44ba-83f2-89f7dcbd4d10",
   "metadata": {},
   "outputs": [],
   "source": [
    "wfpt_probation_sip5[\"Job Error Flag\"] = np.where(wfpt_probation_sip5[\"Job\"].isnull(), \"Missing\",\n",
    "                                                 np.where(wfpt_probation_sip5[\"Job Function Valid\"].isnull(), \"Invalid\", \"Valid\"))"
   ]
  },
  {
   "cell_type": "code",
   "execution_count": null,
   "id": "1e7db21a-025b-45be-b122-8d2d20f091a9",
   "metadata": {},
   "outputs": [],
   "source": [
    "print(\n",
    "    r\"Invalid total: \", len(wfpt_probation_sip5[wfpt_probation_sip5[\"Job Error Flag\"]==\"Invalid\"]), \"\\n\",\n",
    "    r\"Valid total: \", len(wfpt_probation_sip5[wfpt_probation_sip5[\"Job Error Flag\"]==\"Valid\"]), \"\\n\", \n",
    "    r\"Missing Total: \", len(wfpt_probation_sip5[wfpt_probation_sip5[\"Job Error Flag\"]==\"Missing\"]), \"\\n\",\n",
    "    r\"Total Staff:\", len(wfpt_probation_sip5)\n",
    ")"
   ]
  },
  {
   "cell_type": "code",
   "execution_count": null,
   "id": "588a8f55-a8ce-416f-a1d5-9e6291f0ba71",
   "metadata": {},
   "outputs": [],
   "source": [
    "wfpt_probation_sip5.head(1)"
   ]
  },
  {
   "cell_type": "code",
   "execution_count": null,
   "id": "aaf59b0d-46e6-4afe-96ef-dd4886d96484",
   "metadata": {},
   "outputs": [],
   "source": [
    "wfpt_probation_sip5.columns"
   ]
  },
  {
   "cell_type": "code",
   "execution_count": null,
   "id": "ef121890-8133-4ce2-9488-87dfe8037fe3",
   "metadata": {},
   "outputs": [],
   "source": [
    "wfpt_probation_sip_final = wfpt_probation_sip5.drop([\"Cost Centre Number\", \"HR Valid\", \"Internal Function Valid\", \"Job Function Valid\"], axis=1)"
   ]
  },
  {
   "cell_type": "code",
   "execution_count": null,
   "id": "e38a2421-4ba8-4a85-a867-59611646d352",
   "metadata": {},
   "outputs": [],
   "source": [
    "wfpt_probation_sip_final.head(2)"
   ]
  },
  {
   "cell_type": "code",
   "execution_count": null,
   "id": "9eb7e051-372a-46c2-8175-118e60eb24ea",
   "metadata": {},
   "outputs": [],
   "source": [
    "len(wfpt_probation_sip_final)"
   ]
  },
  {
   "cell_type": "code",
   "execution_count": null,
   "id": "9434934b-0c56-4843-8389-5753598acff3",
   "metadata": {},
   "outputs": [],
   "source": [
    "####################################################################################################################\n",
    "# Final Error Report\n",
    "####################################################################################################################"
   ]
  },
  {
   "cell_type": "code",
   "execution_count": null,
   "id": "70dc5665-5e25-4019-9b46-0eb148e8c7f5",
   "metadata": {},
   "outputs": [],
   "source": [
    "#################################################################\n",
    "# Step 1: WfPT data\n",
    "#################################################################"
   ]
  },
  {
   "cell_type": "code",
   "execution_count": null,
   "id": "e95322c6-ad7e-4e93-88a2-2d30fcd3fd87",
   "metadata": {},
   "outputs": [],
   "source": [
    "# WORKFORCE PLANNING TOOL DATA\n",
    "# Employee Number\n",
    "# Cost Centre\n",
    "# Cost Centre Description (Establishment)\n",
    "# HR Location\n",
    "# Internal Function\n",
    "# Grade\n",
    "# Job (title)\n",
    "# FTE\n",
    "# Location Postcode\n",
    "# Area_Directorate\n",
    "# Hours\n",
    "\n",
    "# ERROR FLAGS\n",
    "# Cost Centre Error Flag\n",
    "# HR Location Error Flag\n",
    "# Internal Function Error Flag\n",
    "# Job Error Flag"
   ]
  },
  {
   "cell_type": "code",
   "execution_count": null,
   "id": "5ca86048-8695-4d7c-887d-0b0bdb81055b",
   "metadata": {},
   "outputs": [],
   "source": [
    "wfpt_data = wfpt_probation_sip_final[[\"Employee Number\", \"Cost Centre\", \"Establishment\", \"HR Location\", \"Internal Function\", \n",
    "                                      \"Grade\", \"Job\", \"FTE\", \"Location Post Code\", \"Area_Directorate\", \"Hours\", \n",
    "                                     'Cost Centre Error Flag', 'HR Location Error Flag','Internal Function Error Flag', 'Job Error Flag']]"
   ]
  },
  {
   "cell_type": "code",
   "execution_count": null,
   "id": "b7764fb3-56ab-4a95-97c5-7f07f5125bcc",
   "metadata": {},
   "outputs": [],
   "source": [
    "wfpt_probation_sip_final.columns"
   ]
  },
  {
   "cell_type": "code",
   "execution_count": null,
   "id": "fc62c06d-bd3f-460d-b0f1-236d18f5aa8f",
   "metadata": {},
   "outputs": [],
   "source": [
    "wfpt_data.head(1)"
   ]
  },
  {
   "cell_type": "code",
   "execution_count": null,
   "id": "aa7fabe0-7c35-4662-9353-69aa6e1abddb",
   "metadata": {},
   "outputs": [],
   "source": [
    "#################################################################\n",
    "# Step 2: Tables % Valid\n",
    "#################################################################"
   ]
  },
  {
   "cell_type": "code",
   "execution_count": null,
   "id": "c8937978-5288-4a67-a03b-d893084bc1fc",
   "metadata": {},
   "outputs": [],
   "source": [
    "#################################################################\n",
    "# Rename columns\n",
    "#################################################################"
   ]
  },
  {
   "cell_type": "code",
   "execution_count": null,
   "id": "fb2a9ed4-6ce1-42da-abc1-c00857418784",
   "metadata": {},
   "outputs": [],
   "source": [
    "wfpt_data_report = wfpt_data.copy(deep=True)"
   ]
  },
  {
   "cell_type": "code",
   "execution_count": null,
   "id": "d12d9890-d547-496b-821c-2b337ac7082b",
   "metadata": {},
   "outputs": [],
   "source": [
    "wfpt_data_report.rename(columns={\"Establishment\" : 'Cost Centre Description (Establishment)', \"Job\" : 'Job (title)'}, inplace=True)"
   ]
  },
  {
   "cell_type": "code",
   "execution_count": null,
   "id": "13ba64d8-f245-4b58-b645-bdc709cf3ddf",
   "metadata": {},
   "outputs": [],
   "source": [
    "wfpt_data_report.head(1)"
   ]
  },
  {
   "cell_type": "code",
   "execution_count": null,
   "id": "f1d4f5d0-51b7-46d4-88af-2d442e5893b5",
   "metadata": {},
   "outputs": [],
   "source": [
    "#Columns: \n",
    "## Region (Area Directorate)\n",
    "## Total Cases\n",
    "### Number missing, Number invalid, Number valid\n",
    "## Cost Centre \n",
    "### Number missing, Number invalid, Number valid\n",
    "## HR Location\n",
    "### Number missing, Number invalid, Number valid\n",
    "## Internal Function\n",
    "### Number missing, Number invalid, Number valid\n",
    "## Job\n",
    "### Number missing, Number invalid, Number valid\n",
    "## Total Valid \n",
    "### Number missing, Number invalid, Number valid\n",
    "## Percentage point difference from England and Wales\n",
    "## Comparison with England and Wales\n",
    "## Trend June 2021 to March 2022"
   ]
  },
  {
   "cell_type": "code",
   "execution_count": null,
   "id": "29363924-216c-4d3b-a125-59ba03a07666",
   "metadata": {},
   "outputs": [],
   "source": [
    "#################################################################\n",
    "#Table 1: Number of errors and percentage of valid cases by Region and variable \n",
    "# (excluding Approved Premises in England and some HQ functions), \n",
    "# 31 March 2022 with trends\n",
    "################################################################## "
   ]
  },
  {
   "cell_type": "code",
   "execution_count": null,
   "id": "1f3e6686-9dcd-47b7-b14d-6c33396f5dce",
   "metadata": {},
   "outputs": [],
   "source": [
    "table1 = wfpt_data_report[[\"Area_Directorate\", \"Cost Centre Error Flag\", \"HR Location Error Flag\", \n",
    "                          \"Internal Function Error Flag\", \"Job Error Flag\"]]"
   ]
  },
  {
   "cell_type": "code",
   "execution_count": null,
   "id": "8cc5d9ef-20e7-4864-a1b9-451cc7d3515d",
   "metadata": {},
   "outputs": [],
   "source": [
    "#group by area directorate\n",
    "#sum total cases "
   ]
  },
  {
   "cell_type": "code",
   "execution_count": null,
   "id": "566e7af9-b9d1-4e74-886e-386b22fe401c",
   "metadata": {},
   "outputs": [],
   "source": [
    "table1.head(3)"
   ]
  },
  {
   "cell_type": "code",
   "execution_count": null,
   "id": "dd7cea79-b360-4413-aa2e-78fbdf18ad43",
   "metadata": {},
   "outputs": [],
   "source": [
    "#group by area directorate\n",
    "#Cost Centre: sum missing, invalid, valid, % of valid/total cases"
   ]
  },
  {
   "cell_type": "code",
   "execution_count": null,
   "id": "f2bd777d-d24f-474c-b124-2bdb7a75c2bc",
   "metadata": {},
   "outputs": [],
   "source": [
    "cols = ['Cost Centre Error Flag', 'HR Location Error Flag', 'Internal Function Error Flag', 'Job Error Flag']\n",
    "table1_valid_raw = []\n",
    "\n",
    "for col in cols:\n",
    "    df = pd.crosstab(table1['Area_Directorate'], table1[col])\n",
    "    df.columns = pd.MultiIndex.from_product([[col], df.columns.tolist()])\n",
    "    table1_valid_raw.append(df)\n",
    "\n",
    "table1_valid = pd.concat(table1_valid_raw, axis=1)"
   ]
  },
  {
   "cell_type": "code",
   "execution_count": null,
   "id": "d1652f6b-8bae-48a2-afb9-805fd3984ace",
   "metadata": {},
   "outputs": [],
   "source": [
    "table1_valid"
   ]
  },
  {
   "cell_type": "code",
   "execution_count": null,
   "id": "600e9a36-1c88-4675-9a87-e166a6624263",
   "metadata": {},
   "outputs": [],
   "source": [
    "complete_list = [('Cost Centre Error Flag', 'Invalid'),\n",
    "                 ('Cost Centre Error Flag', 'Valid'),\n",
    "                 ('Cost Centre Error Flag', 'Missing'),\n",
    "                 ('HR Location Error Flag', 'Invalid'),\n",
    "                 ('HR Location Error Flag', 'Missing'),\n",
    "                 ('HR Location Error Flag', 'Valid'),\n",
    "                 ('Internal Function Error Flag', 'Invalid'),\n",
    "                 ('Internal Function Error Flag', 'Missing'),\n",
    "                 ('Internal Function Error Flag', 'Valid'),\n",
    "                 ('Job Error Flag', 'Invalid'),\n",
    "                 ('Job Error Flag', 'Missing'),\n",
    "                 ('Job Error Flag', 'Valid')]"
   ]
  },
  {
   "cell_type": "code",
   "execution_count": null,
   "id": "83740a90-ff2f-4424-bf43-293d47184f2e",
   "metadata": {},
   "outputs": [],
   "source": [
    "missing_items_table1 = list(set(complete_list) - set(table1_valid.columns.to_list()))"
   ]
  },
  {
   "cell_type": "code",
   "execution_count": null,
   "id": "9871ab1f-1f1d-409b-b9ae-016e05aebf4a",
   "metadata": {},
   "outputs": [],
   "source": [
    "for item in missing_items_table1:\n",
    "    table1_valid[item] = 0\n",
    "    table1_valid = table1_valid.sort_index(axis=1)"
   ]
  },
  {
   "cell_type": "code",
   "execution_count": null,
   "id": "b2c61dcc-66f7-4124-8a2c-f9abd1da884d",
   "metadata": {},
   "outputs": [],
   "source": [
    "table1_valid.head(1)"
   ]
  },
  {
   "cell_type": "code",
   "execution_count": null,
   "id": "42c75c8d-e8f3-4c89-9e0c-5c0a080ddfdf",
   "metadata": {},
   "outputs": [],
   "source": [
    "table1_valid[(\"Total Cases\", \"\")] = (table1_valid[(\"Cost Centre Error Flag\", \"Invalid\")] + \n",
    "                                     table1_valid[(\"Cost Centre Error Flag\", \"Valid\")] + \n",
    "                                     table1_valid[(\"Cost Centre Error Flag\", \"Missing\")])"
   ]
  },
  {
   "cell_type": "code",
   "execution_count": null,
   "id": "70a3f076-a70f-4b3d-b634-d03b6451e1c2",
   "metadata": {},
   "outputs": [],
   "source": [
    "table1_valid.head(3)"
   ]
  },
  {
   "cell_type": "code",
   "execution_count": null,
   "id": "8ef3dfbd-afe0-41a3-9fe7-f093efa16e7e",
   "metadata": {},
   "outputs": [],
   "source": [
    "table1_valid[(\"Cost Centre Error Flag\", \"% valid\")] = table1_valid[(\"Cost Centre Error Flag\", \"Valid\")] / table1_valid[(\"Total Cases\", \"\")]\n",
    "\n",
    "table1_valid[(\"HR Location Error Flag\", \"% valid\")] = table1_valid[(\"HR Location Error Flag\", \"Valid\")] /table1_valid[(\"Total Cases\", \"\")]\n",
    "\n",
    "table1_valid[(\"Internal Function Error Flag\", \"% valid\")] = table1_valid[(\"Internal Function Error Flag\", \"Valid\")] /table1_valid[(\"Total Cases\", \"\")]\n",
    "\n",
    "table1_valid[(\"Job Error Flag\", \"% valid\")] =table1_valid[(\"Job Error Flag\", \"Valid\")] /table1_valid[(\"Total Cases\", \"\")]"
   ]
  },
  {
   "cell_type": "code",
   "execution_count": null,
   "id": "20140eac-b49e-408b-a62d-5c7ef60bf681",
   "metadata": {},
   "outputs": [],
   "source": [
    "table1_valid = table1_valid.sort_index(axis=1)"
   ]
  },
  {
   "cell_type": "code",
   "execution_count": null,
   "id": "c3263e06-abf8-4387-9335-723904949aae",
   "metadata": {},
   "outputs": [],
   "source": [
    "#formatting for template\n",
    "table1_valid[\"\"] = \"\"\n",
    "table1_valid[\" \"] = \" \""
   ]
  },
  {
   "cell_type": "code",
   "execution_count": null,
   "id": "b32055bb-a4a5-47f7-8a14-88654c3976c4",
   "metadata": {},
   "outputs": [],
   "source": [
    "table1_valid[(\"Total Valid\", \"Missing\")] = (table1_valid[(\"Cost Centre Error Flag\", \"Missing\")] +\n",
    "                                                  table1_valid[(\"HR Location Error Flag\", \"Missing\")] +\n",
    "                                                  table1_valid[(\"Internal Function Error Flag\", \"Missing\")] +\n",
    "                                                  table1_valid[(\"Job Error Flag\", \"Missing\")])\n",
    "\n",
    "table1_valid[(\"Total Valid\", \"Invalid\")] = (table1_valid[(\"Cost Centre Error Flag\", \"Invalid\")] +\n",
    "                                                  table1_valid[(\"HR Location Error Flag\", \"Invalid\")] +\n",
    "                                                  table1_valid[(\"Internal Function Error Flag\", \"Invalid\")] +\n",
    "                                                  table1_valid[(\"Job Error Flag\", \"Invalid\")])\n",
    "\n",
    "table1_valid[(\"Total Valid\", \"Valid\")] = (table1_valid[(\"Cost Centre Error Flag\", \"Valid\")] +\n",
    "                                                  table1_valid[(\"HR Location Error Flag\", \"Valid\")] +\n",
    "                                                  table1_valid[(\"Internal Function Error Flag\", \"Valid\")] +\n",
    "                                                  table1_valid[(\"Job Error Flag\", \"Valid\")])"
   ]
  },
  {
   "cell_type": "code",
   "execution_count": null,
   "id": "2f3acefc-d088-4a52-885c-9388ddadd052",
   "metadata": {},
   "outputs": [],
   "source": [
    "england_and_wales = (sum(table1_valid[(\"Total Valid\", \"Valid\")]) / \n",
    "                     (sum(table1_valid[(\"Total Valid\", \"Missing\")]) + \n",
    "                      sum(table1_valid[(\"Total Valid\", \"Invalid\")]) + \n",
    "                      sum(table1_valid[(\"Total Valid\", \"Valid\")])))\n",
    "england_and_wales "
   ]
  },
  {
   "cell_type": "code",
   "execution_count": null,
   "id": "f2265549-a882-4226-a671-e63617d80799",
   "metadata": {},
   "outputs": [],
   "source": [
    "# table1_valid[(\"Total Valid\", \"% valid\")] = (table1_valid[(\"Total Valid\", \"Valid\")] / \n",
    "#                                                   (table1_valid[(\"Total Valid\", \"Valid\")] + \n",
    "#                                                    table1_valid[(\"Total Valid\", \"Invalid\")] + \n",
    "#                                                    table1_valid[(\"Total Valid\", \"Missing\")]))"
   ]
  },
  {
   "cell_type": "code",
   "execution_count": null,
   "id": "47ca6425-0577-441e-9497-986dadef0beb",
   "metadata": {},
   "outputs": [],
   "source": [
    "table1_valid[(\"Total Valid\", \"% valid\")] = (table1_valid[(\"Total Valid\", \"Valid\")] / \n",
    "                                            (table1_valid[(\"Total Cases\", \"\")]*4))"
   ]
  },
  {
   "cell_type": "code",
   "execution_count": null,
   "id": "bfe8f563-1f39-448c-9fcd-bb0c88ce1b32",
   "metadata": {},
   "outputs": [],
   "source": [
    "table1_valid[(\"Percentage point difference from England and Wales\", \"\")] = (table1_valid[(\"Total Valid\", \"% valid\")] - england_and_wales)*100"
   ]
  },
  {
   "cell_type": "code",
   "execution_count": null,
   "id": "ff14e273-2373-4341-ab8a-b23fd987b183",
   "metadata": {},
   "outputs": [],
   "source": [
    "table1_final = table1_valid.copy(deep = True)"
   ]
  },
  {
   "cell_type": "code",
   "execution_count": null,
   "id": "cdeeb3d0-67a9-4652-8edf-eede025a4780",
   "metadata": {},
   "outputs": [],
   "source": [
    "table1_final.columns"
   ]
  },
  {
   "cell_type": "code",
   "execution_count": null,
   "id": "0348ad72-6e9d-40a1-8692-60f010efaf4c",
   "metadata": {},
   "outputs": [],
   "source": [
    "table1_final = table1_final[[\n",
    "            (                                                  '',        ''),\n",
    "            (                                                 ' ',        ''),\n",
    "            (                                       'Total Cases',        ''),\n",
    "    \n",
    "            (                            'Cost Centre Error Flag', 'Missing'),\n",
    "            (                            'Cost Centre Error Flag', 'Invalid'),\n",
    "            (                            'Cost Centre Error Flag',   'Valid'),\n",
    "            (                            'Cost Centre Error Flag', '% valid'),\n",
    "\n",
    "            (                            'HR Location Error Flag', 'Missing'),\n",
    "            (                            'HR Location Error Flag', 'Invalid'),\n",
    "            (                            'HR Location Error Flag',   'Valid'),\n",
    "            (                            'HR Location Error Flag', '% valid'),\n",
    " \n",
    "            (                      'Internal Function Error Flag', 'Missing'),\n",
    "            (                      'Internal Function Error Flag', 'Invalid'),\n",
    "            (                      'Internal Function Error Flag',   'Valid'),\n",
    "            (                      'Internal Function Error Flag', '% valid'),\n",
    "    \n",
    "            (                                    'Job Error Flag', 'Missing'),\n",
    "            (                                    'Job Error Flag', 'Invalid'),\n",
    "            (                                    'Job Error Flag',   'Valid'),\n",
    "            (                                    'Job Error Flag', '% valid'),\n",
    "    \n",
    "            (                                       'Total Valid', 'Missing'),\n",
    "            (                                       'Total Valid', 'Invalid'),\n",
    "            (                                       'Total Valid',   'Valid'),\n",
    "            (                                       'Total Valid', '% valid'),\n",
    "    \n",
    "            ('Percentage point difference from England and Wales',        '')]]"
   ]
  },
  {
   "cell_type": "code",
   "execution_count": null,
   "id": "6f165f42-365d-40e6-887b-b3688caa0ca4",
   "metadata": {},
   "outputs": [],
   "source": [
    "table1_final"
   ]
  },
  {
   "cell_type": "code",
   "execution_count": null,
   "id": "73deecc3-64e0-4d8b-9a69-719467b6d4c6",
   "metadata": {},
   "outputs": [],
   "source": [
    "###########################################################################\n",
    "# Table 2: Number of errors and percentage of valid cases by Region and variable \n",
    "# (excluding Approved Premises in England and some HQ functions), \n",
    "# 31 March 2022 with trends\n",
    "############################################################################"
   ]
  },
  {
   "cell_type": "code",
   "execution_count": null,
   "id": "5b5f07dc-8531-46eb-9f88-e4a504d64869",
   "metadata": {},
   "outputs": [],
   "source": [
    "wfpt_data_report.columns"
   ]
  },
  {
   "cell_type": "code",
   "execution_count": null,
   "id": "d2ca0fed-b0c9-492a-82ab-2b391f7aa66c",
   "metadata": {},
   "outputs": [],
   "source": [
    "table2 = wfpt_data_report[[\"Area_Directorate\", \"Cost Centre Description (Establishment)\", \"Cost Centre\", \n",
    "                           \"Cost Centre Error Flag\", \"HR Location Error Flag\", \"Internal Function Error Flag\", \"Job Error Flag\"]]"
   ]
  },
  {
   "cell_type": "code",
   "execution_count": null,
   "id": "82fc87bb-2840-47ef-b685-4606fb45c559",
   "metadata": {},
   "outputs": [],
   "source": [
    "table2.head()"
   ]
  },
  {
   "cell_type": "code",
   "execution_count": null,
   "id": "6f5f5ebf-dbb2-4933-9648-3223e49b2185",
   "metadata": {},
   "outputs": [],
   "source": [
    "cols = ['Cost Centre Error Flag', 'HR Location Error Flag', 'Internal Function Error Flag', 'Job Error Flag']\n",
    "table2_valid_raw = []\n",
    "\n",
    "for col in cols:\n",
    "    df = pd.crosstab(table2[\"Cost Centre\"], table2[col])\n",
    "    df.columns = pd.MultiIndex.from_product([[col], df.columns.tolist()])\n",
    "    table2_valid_raw.append(df)\n",
    "\n",
    "table2_valid = pd.concat(table2_valid_raw, axis=1)"
   ]
  },
  {
   "cell_type": "code",
   "execution_count": null,
   "id": "834cc87a-93ef-413d-bad6-8046433dab08",
   "metadata": {},
   "outputs": [],
   "source": [
    "missing_items_table2 = list(set(complete_list) - set(table2_valid.columns.to_list()))"
   ]
  },
  {
   "cell_type": "code",
   "execution_count": null,
   "id": "86f4e178-cb5a-4834-800d-9fbf667df20f",
   "metadata": {},
   "outputs": [],
   "source": [
    "for item in missing_items_table2:\n",
    "    table2_valid[item] = 0\n",
    "    table2_valid = table2_valid.sort_index(axis=1)"
   ]
  },
  {
   "cell_type": "code",
   "execution_count": null,
   "id": "9700d761-d24a-4d86-aaef-43d71257264f",
   "metadata": {},
   "outputs": [],
   "source": [
    "table2_valid"
   ]
  },
  {
   "cell_type": "code",
   "execution_count": null,
   "id": "3000f680-13d7-491c-be6f-d4c03c6fd19a",
   "metadata": {},
   "outputs": [],
   "source": [
    "table2_valid[(\"Total Cases\", \"\")] = (table2_valid[(\"Cost Centre Error Flag\", \"Invalid\")] + \n",
    "                                     table2_valid[(\"Cost Centre Error Flag\", \"Valid\")] + \n",
    "                                     table2_valid[(\"Cost Centre Error Flag\", \"Missing\")])"
   ]
  },
  {
   "cell_type": "code",
   "execution_count": null,
   "id": "165a5f47-5ce7-4974-b32b-c4f14533f9c1",
   "metadata": {},
   "outputs": [],
   "source": [
    "table2_valid[(\"Cost Centre Error Flag\", \"% valid\")] = table2_valid[(\"Cost Centre Error Flag\", \"Valid\")] / table2_valid[(\"Total Cases\", \"\")]\n",
    "\n",
    "table2_valid[(\"HR Location Error Flag\", \"% valid\")] = table2_valid[(\"HR Location Error Flag\", \"Valid\")] /table2_valid[(\"Total Cases\", \"\")]\n",
    "\n",
    "table2_valid[(\"Internal Function Error Flag\", \"% valid\")] = table2_valid[(\"Internal Function Error Flag\", \"Valid\")] /table2_valid[(\"Total Cases\", \"\")]\n",
    "\n",
    "table2_valid[(\"Job Error Flag\", \"% valid\")] = table2_valid[(\"Job Error Flag\", \"Valid\")] /table2_valid[(\"Total Cases\", \"\")]"
   ]
  },
  {
   "cell_type": "code",
   "execution_count": null,
   "id": "aef8cc69-b609-4cec-bfd0-aa39f0a230e8",
   "metadata": {},
   "outputs": [],
   "source": [
    "table2_valid = table2_valid.sort_index(axis=1)"
   ]
  },
  {
   "cell_type": "code",
   "execution_count": null,
   "id": "d0ebd06f-13ad-4bee-9090-1964a966c079",
   "metadata": {},
   "outputs": [],
   "source": [
    "table2_valid[(\"Total Valid\", \"Missing\")] = (table2_valid[(\"Cost Centre Error Flag\", \"Missing\")] +\n",
    "                                                  table2_valid[(\"HR Location Error Flag\", \"Missing\")] +\n",
    "                                                  table2_valid[(\"Internal Function Error Flag\", \"Missing\")] +\n",
    "                                                  table2_valid[(\"Job Error Flag\", \"Missing\")])\n",
    "\n",
    "table2_valid[(\"Total Valid\", \"Invalid\")] = (table2_valid[(\"Cost Centre Error Flag\", \"Invalid\")] +\n",
    "                                                  table2_valid[(\"HR Location Error Flag\", \"Invalid\")] +\n",
    "                                                  table2_valid[(\"Internal Function Error Flag\", \"Invalid\")] +\n",
    "                                                  table2_valid[(\"Job Error Flag\", \"Invalid\")])\n",
    "\n",
    "table2_valid[(\"Total Valid\", \"Valid\")] = (table2_valid[(\"Cost Centre Error Flag\", \"Valid\")] +\n",
    "                                                  table2_valid[(\"HR Location Error Flag\", \"Valid\")] +\n",
    "                                                  table2_valid[(\"Internal Function Error Flag\", \"Valid\")] +\n",
    "                                                  table2_valid[(\"Job Error Flag\", \"Valid\")])"
   ]
  },
  {
   "cell_type": "code",
   "execution_count": null,
   "id": "647ac052-6f15-4d51-8049-d3da7a29190f",
   "metadata": {},
   "outputs": [],
   "source": [
    "england_and_wales = (sum(table2_valid[(\"Total Valid\", \"Valid\")]) / \n",
    "                     (sum(table2_valid[(\"Total Valid\", \"Missing\")]) + \n",
    "                      sum(table2_valid[(\"Total Valid\", \"Invalid\")]) + \n",
    "                      sum(table2_valid[(\"Total Valid\", \"Valid\")])))\n",
    "england_and_wales "
   ]
  },
  {
   "cell_type": "code",
   "execution_count": null,
   "id": "80e0d6a0-0b03-4f37-b0ac-f30c4feefcb3",
   "metadata": {},
   "outputs": [],
   "source": [
    "table2_valid[(\"Total Valid\", \"% valid\")] = (table2_valid[(\"Total Valid\", \"Valid\")] / \n",
    "                                            (table2_valid[(\"Total Cases\", \"\")]*4))\n",
    "                                                  "
   ]
  },
  {
   "cell_type": "code",
   "execution_count": null,
   "id": "486fd56f-173d-47c3-b7c8-c9b4f0cf55ac",
   "metadata": {},
   "outputs": [],
   "source": [
    "table2_valid.iloc[5]"
   ]
  },
  {
   "cell_type": "code",
   "execution_count": null,
   "id": "64c1ac67-3d9d-401b-9d63-52e29eac4806",
   "metadata": {},
   "outputs": [],
   "source": [
    "table2_details = table2[[\"Area_Directorate\", \"Cost Centre\", \"Cost Centre Description (Establishment)\"]]\n",
    "table2_details = table2_details.drop_duplicates(ignore_index = True)\n",
    "table2_details = table2_details.set_index(\"Cost Centre\")\n",
    "table2_details.columns = [table2_details.columns, [\"\", \"Establishment\"]]\n",
    "table2_details"
   ]
  },
  {
   "cell_type": "code",
   "execution_count": null,
   "id": "459c37fb-4e5e-442d-b7f7-b667fd64a577",
   "metadata": {},
   "outputs": [],
   "source": [
    "table2_final = table2_valid.join(table2_details)\n",
    "table2_final.reset_index()"
   ]
  },
  {
   "cell_type": "code",
   "execution_count": null,
   "id": "2d674220-0bb6-4cdc-8a8b-8f1a9774f70b",
   "metadata": {},
   "outputs": [],
   "source": [
    "table2_final.head(2)"
   ]
  },
  {
   "cell_type": "code",
   "execution_count": null,
   "id": "4ad614e5-bcd2-493e-bd72-47bcf4eb4447",
   "metadata": {},
   "outputs": [],
   "source": [
    "table2_final_version = table2_final.reset_index()"
   ]
  },
  {
   "cell_type": "code",
   "execution_count": null,
   "id": "3ca8b79d-b34f-4c76-9a37-1934c16fc949",
   "metadata": {},
   "outputs": [],
   "source": [
    "table2_final_version = table2_final_version.set_index(\"Area_Directorate\")"
   ]
  },
  {
   "cell_type": "code",
   "execution_count": null,
   "id": "69c11d97-0df1-4a80-8ddc-69aa88145c36",
   "metadata": {},
   "outputs": [],
   "source": [
    "table2_final_version.columns"
   ]
  },
  {
   "cell_type": "code",
   "execution_count": null,
   "id": "926f8ac0-4c23-4ddb-b382-85a875dfc79c",
   "metadata": {},
   "outputs": [],
   "source": [
    "table2_final_version = table2_final_version[[(\"Cost Centre\", \"\"),\n",
    "            ('Cost Centre Description (Establishment)', 'Establishment'),\n",
    "            ('Total Cases',        ''),\n",
    "            ('Cost Centre Error Flag', 'Missing'),\n",
    "            ('Cost Centre Error Flag', 'Invalid'),\n",
    "            ('Cost Centre Error Flag',   'Valid'),\n",
    "            ('Cost Centre Error Flag', '% valid'),\n",
    "            \n",
    "            ('HR Location Error Flag', 'Missing'),\n",
    "            ('HR Location Error Flag', 'Invalid'),\n",
    "            ('HR Location Error Flag',   'Valid'),\n",
    "            ('HR Location Error Flag', '% valid'),\n",
    "                                             \n",
    "\n",
    "            ('Internal Function Error Flag', 'Missing'),\n",
    "            ('Internal Function Error Flag', 'Invalid'),\n",
    "            ('Internal Function Error Flag',   'Valid'),\n",
    "            ('Internal Function Error Flag', '% valid'),\n",
    "                                             \n",
    "            ('Job Error Flag', 'Missing'),\n",
    "            ('Job Error Flag', 'Invalid'),\n",
    "            ('Job Error Flag',   'Valid'),\n",
    "            ('Job Error Flag', '% valid'),\n",
    "                                             \n",
    "            ('Total Valid', 'Missing'),\n",
    "            ('Total Valid', 'Invalid'),\n",
    "            ('Total Valid',   'Valid'),\n",
    "            ('Total Valid', '% valid')]]"
   ]
  },
  {
   "cell_type": "code",
   "execution_count": null,
   "id": "9416aed2-ae55-44f7-8ada-4d6e6b1c39ed",
   "metadata": {},
   "outputs": [],
   "source": [
    "table2_final_version[(\"Difference of % valid from England and Wales\", \"\")] = round((table2_final_version[(\"Total Valid\", \"% valid\")] - england_and_wales)*100,1)\n",
    "table2_final_version[(\"Total Valid\", \"% valid\")] = round(table2_final_version[(\"Total Valid\", \"% valid\")],3)"
   ]
  },
  {
   "cell_type": "code",
   "execution_count": null,
   "id": "098bd9eb-59ab-4da0-be8e-421b60d5c328",
   "metadata": {},
   "outputs": [],
   "source": [
    "table2_final = table2_final_version.copy(deep = True).sort_values(by = ['Area_Directorate', 'Cost Centre'], na_position = 'first')"
   ]
  },
  {
   "cell_type": "code",
   "execution_count": null,
   "id": "ca29acfd-0d03-423c-816c-c87cc5fac819",
   "metadata": {},
   "outputs": [],
   "source": [
    "table2_final.head(6)"
   ]
  },
  {
   "cell_type": "code",
   "execution_count": null,
   "id": "4fc2ee76-e020-4c54-931a-ec16624a5557",
   "metadata": {},
   "outputs": [],
   "source": []
  },
  {
   "cell_type": "code",
   "execution_count": null,
   "id": "2d145f5c-e9ad-4d72-9453-c4394534895b",
   "metadata": {},
   "outputs": [],
   "source": [
    "#################################################################\n",
    "#Table 3: Number and percentage of complete cases by Region and variable \n",
    "#(excluding Approved Premises in England and some HQ functions), 31 March 2022\n",
    "################################################################## "
   ]
  },
  {
   "cell_type": "code",
   "execution_count": null,
   "id": "fdfcada1-6cd7-46a6-8189-5f032416b18f",
   "metadata": {},
   "outputs": [],
   "source": [
    "table1_valid.head(1)"
   ]
  },
  {
   "cell_type": "code",
   "execution_count": null,
   "id": "2a93811d-9cf5-4a80-8d8c-3f4d13de6d7c",
   "metadata": {},
   "outputs": [],
   "source": [
    "# Table 3 is just Table 1 with invalid and valid treated as complete. \n",
    "table3_complete = table1_valid.copy(deep = True)"
   ]
  },
  {
   "cell_type": "code",
   "execution_count": null,
   "id": "b287a66f-5c75-4cda-8a20-b694307a4a1e",
   "metadata": {},
   "outputs": [],
   "source": [
    "table3_complete[(\"Cost Centre Error Flag\", \"Complete\")] = (table3_complete[(\"Cost Centre Error Flag\", \"Valid\")] +\n",
    "                                                           table3_complete[(\"Cost Centre Error Flag\", \"Invalid\")]) \n",
    "                                                                    \n",
    "\n",
    "table3_complete[(\"HR Location Error Flag\", \"Complete\")] = (table3_complete[(\"HR Location Error Flag\", \"Valid\")] + \n",
    "                                                             table3_complete[(\"HR Location Error Flag\", \"Invalid\")])\n",
    "\n",
    "table3_complete[(\"Internal Function Error Flag\", \"Complete\")] = (table3_complete[(\"Internal Function Error Flag\", \"Valid\")] +\n",
    "                                                                 table3_complete[(\"Internal Function Error Flag\", \"Invalid\")])\n",
    "\n",
    "table3_complete[(\"Job Error Flag\", \"Complete\")] = (table3_complete[(\"Job Error Flag\", \"Valid\")] +\n",
    "                                                   table3_complete[(\"Job Error Flag\", \"Invalid\")])"
   ]
  },
  {
   "cell_type": "code",
   "execution_count": null,
   "id": "44447a1b-0bdc-4b2f-bf27-1d964cb9142e",
   "metadata": {},
   "outputs": [],
   "source": [
    "table3_complete.head(1)"
   ]
  },
  {
   "cell_type": "code",
   "execution_count": null,
   "id": "bf672fd3-1fad-4c7d-be55-5e9760c88a8a",
   "metadata": {},
   "outputs": [],
   "source": [
    "table3_complete[(\"Cost Centre Error Flag\", \"% complete\")] = (table3_complete[(\"Cost Centre Error Flag\", \"Complete\")] /\n",
    "                                                                       table3_complete[(\"Total Cases\", \"\")])\n",
    "\n",
    "table3_complete[(\"HR Location Error Flag\", \"% complete\")] = (table3_complete[(\"HR Location Error Flag\", \"Complete\")] /\n",
    "                                                                       table3_complete[(\"Total Cases\", \"\")])\n",
    "\n",
    "table3_complete[(\"Internal Function Error Flag\", \"% complete\")] = (table3_complete[(\"Internal Function Error Flag\", \"Complete\")] /\n",
    "                                                                             table3_complete[(\"Total Cases\", \"\")])\n",
    "\n",
    "table3_complete[(\"Job Error Flag\", \"% complete\")] = (table3_complete[(\"Job Error Flag\", \"Complete\")] /\n",
    "                                                               table3_complete[(\"Total Cases\", \"\")])\n"
   ]
  },
  {
   "cell_type": "code",
   "execution_count": null,
   "id": "4ec8e8d8-a31e-4107-8036-96f21ebd3d72",
   "metadata": {},
   "outputs": [],
   "source": [
    "table3_complete"
   ]
  },
  {
   "cell_type": "code",
   "execution_count": null,
   "id": "52375468-6572-45fb-b7bb-32a3ad748b4a",
   "metadata": {},
   "outputs": [],
   "source": [
    "table3_complete[(\"Total Complete\", \"Missing\")] = (table3_complete[(\"Cost Centre Error Flag\", \"Missing\")] + \n",
    "                                                  table3_complete[(\"HR Location Error Flag\", \"Missing\")] + \n",
    "                                                  table3_complete[(\"Internal Function Error Flag\", \"Missing\")] + \n",
    "                                                  table3_complete[(\"Job Error Flag\", \"Missing\")])\n",
    "\n",
    "table3_complete[(\"Total Complete\", \"Complete\")] = (table3_complete[(\"Cost Centre Error Flag\", \"Complete\")] + \n",
    "                                                  table3_complete[(\"HR Location Error Flag\", \"Complete\")] + \n",
    "                                                  table3_complete[(\"Internal Function Error Flag\", \"Complete\")] + \n",
    "                                                  table3_complete[(\"Job Error Flag\", \"Complete\")])\n",
    "\n",
    "table3_complete[(\"Total Complete\", \"% complete\")] = ( (table3_complete[(\"Total Complete\", \"Complete\")]) /\n",
    "                                                    (table3_complete[(\"Total Complete\", \"Missing\")] + table3_complete[(\"Total Complete\", \"Complete\")]))"
   ]
  },
  {
   "cell_type": "code",
   "execution_count": null,
   "id": "ed0b05be-4976-4f58-8276-cfb3a9a9bb6b",
   "metadata": {},
   "outputs": [],
   "source": [
    "#formatting for template\n",
    "table3_complete[\"\"] = \"\"\n",
    "table3_complete[\" \"] = \" \""
   ]
  },
  {
   "cell_type": "code",
   "execution_count": null,
   "id": "081186db-7035-4023-bc6e-0f49d151f954",
   "metadata": {},
   "outputs": [],
   "source": [
    "table3_complete"
   ]
  },
  {
   "cell_type": "code",
   "execution_count": null,
   "id": "d561056d-70f8-4f4f-b6ef-b8de4d17c73a",
   "metadata": {},
   "outputs": [],
   "source": [
    "table3_complete.columns"
   ]
  },
  {
   "cell_type": "code",
   "execution_count": null,
   "id": "12f35856-a5bb-430d-b551-ad045306978a",
   "metadata": {},
   "outputs": [],
   "source": [
    "table3_final = table3_complete[[(                                                  '', ''),\n",
    "                                (                                                 ' ', ''),\n",
    "                                ('Total Cases', \"\"),\n",
    "                                ('Cost Centre Error Flag', \"Missing\"),\n",
    "                                ('Cost Centre Error Flag', \"Complete\"),\n",
    "                                ('Cost Centre Error Flag', \"% complete\"),\n",
    "                                \n",
    "                                ('HR Location Error Flag', \"Missing\"),\n",
    "                                ('HR Location Error Flag', \"Complete\"),\n",
    "                                ('HR Location Error Flag', \"% complete\"),\n",
    "                                \n",
    "                                ('Internal Function Error Flag', \"Missing\"),\n",
    "                                ('Internal Function Error Flag', \"Complete\"),\n",
    "                                ('Internal Function Error Flag', \"% complete\"),\n",
    "                                \n",
    "                                ('Job Error Flag', \"Missing\"),\n",
    "                                ('Job Error Flag', \"Complete\"),\n",
    "                                ('Job Error Flag', \"% complete\"),\n",
    "                                \n",
    "                                ('Total Complete', \"Missing\"),\n",
    "                                ('Total Complete', \"Complete\"),\n",
    "                                ('Total Complete', \"% complete\")]]"
   ]
  },
  {
   "cell_type": "code",
   "execution_count": null,
   "id": "e68759bd-ed18-4fcf-b6ea-aa6aad11ac7c",
   "metadata": {},
   "outputs": [],
   "source": [
    "#################################################################\n",
    "#Table 4: Number and percentage of complete cases by Region, variable and Cost Centre \n",
    "#(excluding Approved Premises in England and some HQ functions), 31 March 2022\n",
    "################################################################## "
   ]
  },
  {
   "cell_type": "code",
   "execution_count": null,
   "id": "c46490bf-8a7f-4722-8f0a-41ddf03ecf8c",
   "metadata": {},
   "outputs": [],
   "source": [
    "table2_final_version.head(1)"
   ]
  },
  {
   "cell_type": "code",
   "execution_count": null,
   "id": "a44cf06f-fcce-42f8-b216-01d775efcb29",
   "metadata": {},
   "outputs": [],
   "source": [
    "table4_complete = table2_final_version.copy(deep=True)"
   ]
  },
  {
   "cell_type": "code",
   "execution_count": null,
   "id": "e0328814-0846-4df7-8ab2-eaeb5a5df7a8",
   "metadata": {},
   "outputs": [],
   "source": [
    "table4_complete.head(1)"
   ]
  },
  {
   "cell_type": "code",
   "execution_count": null,
   "id": "70498e7f-83a2-4b0a-9240-61b71b4cbb3c",
   "metadata": {},
   "outputs": [],
   "source": [
    "table4_complete[(\"Cost Centre Error Flag\", \"Complete\")] = (table4_complete[(\"Cost Centre Error Flag\", \"Valid\")] +\n",
    "                                                           table4_complete[(\"Cost Centre Error Flag\", \"Invalid\")]) \n",
    "                                                                    \n",
    "table4_complete[(\"HR Location Error Flag\", \"Complete\")] = (table4_complete[(\"HR Location Error Flag\", \"Valid\")] + \n",
    "                                                             table4_complete[(\"HR Location Error Flag\", \"Invalid\")])\n",
    "\n",
    "table4_complete[(\"Internal Function Error Flag\", \"Complete\")] = (table4_complete[(\"Internal Function Error Flag\", \"Valid\")] +\n",
    "                                                                 table4_complete[(\"Internal Function Error Flag\", \"Invalid\")])\n",
    "\n",
    "table4_complete[(\"Job Error Flag\", \"Complete\")] = (table4_complete[(\"Job Error Flag\", \"Valid\")] +\n",
    "                                                   table4_complete[(\"Job Error Flag\", \"Invalid\")])"
   ]
  },
  {
   "cell_type": "code",
   "execution_count": null,
   "id": "49b9c862-3a72-40fb-8b93-6bcf1eb7fe07",
   "metadata": {},
   "outputs": [],
   "source": [
    "table4_complete[(\"Cost Centre Error Flag\", \"% complete\")] = (table4_complete[(\"Cost Centre Error Flag\", \"Complete\")] /\n",
    "                                                                       table4_complete[(\"Total Cases\", \"\")])\n",
    "\n",
    "table4_complete[(\"HR Location Error Flag\", \"% complete\")] = (table4_complete[(\"HR Location Error Flag\", \"Complete\")] /\n",
    "                                                                       table4_complete[(\"Total Cases\", \"\")])\n",
    "\n",
    "table4_complete[(\"Internal Function Error Flag\", \"% complete\")] = (table4_complete[(\"Internal Function Error Flag\", \"Complete\")] /\n",
    "                                                                             table4_complete[(\"Total Cases\", \"\")])\n",
    "\n",
    "table4_complete[(\"Job Error Flag\", \"% complete\")] = (table4_complete[(\"Job Error Flag\", \"Complete\")] /\n",
    "                                                               table4_complete[(\"Total Cases\", \"\")])\n"
   ]
  },
  {
   "cell_type": "code",
   "execution_count": null,
   "id": "86265434-c466-4454-9963-e1b14a1abcf6",
   "metadata": {},
   "outputs": [],
   "source": [
    "table4_complete[(\"Total Complete\", \"Missing\")] = (table4_complete[(\"Cost Centre Error Flag\", \"Missing\")] + \n",
    "                                                  table4_complete[(\"HR Location Error Flag\", \"Missing\")] + \n",
    "                                                  table4_complete[(\"Internal Function Error Flag\", \"Missing\")] + \n",
    "                                                  table4_complete[(\"Job Error Flag\", \"Missing\")])\n",
    "\n",
    "table4_complete[(\"Total Complete\", \"Complete\")] = (table4_complete[(\"Cost Centre Error Flag\", \"Complete\")] + \n",
    "                                                  table4_complete[(\"HR Location Error Flag\", \"Complete\")] + \n",
    "                                                  table4_complete[(\"Internal Function Error Flag\", \"Complete\")] + \n",
    "                                                  table4_complete[(\"Job Error Flag\", \"Complete\")])\n",
    "\n",
    "table4_complete[(\"Total Complete\", \"% complete\")] = ((table4_complete[(\"Total Complete\", \"Complete\")] /\n",
    "                                                    (table4_complete[(\"Total Complete\", \"Missing\")] + \n",
    "                                                     table4_complete[(\"Total Complete\", \"Complete\")])))"
   ]
  },
  {
   "cell_type": "code",
   "execution_count": null,
   "id": "891ea7f8-717b-440e-b62a-f557e7057f15",
   "metadata": {},
   "outputs": [],
   "source": [
    "table4_complete.head(1)"
   ]
  },
  {
   "cell_type": "code",
   "execution_count": null,
   "id": "ed739fa5-2ade-4280-8a38-623ddc48664a",
   "metadata": {},
   "outputs": [],
   "source": [
    "table4_final = table4_complete[[(\"Cost Centre\", \"\"), \n",
    "                                (\"Cost Centre Description (Establishment)\", \"Establishment\"),\n",
    "                                ('Total Cases', \"\"),\n",
    "                                ('Cost Centre Error Flag', \"Missing\"),\n",
    "                                ('Cost Centre Error Flag', \"Complete\"),\n",
    "                                ('Cost Centre Error Flag', \"% complete\"),\n",
    "                                \n",
    "                                ('HR Location Error Flag', \"Missing\"),\n",
    "                                ('HR Location Error Flag', \"Complete\"),\n",
    "                                ('HR Location Error Flag', \"% complete\"),\n",
    "                                \n",
    "                                ('Internal Function Error Flag', \"Missing\"),\n",
    "                                ('Internal Function Error Flag', \"Complete\"),\n",
    "                                ('Internal Function Error Flag', \"% complete\"),\n",
    "                                \n",
    "                                ('Job Error Flag', \"Missing\"),\n",
    "                                ('Job Error Flag', \"Complete\"),\n",
    "                                ('Job Error Flag', \"% complete\"),\n",
    "                                \n",
    "                                ('Total Complete', \"Missing\"),\n",
    "                                ('Total Complete', \"Complete\"),\n",
    "                                ('Total Complete', \"% complete\")]].sort_values(by = ['Area_Directorate', 'Cost Centre'], na_position = 'first')"
   ]
  },
  {
   "cell_type": "code",
   "execution_count": null,
   "id": "acb61232-3c36-4612-b3eb-fb2962f23478",
   "metadata": {},
   "outputs": [],
   "source": [
    "table4_final.head(5)"
   ]
  },
  {
   "cell_type": "code",
   "execution_count": null,
   "id": "2a172c23-c38b-46e7-a968-ce309235ef84",
   "metadata": {},
   "outputs": [],
   "source": [
    "#################################################################\n",
    "#AP Table: Approved Premises in England only\n",
    "################################################################## "
   ]
  },
  {
   "cell_type": "code",
   "execution_count": null,
   "id": "f30f843e-6a43-4034-a7d5-20ca471271eb",
   "metadata": {},
   "outputs": [],
   "source": [
    "###################\n",
    "#AP Lookup files\n",
    "###################"
   ]
  },
  {
   "cell_type": "code",
   "execution_count": null,
   "id": "e7297021-fe14-4217-baa5-2e2e84d82e77",
   "metadata": {},
   "outputs": [],
   "source": [
    "bucket+input_folder+\"lookups_aps_\" + date + \".csv\""
   ]
  },
  {
   "cell_type": "code",
   "execution_count": null,
   "id": "209d345c-ca7f-4308-8dd7-c7ca5f11184b",
   "metadata": {},
   "outputs": [],
   "source": [
    "#Loading the look up file stored in reference folder\n",
    "look_ups_aps = pd.read_csv(bucket+input_folder+\"lookups_aps_\" + date + \".csv\", skiprows=1)"
   ]
  },
  {
   "cell_type": "code",
   "execution_count": null,
   "id": "f4889485-42b0-4972-aebd-f4c93aeb37d3",
   "metadata": {},
   "outputs": [],
   "source": [
    "look_ups_aps.head(1)"
   ]
  },
  {
   "cell_type": "code",
   "execution_count": null,
   "id": "1e15c981-e037-4b9c-a301-351e5fa74cef",
   "metadata": {},
   "outputs": [],
   "source": [
    "#Cost Centre\n",
    "cost_centre_lookup_aps = look_ups_aps[['Cost Centre', 'Cost Centre Description (Establishment)', 'Reporting','Date Open', 'Date closed']].iloc[0:13,:]\n",
    "cost_centre_lookup_aps[\"Cost Centre\"] = cost_centre_lookup_aps[\"Cost Centre\"].astype(int) # converts cost centre number to integer format\n",
    "\n",
    "#HR Location columns taken, and any duplicate values are removed\n",
    "hr_location_lookup_aps = look_ups_aps[['HR Location', 'Reporting.3']].drop_duplicates(keep=\"first\")\n",
    "hr_location_lookup_aps = hr_location_lookup_aps[hr_location_lookup_aps[\"Reporting.3\"] == \"Valid\"]\n",
    "\n",
    "#IF columns taken, and any duplicate values are removed\n",
    "internal_function_lookup_aps = look_ups_aps[['Internal Function', 'Reporting.1']].iloc[0:13,:].drop_duplicates(subset = \"Internal Function\", keep=\"first\")\n",
    "\n",
    "#Job Title columns taken, and any duplicate values are removed\n",
    "job_title_lookup_aps = look_ups_aps[['Job (title)','Reporting.2']].drop_duplicates(keep=\"first\").dropna()\n",
    "job_title_lookup_aps = job_title_lookup_aps[job_title_lookup_aps['Reporting.2'] == \"Valid\"]\n",
    "job_title_lookup_aps.rename(columns={'Job (title)': 'Job'}, inplace=True)"
   ]
  },
  {
   "cell_type": "code",
   "execution_count": null,
   "id": "183468e3-708e-47c5-aaf5-5e7894fcaee6",
   "metadata": {},
   "outputs": [],
   "source": [
    "cost_centre_lookup_aps"
   ]
  },
  {
   "cell_type": "code",
   "execution_count": null,
   "id": "c4b2008e-c190-4f4b-a9a9-9c0047c7ced6",
   "metadata": {},
   "outputs": [],
   "source": [
    "# Alternative approach to jobs - link by job and grade\n",
    "## job_title_lookup_aps = look_ups_aps[[\"Grade2\",'Job (title)', 'Reporting.2', 'Date opened.1', 'Date closed.2']].iloc[0:32, :].drop_duplicates(keep=\"first\").dropna()\n",
    "## job_title_lookup_aps.rename(columns={'Grade2': 'Grade'}, inplace=True)"
   ]
  },
  {
   "cell_type": "code",
   "execution_count": null,
   "id": "8575e8d5-9444-4ec8-84b9-2ea7294684fd",
   "metadata": {},
   "outputs": [],
   "source": [
    "# Save all Approved Premises lookups in single excel file\n",
    "with io.BytesIO() as output:\n",
    "    with pd.ExcelWriter(output, engine='xlsxwriter') as writer:\n",
    "        cost_centre_lookup_aps.to_excel(writer, sheet_name='Cost Centre Lookup')\n",
    "        internal_function_lookup_aps.to_excel(writer, sheet_name='Internal Function Lookup')\n",
    "        hr_location_lookup_aps.to_excel(writer, sheet_name='HR Location Lookup')\n",
    "        job_title_lookup_aps.to_excel(writer, sheet_name='Job Title Lookup')\n",
    "    data = output.getvalue()\n",
    "s3 = boto3.resource('s3')\n",
    "s3.Bucket('alpha-piatool').put_object(Key='sopdq_AV/outputs/Approved Premises lookups.xlsx', Body=data)"
   ]
  },
  {
   "cell_type": "code",
   "execution_count": null,
   "id": "1f808486-f44c-4e08-aaf2-5f0e3c9055d8",
   "metadata": {},
   "outputs": [],
   "source": [
    "############################################################################\n",
    "#APs flagged for cost centre, job, hr location, internal function\n",
    "############################################################################"
   ]
  },
  {
   "cell_type": "code",
   "execution_count": null,
   "id": "012ab696-cb8b-439a-9c91-025079aa0c19",
   "metadata": {},
   "outputs": [],
   "source": [
    "aps_final = aps[['Employee Number', 'Cost Centre', 'Establishment', 'HR Location', 'Internal Function', 'Grade', 'Job',\n",
    "                 'FTE', 'Location Post Code', 'Area_Directorate', 'Hours']]"
   ]
  },
  {
   "cell_type": "code",
   "execution_count": null,
   "id": "855f78c5-abe5-42ab-b93a-6138a639cf97",
   "metadata": {},
   "outputs": [],
   "source": [
    "#COST CENTRE\n",
    "aps_final2 = pd.merge(aps_final, cost_centre_lookup_aps, on=\"Cost Centre\", how=\"left\")\n",
    "\n",
    "aps_final2[\"Cost Centre Error Flag\"] = np.where(aps_final2[\"Reporting\"] == \"Valid\", \"Valid\", \n",
    "                                                         np.where(aps_final2[\"Reporting\"].isna(), \"Missing\", \"Invalid\"))"
   ]
  },
  {
   "cell_type": "code",
   "execution_count": null,
   "id": "79ffef83-0167-4008-9dfd-a6bc7897813e",
   "metadata": {},
   "outputs": [],
   "source": [
    "aps_final2[\"Reporting\"].unique()"
   ]
  },
  {
   "cell_type": "code",
   "execution_count": null,
   "id": "fce132b6-beaa-43c1-a5c7-712057108ebc",
   "metadata": {},
   "outputs": [],
   "source": [
    "print(len(aps_final2[aps_final2[\"Cost Centre Error Flag\"] ==\"Missing\"]),  \n",
    "      len(aps_final2[aps_final2[\"Cost Centre Error Flag\"] ==\"Invalid\"]),\n",
    "      len(aps_final2[aps_final2[\"Cost Centre Error Flag\"] ==\"Valid\"]),\n",
    "      len(aps_final2[\"Cost Centre Error Flag\"]))"
   ]
  },
  {
   "cell_type": "code",
   "execution_count": null,
   "id": "1e52f804-1f60-44cc-93ad-c702c0647c17",
   "metadata": {},
   "outputs": [],
   "source": [
    "#HR LOCATION\n",
    "aps_final3 = pd.merge(aps_final2, hr_location_lookup_aps, on=\"HR Location\", how=\"left\")\n",
    "\n",
    "aps_final3[\"HR Location Error Flag\"] = np.where(aps_final3[\"HR Location\"].isnull(), \"Missing\", \n",
    "                                                         np.where(aps_final3[\"Reporting.3\"] == \"Valid\", \"Valid\", \"Invalid\"))"
   ]
  },
  {
   "cell_type": "code",
   "execution_count": null,
   "id": "396ef4b6-07b1-4ce3-9e60-1d52842f3883",
   "metadata": {},
   "outputs": [],
   "source": [
    "print(len(aps_final3[aps_final3[\"HR Location Error Flag\"] ==\"Missing\"]),  \n",
    "      len(aps_final3[aps_final3[\"HR Location Error Flag\"] ==\"Invalid\"]),\n",
    "      len(aps_final3[aps_final3[\"HR Location Error Flag\"] ==\"Valid\"]),\n",
    "      len(aps_final3[\"HR Location Error Flag\"]))"
   ]
  },
  {
   "cell_type": "code",
   "execution_count": null,
   "id": "944ebd03-9009-4950-8ea2-8e4303cfd439",
   "metadata": {},
   "outputs": [],
   "source": [
    "#INTERNAL FUNCTION\n",
    "aps_final4 = pd.merge(aps_final3, internal_function_lookup_aps, on=\"Internal Function\", how=\"left\")\n",
    "\n",
    "aps_final4[\"Internal Function Error Flag\"] = np.where(aps_final4[\"Internal Function\"].isnull(), \"Missing\", \n",
    "                                                         np.where(aps_final4[\"Reporting.1\"] == \"Valid\", \"Valid\", \"Invalid\"))"
   ]
  },
  {
   "cell_type": "code",
   "execution_count": null,
   "id": "a63c08c7-c5ba-4260-abdb-2a532fb6a8c3",
   "metadata": {},
   "outputs": [],
   "source": [
    "print(len(aps_final4[aps_final4[\"Internal Function Error Flag\"] ==\"Missing\"]),  \n",
    "      len(aps_final4[aps_final4[\"Internal Function Error Flag\"] ==\"Invalid\"]),\n",
    "      len(aps_final4[aps_final4[\"Internal Function Error Flag\"] ==\"Valid\"]),\n",
    "      len(aps_final4[\"Internal Function Error Flag\"]))"
   ]
  },
  {
   "cell_type": "code",
   "execution_count": null,
   "id": "a1425c68-4057-4744-947f-d5d651427aa4",
   "metadata": {},
   "outputs": [],
   "source": [
    "#JOB\n",
    "aps_final5 = pd.merge(aps_final4, job_title_lookup_aps, on=\"Job\", how=\"left\")\n",
    "\n",
    "aps_final5[\"Job Error Flag\"] = np.where(aps_final5[\"Job\"].isnull(), \"Missing\",\n",
    "                                        np.where(aps_final5[\"Reporting.2\"] == \"Valid\", \"Valid\", \"Invalid\"))"
   ]
  },
  {
   "cell_type": "code",
   "execution_count": null,
   "id": "e4737f4e-1d3b-457d-9485-2132986e31b5",
   "metadata": {},
   "outputs": [],
   "source": [
    "print(len(aps_final5[aps_final5[\"Job Error Flag\"] ==\"Missing\"]),  \n",
    "      len(aps_final5[aps_final5[\"Job Error Flag\"] ==\"Invalid\"]),\n",
    "      len(aps_final5[aps_final5[\"Job Error Flag\"] ==\"Valid\"]),\n",
    "      len(aps_final5[\"Job Error Flag\"]))"
   ]
  },
  {
   "cell_type": "code",
   "execution_count": null,
   "id": "7ebd410b-9fe0-4c2c-89f2-1fe1a1117e5c",
   "metadata": {},
   "outputs": [],
   "source": [
    "aps_final_report = aps_final5[['Employee Number', 'Cost Centre', 'Establishment', 'HR Location', 'Internal Function', \n",
    "                              'Grade', 'Job', 'FTE', 'Location Post Code', 'Area_Directorate', 'Hours', \n",
    "                              'Cost Centre Error Flag', 'HR Location Error Flag',\n",
    "                              'Internal Function Error Flag', 'Job Error Flag']]"
   ]
  },
  {
   "cell_type": "code",
   "execution_count": null,
   "id": "3b1d6c40-b1a9-4570-88d7-b47e551be8f8",
   "metadata": {},
   "outputs": [],
   "source": [
    "len(aps_final_report)"
   ]
  },
  {
   "cell_type": "code",
   "execution_count": null,
   "id": "332e5b01-ef9d-4d18-be14-3b522834c7fa",
   "metadata": {},
   "outputs": [],
   "source": [
    "# Save all tables in single excel file\n",
    "with io.BytesIO() as output:\n",
    "    with pd.ExcelWriter(output, engine='xlsxwriter') as writer:\n",
    "        table1_final.to_excel(writer, sheet_name='Table 1')\n",
    "        table2_final.to_excel(writer, sheet_name='Table 2')\n",
    "        table3_final.to_excel(writer, sheet_name='Table 3')\n",
    "        table4_final.to_excel(writer, sheet_name='Table 4')\n",
    "        wfpt_data.to_excel(writer, sheet_name=\"WfPT data\")\n",
    "        aps_final_report.to_excel(writer, sheet_name = \"AP data\")\n",
    "        #trend_data.to_excel(writer, sheet_name=\"Trend Data\")    ---> To be completed\n",
    "    data = output.getvalue()\n",
    "s3 = boto3.resource('s3')\n",
    "final_file_location = \"sopdq_AV/outputs/WfPT Error Report Raw Tables \" + date + \".xlsx\"\n",
    "s3.Bucket('alpha-piatool').put_object(Key=final_file_location, Body=data)\n"
   ]
  },
  {
   "cell_type": "code",
   "execution_count": null,
   "id": "3c5f2d74-1bb1-4a43-8418-a146f62f6e16",
   "metadata": {},
   "outputs": [],
   "source": [
    "####################################################################################################\n",
    "#Transfer outputs to Excel Workbook template inputs\n",
    "####################################################################################################"
   ]
  },
  {
   "cell_type": "code",
   "execution_count": null,
   "id": "8f2ed5ae-14f9-49fe-9a88-4df34d07b9da",
   "metadata": {},
   "outputs": [],
   "source": [
    "from io import BytesIO\n",
    "from tempfile import NamedTemporaryFile\n",
    "import boto3\n",
    "import pandas as pd\n",
    "from openpyxl import load_workbook\n",
    "from openpyxl.utils.dataframe import dataframe_to_rows\n",
    "\n",
    "#Choose destination filename\n",
    "#dataframe = table1_final\n",
    "dest_filename = \"sopdq_AV/outputs/WfPT Error Report \" + date +\".xlsx\"\n",
    "\n",
    "# Load Template from S3\n",
    "bucket_name=\"alpha-piatool\"\n",
    "object_key=\"sopdq_AV/inputs/WfPT_Error_Reports - Template v6.xlsx\"\n",
    "bucket_object = boto3.resource('s3').Bucket(bucket_name).Object(object_key)\n",
    "content = bucket_object.get()['Body'].read()\n",
    "\n",
    "# Load Workbook and get sheet names\n",
    "wb = load_workbook(filename=(BytesIO(content)))\n",
    "ws_notes = wb.worksheets[0] # Notes\n",
    "ws0 = wb.worksheets[1] # Trends % valid\n",
    "ws1 = wb.worksheets[2] # Tables % valid\n",
    "ws2 = wb.worksheets[3] # Tables % complete\n",
    "ws3 = wb.worksheets[4] # WfPT data\n",
    "ws4 = wb.worksheets[5] # AP data"
   ]
  },
  {
   "cell_type": "code",
   "execution_count": null,
   "id": "c7abd187-3add-4ebc-a240-887b956eefda",
   "metadata": {},
   "outputs": [],
   "source": [
    "# Change dates in template\n",
    "# Paste WFPT and AP data to relevant sheets\n",
    "# Update trend table\n",
    "# Update graph"
   ]
  },
  {
   "cell_type": "code",
   "execution_count": null,
   "id": "132c8ced-18cc-40e6-bf88-367f7d21a3f7",
   "metadata": {},
   "outputs": [],
   "source": [
    "#Complete Table 1\n",
    "for number in range(0, len(table1_final.reset_index())): #number of rows\n",
    "    for i in range(0, len(table1_final.reset_index().values.tolist()[number])): # number of columns\n",
    "        e=ws1.cell(row= 12+number, column=1+i)\n",
    "        e.value=table1_final.reset_index().values.tolist()[number][i]      "
   ]
  },
  {
   "cell_type": "code",
   "execution_count": null,
   "id": "9f9a0eda-c2d3-4430-bafa-a1cfc7731aeb",
   "metadata": {},
   "outputs": [],
   "source": [
    "#Complete Table 2\n",
    "for number in range(0, len(table2_final.reset_index().values.tolist())):\n",
    "    for i in range(0, len(table2_final.reset_index().values.tolist()[number])):\n",
    "        e=ws1.cell(row= 34+number, column=1+i)\n",
    "        e.value=table2_final.reset_index().values.tolist()[number][i]"
   ]
  },
  {
   "cell_type": "code",
   "execution_count": null,
   "id": "ea41cd51-e62b-42b8-b5db-400e72dbe2a2",
   "metadata": {},
   "outputs": [],
   "source": [
    "#Complete Table 3\n",
    "for number in range(0, len(table3_final.reset_index())):\n",
    "    for i in range(0, len(table3_final.reset_index().values.tolist()[number])):\n",
    "        e=ws2.cell(row= 13+number, column=1+i)\n",
    "        e.value=table3_final.reset_index().values.tolist()[number][i]      "
   ]
  },
  {
   "cell_type": "code",
   "execution_count": null,
   "id": "da8698e1-1b76-47aa-92f1-03d5c3f48a9a",
   "metadata": {},
   "outputs": [],
   "source": [
    "#Complete Table 4\n",
    "for number in range(0, len(table4_final.reset_index().values.tolist())):\n",
    "    for i in range(0, len(table4_final.reset_index().values.tolist()[number])):\n",
    "        e=ws2.cell(row= 35+number, column=1+i)\n",
    "        e.value=table4_final.reset_index().values.tolist()[number][i]"
   ]
  },
  {
   "cell_type": "code",
   "execution_count": null,
   "id": "253bd211-f80e-43ea-a98c-841d769d0560",
   "metadata": {},
   "outputs": [],
   "source": [
    "# #Add WFPT_data and AP_final data\n",
    "# for number in range(0, len(a.reset_index().values.tolist())):\n",
    "#     for i in range(0, len(a.reset_index().values.tolist()[number])):\n",
    "#         e=ws3.cell(row= 9+number, column=1+i)\n",
    "#         e.value=a.reset_index().values.tolist()[number][i]"
   ]
  },
  {
   "cell_type": "code",
   "execution_count": null,
   "id": "d80b584a-cea7-4359-87b5-145ff4c3797f",
   "metadata": {
    "jupyter": {
     "source_hidden": true
    },
    "tags": []
   },
   "outputs": [],
   "source": [
    "# Save Workbook back to S3\n",
    "s3 = boto3.client('s3')\n",
    "with NamedTemporaryFile() as tmp:\n",
    "    filename = '/tmp/{}'.format(\"WfPT_Error_Reports - Template v6.xlsx\")\n",
    "    wb.save(filename)\n",
    "    wfpt_data.to_excel(writer, sheet_name='WfPT data', startrow = 9, startcol = 1)\n",
    "    s3.upload_file(Bucket =bucket_name, Filename = filename, Key=dest_filename)\n",
    "        \n",
    "        "
   ]
  },
  {
   "cell_type": "code",
   "execution_count": null,
   "id": "80a90d8a-4056-485d-b285-3022e030bd41",
   "metadata": {},
   "outputs": [],
   "source": [
    "# # Save all lookups in single excel file\n",
    "# with io.BytesIO() as output:\n",
    "#     with pd.ExcelWriter(output, engine='xlsxwriter') as writer:\n",
    "#         cost_centre_lookup.to_excel(writer, sheet_name='Cost Centre Lookup')\n",
    "#         internal_function_lookup.to_excel(writer, sheet_name='Internal Function Lookup')\n",
    "#         hr_location_lookup.to_excel(writer, sheet_name='HR Location Lookup')\n",
    "#         job_title_lookup.to_excel(writer, sheet_name='Job Title Lookup')\n",
    "#         cost_centre_consistency.to_excel(writer, sheet_name=\"Cost Centre type\")\n",
    "#     data = output.getvalue()\n",
    "# s3 = boto3.resource('s3')\n",
    "# s3.Bucket('alpha-piatool').put_object(Key='sopdq_AV/outputs/WFPT lookups.xlsx', Body=data)\n"
   ]
  },
  {
   "cell_type": "code",
   "execution_count": null,
   "id": "dc5b7464-0986-443f-9f5b-627b38c8d212",
   "metadata": {},
   "outputs": [],
   "source": []
  }
 ],
 "metadata": {
  "kernelspec": {
   "display_name": "Python 3 (ipykernel)",
   "language": "python",
   "name": "python3"
  },
  "language_info": {
   "codemirror_mode": {
    "name": "ipython",
    "version": 3
   },
   "file_extension": ".py",
   "mimetype": "text/x-python",
   "name": "python",
   "nbconvert_exporter": "python",
   "pygments_lexer": "ipython3",
   "version": "3.9.6"
  }
 },
 "nbformat": 4,
 "nbformat_minor": 5
}
