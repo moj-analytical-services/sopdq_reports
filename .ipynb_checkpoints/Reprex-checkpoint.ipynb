{
 "cells": [
  {
   "cell_type": "code",
   "execution_count": null,
   "id": "a08f3e0b-1832-4f0f-8557-6dac2e00588d",
   "metadata": {},
   "outputs": [],
   "source": [
    "import pandas as pd\n",
    "\n",
    "data_input = {'Area':['North', 'North', 'North',  'South', 'South', 'South',  'West', 'West', 'West',   'East', \"East\",\"East\"], \n",
    "              \"Sub-Area\": [\"North2\", \"North1\", \"North2\",   \"South2\", \"South1\", \"South2\",\"West3\", \"West9\", \"West9\", \"East1\", \"East4\", \"East1\"], \n",
    "              \"Workers\": [1,20,30, 2,33,5, 3,6,44, 1, 11, 111], \n",
    "              \"Job1\":[\"T\", \"T\", \"T\",  \"X\",\"T\", \"T\",  \"T\", \"X\", \"T\", \"X\",\"T\", \"T\"],\n",
    "              \"Job2\":[\"F\", \"X\", \"T\",  \"X\",\"T\", \"F\",  \"T\", \"X\", \"F\", \"X\",\"T\", \"T\"],\n",
    "              \"Job3\":[\"T\", \"F\", \"T\",  \"X\",\"X\", \"F\",  \"F\", \"T\",\"X\",  \"X\",\"T\", \"T\"]}\n",
    " \n",
    "# Create DataFrame\n",
    "df1 = pd.DataFrame(data_input)\n",
    " \n",
    "# Print the output.\n",
    "df1"
   ]
  },
  {
   "cell_type": "code",
   "execution_count": null,
   "id": "356f7316-ba5b-4e52-ab81-d0c49bd40922",
   "metadata": {},
   "outputs": [],
   "source": [
    "# import pandas as pd\n",
    "\n",
    "# data_input = {'Area':['North', 'North', 'North',  'South', 'South', 'South',  'West', 'West', 'West',   'East', \"East\",\"East\"], \n",
    "#               \"Sub-Area\": [\"North1\", \"North2\", \"North2\",   \"South1\", \"South2\", \"South2\",\"West3\", \"West9\", \"West9\", \"East4\", \"East11\", \"East11\"], \n",
    "#               \"Workers\": [20,1,30,  33,2,5, 3,6,44,  11, 1, 111], \n",
    "#               \"Job1\":[\"T\", \"T\", \"T\",  \"X\",\"T\", \"T\",  \"T\", \"X\", \"T\", \"X\",\"T\", \"T\"],\n",
    "#               \"Job2\":[\"F\", \"X\", \"T\",  \"X\",\"T\", \"F\",  \"T\", \"X\", \"F\", \"X\",\"T\", \"T\"],\n",
    "#               \"Job3\":[\"T\", \"F\", \"T\",  \"X\",\"X\", \"F\",  \"F\", \"T\",\"X\",  \"X\",\"T\", \"T\"]}\n",
    " \n",
    "# # Create DataFrame\n",
    "# df1 = pd.DataFrame(data_input)\n",
    " \n",
    "# # Print the output.\n",
    "# df1"
   ]
  },
  {
   "cell_type": "code",
   "execution_count": null,
   "id": "fadd233a-a935-480f-ab3f-bdb7236ddfae",
   "metadata": {},
   "outputs": [],
   "source": [
    "df1.sort_values(by = ['Sub-Area', 'Workers'], ascending = [True, True], na_position = 'first')"
   ]
  },
  {
   "cell_type": "code",
   "execution_count": null,
   "id": "18b9768a-756f-454d-8ce7-3d5ca5aeec24",
   "metadata": {},
   "outputs": [],
   "source": []
  },
  {
   "cell_type": "code",
   "execution_count": null,
   "id": "e326e5f8-8721-42db-a731-99b203bc1acf",
   "metadata": {},
   "outputs": [],
   "source": []
  },
  {
   "cell_type": "code",
   "execution_count": null,
   "id": "1dcf5a97-296c-459e-8492-4050d5f9e07d",
   "metadata": {},
   "outputs": [],
   "source": []
  },
  {
   "cell_type": "code",
   "execution_count": null,
   "id": "0ec2ef6f-2fcb-487b-b4d0-4c3a8d88fcab",
   "metadata": {},
   "outputs": [],
   "source": []
  },
  {
   "cell_type": "code",
   "execution_count": null,
   "id": "c7033314-9d29-4250-bf69-280e5b744030",
   "metadata": {},
   "outputs": [],
   "source": []
  },
  {
   "cell_type": "code",
   "execution_count": null,
   "id": "6fba4b7d-d28d-4906-be73-68ab23978e89",
   "metadata": {},
   "outputs": [],
   "source": [
    "data_input2 = {'Student':     ['A',   \"A\",     'B',       'C',      'D',      'E',      'F',    'G',     \"H\"], \n",
    "              \"Subject\": [\"Law\",   \"Law\",   \"Maths\",    \"Maths\", \"Law\",    \"Maths\",  \"Music\", \"Music\", \"Art\"], \n",
    "              \"Checked\":  [\"James\",  \"Bob\",  \"Jack\",     \"Laura\", \"Laura\",  np.nan,   \"Tim\",   \"Tim\",   \"Tim\"]}\n",
    " \n",
    "# Create DataFrame\n",
    "df2 = pd.DataFrame(data_input2)\n",
    " \n",
    "# Print the output.\n",
    "#df2"
   ]
  },
  {
   "cell_type": "code",
   "execution_count": null,
   "id": "0e242f99-80e0-4f18-80fb-28dafcfd0257",
   "metadata": {},
   "outputs": [],
   "source": []
  },
  {
   "cell_type": "code",
   "execution_count": null,
   "id": "a5927047-0505-4206-9dd4-f3e6a94fef32",
   "metadata": {},
   "outputs": [],
   "source": [
    "import pandas as pd\n",
    "import numpy as np\n",
    "\n",
    "data_input = {'Student':     ['A', 'A',          'B', 'B',            'C',      'D',      'E',      'F', 'F',         'G',     \"H\",     \"H\"], \n",
    "              \"Subject\": [\"Law\", \"Law\",      \"Maths\", \"Maths\",    \"Maths\", \"Law\",    \"Maths\",  \"Music\", \"Music\", \"Music\", \"Art\", \"Art\"], \n",
    "              \"Checked\":  [\"Bob\", \"James\",    np.nan,  np.nan,     \"Laura\", \"Laura\",  np.nan,    np.nan, \"Tim\",   \"Tim\",   \"Tim\", np.nan]}\n",
    " \n",
    "# Create DataFrame\n",
    "df1 = pd.DataFrame(data_input)\n",
    " \n",
    "# Print the output.\n",
    "df1"
   ]
  },
  {
   "cell_type": "code",
   "execution_count": null,
   "id": "64f5b268-47f3-460c-bd51-9f872edb99bd",
   "metadata": {},
   "outputs": [],
   "source": [
    "import numpy as np\n",
    "\n",
    "#creates a column \n",
    "# it applies where:\n",
    "## the row has a duplicate\n",
    "## AND\n",
    "## the row is null\n",
    "\n",
    "df1['to_drop'] = np.where(\n",
    "    (df1['Student'].isin(df1[df1[['Student','Subject']].duplicated()]['Student'].tolist())\n",
    "     ) & (df1['Checked'].isnull()),1,0)\n",
    "\n",
    "df1.loc[df1[\"to_drop\"]==0].drop('to_drop',axis=1)"
   ]
  },
  {
   "cell_type": "code",
   "execution_count": null,
   "id": "d63985e1-fcfd-46ee-9169-da97630bff03",
   "metadata": {},
   "outputs": [],
   "source": [
    "# is the group containing more than one row?\n",
    "m1 = df1.duplicated(['Student', 'Subject'], keep=False)\n",
    "# is the row a NaN in \"Checked\"?\n",
    "m2 = df1['Checked'].isna()\n",
    "# both conditions True\n",
    "m = m1&m2\n",
    "\n",
    "# keep if either condition is False \n",
    "df1[~m]\n",
    "\n",
    "# to get dropped duplicates\n",
    "# keep if both are True\n",
    "#df1[m]"
   ]
  },
  {
   "cell_type": "code",
   "execution_count": null,
   "id": "c423fd5b-9f58-4f32-8dca-724369e8791d",
   "metadata": {},
   "outputs": [],
   "source": [
    "df1.groupby(\"Student\", sort=False).apply(lambda x : x if len(x) == 1 else x.dropna(subset=['Checked'])).reset_index(drop=True)"
   ]
  },
  {
   "cell_type": "code",
   "execution_count": null,
   "id": "18951963-6a9b-4afa-b4ba-7fda11b5852f",
   "metadata": {},
   "outputs": [],
   "source": [
    "s_idx = ~(df1[(df1.duplicated(subset=['Student','Subject'],keep=False))])['Checked'].isna()\n",
    "\n",
    "idx = [x for x in df1.index.values if x not in s_idx[~s_idx].index]\n",
    "\n",
    "df1.iloc[idx]"
   ]
  },
  {
   "cell_type": "code",
   "execution_count": null,
   "id": "0ceaae6c-651e-4702-bd51-5502072f4257",
   "metadata": {},
   "outputs": [],
   "source": [
    "attempt1 = df1.sort_values(['Student', 'Checked'], ascending=False).drop_duplicates([\"Student\", \"Subject\"]).sort_index()"
   ]
  },
  {
   "cell_type": "code",
   "execution_count": null,
   "id": "cbc40507-c2b7-4a55-8ffa-13a9a5d6d4ba",
   "metadata": {},
   "outputs": [],
   "source": [
    "#Lose Bob, when I want to keep him. Also not sure how this actually works. \n",
    "attempt1"
   ]
  },
  {
   "cell_type": "code",
   "execution_count": null,
   "id": "25402c26-ddfb-487a-8c47-409d5afc80a7",
   "metadata": {},
   "outputs": [],
   "source": [
    "#Attempt 2"
   ]
  },
  {
   "cell_type": "code",
   "execution_count": null,
   "id": "f277c0e2-0fad-4eda-8782-e1c6d86bd696",
   "metadata": {},
   "outputs": [],
   "source": [
    "#Create Duplicate column\n",
    "df1[\"Duplicates\"] = df1.duplicated(subset=[\"Student\", \"Subject\"], keep=False)\n",
    "\n",
    "#Create list of rows with no duplicates\n",
    "df_new1 = df1[df1[\"Duplicates\"]==False]\n",
    "\n",
    "#Create list of rows with duplicates & remove all those with null values\n",
    "df_new2 = df1[df1[\"Duplicates\"]==True]\n",
    "df_new3 = df_new2[~df_new2[\"Checked\"].isnull()]\n",
    "\n",
    "#Combine unique rows, and duplicates without null values\n",
    "#Keep duplicates without null values\n",
    "df_new = df_new1.append(df_new3)\n",
    "\n",
    "#Tidy up\n",
    "df_new = df_new[[\"Student\", \"Subject\", \"Checked\"]].sort_values(by=\"Student\")\n",
    "\n",
    "df_new"
   ]
  },
  {
   "cell_type": "code",
   "execution_count": null,
   "id": "e1649993-5b0d-44d1-86f1-ea2bb16217fc",
   "metadata": {},
   "outputs": [],
   "source": [
    "#Create separate list of duplicates with valid \"Checked\" values\n",
    "df_new[\"Duplicates\"] = df_new.duplicated(subset=\"Student\", keep=False)\n",
    "conflicting_duplicates = df_new[df_new[\"Duplicates\"]==True]\n",
    "conflicting_duplicates"
   ]
  },
  {
   "cell_type": "code",
   "execution_count": null,
   "id": "dce43904-4933-4fd6-8abb-f76b9f626851",
   "metadata": {},
   "outputs": [],
   "source": []
  }
 ],
 "metadata": {
  "kernelspec": {
   "display_name": "Python 3 (ipykernel)",
   "language": "python",
   "name": "python3"
  },
  "language_info": {
   "codemirror_mode": {
    "name": "ipython",
    "version": 3
   },
   "file_extension": ".py",
   "mimetype": "text/x-python",
   "name": "python",
   "nbconvert_exporter": "python",
   "pygments_lexer": "ipython3",
   "version": "3.9.6"
  }
 },
 "nbformat": 4,
 "nbformat_minor": 5
}
