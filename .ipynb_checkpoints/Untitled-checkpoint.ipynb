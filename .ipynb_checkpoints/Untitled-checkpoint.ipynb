{
 "cells": [
  {
   "cell_type": "code",
   "execution_count": null,
   "id": "6c31f277-b58e-4d1e-ba63-3a8219b62abe",
   "metadata": {},
   "outputs": [],
   "source": [
    "import pandas as pd\n",
    "\n",
    "data_input = {'Area':['North', 'North', 'South', 'South', 'West', 'West', 'East', \"East\"], \n",
    "              \"Sub-Area\": [\"North1\", \"North2\", \"South1\", \"South3\", \"West3\", \"West9\", \"East1\", \"East4\"], \n",
    "              \"Job1\":[\"T\", \"T\", \"T\", \"X\",\"T\", \"T\", \"T\", \"X\"],\n",
    "              \"Job2\":[\"F\", \"X\", \"T\", \"X\",\"T\", \"F\", \"T\", \"X\"],\n",
    "              \"Job3\":[\"T\", \"F\", \"T\", \"X\",\"X\", \"F\", \"F\", \"T\"]}\n",
    " \n",
    "# Create DataFrame\n",
    "df1 = pd.DataFrame(data_input)\n",
    " \n",
    "# Print the output.\n",
    "df1"
   ]
  },
  {
   "cell_type": "code",
   "execution_count": null,
   "id": "27bdc3f1-bf2b-4c8b-aae4-0c3dc11ef42e",
   "metadata": {},
   "outputs": [],
   "source": [
    "df1.drop_duplicates(subset = \"Area\", keep = \"first\")"
   ]
  },
  {
   "cell_type": "code",
   "execution_count": null,
   "id": "943fcca6-4ddc-4653-a129-3e9b103a1105",
   "metadata": {},
   "outputs": [],
   "source": [
    "import pandas as pd\n",
    "\n",
    "data_input = {'Area':['North', 'North', 'South', 'South', 'West', 'West', 'East', \"East\"], \n",
    "              \"Sub-Area\": [\"North1\", \"North2\", \"South1\", \"South3\", \"West3\", \"West9\", \"East1\", \"East4\"], \n",
    "              \"Job1\":[\"T\", \"T\", \"T\", \"X\",\"T\", \"T\", \"T\", \"X\"],\n",
    "              \"Job2\":[\"F\", \"X\", \"T\", \"X\",\"T\", \"F\", \"T\", \"X\"],\n",
    "              \"Job3\":[\"T\", \"F\", \"T\", \"X\",\"X\", \"F\", \"F\", \"T\"]}\n",
    " \n",
    "# Create DataFrame\n",
    "df1 = pd.DataFrame(data_input)\n",
    " \n",
    "# Print the output.\n",
    "df1"
   ]
  },
  {
   "cell_type": "code",
   "execution_count": null,
   "id": "47cd6357-608e-43e3-ac7c-67ec17c603d5",
   "metadata": {},
   "outputs": [],
   "source": [
    "cols = ['Job1', 'Job2', 'Job3']\n",
    "df2 = []\n",
    "\n",
    "for col in cols:\n",
    "    df = pd.crosstab(df1['Area'], df1[col])\n",
    "    df.columns = pd.MultiIndex.from_product([[col], df.columns.tolist()])\n",
    "    df2.append(df)\n",
    "out = pd.concat(dfs, axis=1)"
   ]
  },
  {
   "cell_type": "code",
   "execution_count": null,
   "id": "569d95a8-19c1-46e1-b455-290962de3183",
   "metadata": {},
   "outputs": [],
   "source": [
    "if (\"Job1\", \"M\") not in dfx.columns.tolist():\n",
    "    dfx[\"Job1\", \"M\"] = [0,0,0,0]\n",
    "else:\n",
    "    if (\"Job1\", \"T\") not in dfx.columns.tolist():\n",
    "        dfx[\"Job1\", \"T\"] = [0,0,0,0]\n",
    "    else:\n",
    "        if (\"Job1\", \"X\") not in dfx.columns.tolist():\n",
    "            dfx[\"Job1\", \"X\"] = [0,0,0,0]\n",
    "        else:\n",
    "            print(\"complete set\")\n",
    "dfx = dfx.sort_index(axis=1)"
   ]
  },
  {
   "cell_type": "code",
   "execution_count": null,
   "id": "d30f43c6-6e46-42c7-b3fc-02df91fffe20",
   "metadata": {},
   "outputs": [],
   "source": [
    "dfx"
   ]
  },
  {
   "cell_type": "code",
   "execution_count": null,
   "id": "183905ea-85a5-4a0e-ba7a-f6b394dbca34",
   "metadata": {},
   "outputs": [],
   "source": [
    "index_left = pd.MultiIndex.from_tuples([('K0', 'X0'), ('K0', 'X1'),\n",
    "                                        ('K1', 'X2')],\n",
    "                                        names=['key', 'X'])\n",
    "\n",
    "left = pd.DataFrame({'A': ['A0', 'A1', 'A2'],\n",
    "                     'B': ['B0', 'B1', 'B2']}, index=index_left)\n",
    "\n",
    "index_right = pd.MultiIndex.from_tuples([('K0', 'Y0'), ('K1', 'Y1'),\n",
    "                                        ('K2', 'Y2'), ('K2', 'Y3')],\n",
    "                                        names=['key', 'Y'])\n",
    "\n",
    "right = pd.DataFrame({'C': ['C0', 'C1', 'C2', 'C3'],\n",
    "                      'D': ['D0', 'D1', 'D2', 'D3']}, index=index_right)\n"
   ]
  },
  {
   "cell_type": "code",
   "execution_count": null,
   "id": "c562a8f9-c12b-4014-a569-975c8d94e43b",
   "metadata": {},
   "outputs": [],
   "source": [
    "left.join(right)"
   ]
  },
  {
   "cell_type": "code",
   "execution_count": null,
   "id": "35b13fd3-5887-4bd6-aff6-85542fee589e",
   "metadata": {},
   "outputs": [],
   "source": []
  },
  {
   "cell_type": "code",
   "execution_count": null,
   "id": "dbb64e74-2b58-4ea0-b5ea-a627ac0811e4",
   "metadata": {},
   "outputs": [],
   "source": []
  },
  {
   "cell_type": "code",
   "execution_count": null,
   "id": "edcb10b3-6a2c-47dd-99bd-f9c1a6a7ee65",
   "metadata": {},
   "outputs": [],
   "source": []
  },
  {
   "cell_type": "code",
   "execution_count": null,
   "id": "50be24ea-8ba1-406c-8033-91c2bf5b7085",
   "metadata": {},
   "outputs": [],
   "source": [
    "# I want to remove some surrounding text from strings in a dataframe\n",
    "\n",
    "#Reprex\n",
    "\n",
    "df1 = pd.DataFrame({'a1': [1, 1, 2, 2, 3],\n",
    "                    'b': [\"NOSE PARKER Bond 1 Spain\", \"Fire PA1KER Bond 10 UK\", \"NOSE 2HANDS Bond 3 FRANCE\", \"EARS STARKER Bond 11 SOUTH AFRICA\", \"NORSEPACKER Bond 01 JAPAN2002\"],\n",
    "                    'c': [13, 9, 12, 5, 5]})\n",
    "\n",
    "df1"
   ]
  },
  {
   "cell_type": "code",
   "execution_count": null,
   "id": "c4c25f63-fee5-4646-b6fe-3ca6238da807",
   "metadata": {},
   "outputs": [],
   "source": [
    "df2 = df1[\"b\"].str.replace(\"[^Bond.\\d]\", \"\")\n",
    "df2\n"
   ]
  },
  {
   "cell_type": "code",
   "execution_count": null,
   "id": "d7734430-55d5-4cb6-8f91-20169a9741bb",
   "metadata": {},
   "outputs": [],
   "source": [
    "df2"
   ]
  },
  {
   "cell_type": "code",
   "execution_count": null,
   "id": "8d048040-3832-44ec-983a-c09eab4c5823",
   "metadata": {},
   "outputs": [],
   "source": []
  }
 ],
 "metadata": {
  "kernelspec": {
   "display_name": "Python 3 (ipykernel)",
   "language": "python",
   "name": "python3"
  },
  "language_info": {
   "codemirror_mode": {
    "name": "ipython",
    "version": 3
   },
   "file_extension": ".py",
   "mimetype": "text/x-python",
   "name": "python",
   "nbconvert_exporter": "python",
   "pygments_lexer": "ipython3",
   "version": "3.9.6"
  }
 },
 "nbformat": 4,
 "nbformat_minor": 5
}
