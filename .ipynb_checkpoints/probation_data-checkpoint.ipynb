{
 "cells": [
  {
   "cell_type": "code",
   "execution_count": null,
   "id": "2c652ca8-8c12-42a9-8b6f-45e6bae1f779",
   "metadata": {},
   "outputs": [],
   "source": [
    "#First Stage of automating exception reports"
   ]
  },
  {
   "cell_type": "code",
   "execution_count": null,
   "id": "b6dd4001-c7a2-46e8-946e-af4b322064a9",
   "metadata": {},
   "outputs": [],
   "source": [
    "#Downloading the raw data from Amazon Web Service (AWS) S3 \n",
    "#This is the cloud warehouse where we store data for use on the analytical platform\n",
    "\n",
    "#This is a package that allows us to download data from AWS S3 in a more usable way\n",
    "#You may need to install it in the Terminal --> pip install arrow-pd-parser"
   ]
  },
  {
   "cell_type": "code",
   "execution_count": null,
   "id": "55903ad7-a2c2-4129-9e6a-d8a94b7b0cce",
   "metadata": {},
   "outputs": [],
   "source": [
    "from arrow_pd_parser import reader, writer\n",
    "import boto3\n",
    "import pandas as pd\n",
    "import numpy as np\n",
    "import io\n",
    "import xlsxwriter"
   ]
  },
  {
   "cell_type": "code",
   "execution_count": null,
   "id": "e7f95398-fa86-41a7-b102-b165abad575f",
   "metadata": {},
   "outputs": [],
   "source": [
    "# Specifying the reader Both reader statements are equivalent and call the same readers under the hood\n",
    "#Location of data - setting up the folder and file names\n",
    "bucket = \"s3://alpha-piatool/\"\n",
    "input_folder = \"sopdq_AV/inputs/\"\n",
    "output_folder = \"sopdq_AV/outputs/\"\n",
    "raw_data = \"WFPT Staff Data Mar22.csv\""
   ]
  },
  {
   "cell_type": "code",
   "execution_count": null,
   "id": "9835d0a2-4864-4f0b-bc90-627ed626911e",
   "metadata": {},
   "outputs": [],
   "source": [
    "#Loading the raw data stored by David Yuen \n",
    "raw_data = reader.read(bucket+input_folder+raw_data, file_format=\"csv\")"
   ]
  },
  {
   "cell_type": "code",
   "execution_count": null,
   "id": "fb2587c8-f092-4725-beb9-59c2b5d0ee5f",
   "metadata": {},
   "outputs": [],
   "source": [
    "raw_data.head(2)"
   ]
  },
  {
   "cell_type": "code",
   "execution_count": null,
   "id": "b4bbc627-51dd-41ed-a776-db3b3705aeea",
   "metadata": {},
   "outputs": [],
   "source": [
    "#Tracie Kilbey creates four sheets from the raw dataset, which she then uses for the exception reports\n",
    "#Let's start with creating the first sheet, as it's the simplest - \"WfPT all\"\n",
    "#This is just the raw data, but we'll make a few changes to column headings to make it easier to use"
   ]
  },
  {
   "cell_type": "code",
   "execution_count": null,
   "id": "75c351d8-9b46-48e3-b4ab-8538f5e56588",
   "metadata": {},
   "outputs": [],
   "source": [
    "WfPT_all = raw_data"
   ]
  },
  {
   "cell_type": "code",
   "execution_count": null,
   "id": "6a4e153d-4aa8-4907-b525-c824886d93cd",
   "metadata": {},
   "outputs": [],
   "source": [
    "# WfPT_all.columns = WfPT_all.columns.str.replace(\" \", \"_\")\n",
    "# WfPT_all.columns = map(str.lower, WfPT_all.columns)"
   ]
  },
  {
   "cell_type": "code",
   "execution_count": null,
   "id": "b56bbab3-3df6-4af4-8f54-e49e6e6e1377",
   "metadata": {},
   "outputs": [],
   "source": [
    "raw_data.columns"
   ]
  },
  {
   "cell_type": "code",
   "execution_count": null,
   "id": "79fe49a4-17fe-4e3d-ab03-781d9ef95f8e",
   "metadata": {},
   "outputs": [],
   "source": [
    "#Save this file in AWS S3 \n",
    "writer.write(df=WfPT_all, output_path=bucket+output_folder+\"WfPT all.csv\", file_format=\"csv\")"
   ]
  },
  {
   "cell_type": "code",
   "execution_count": null,
   "id": "754c4279-cbce-40a8-b730-ce55fcaf5ca4",
   "metadata": {},
   "outputs": [],
   "source": [
    "#Completed first file\n",
    "WfPT_all\n",
    "len(WfPT_all)"
   ]
  },
  {
   "cell_type": "code",
   "execution_count": null,
   "id": "f111e311-3230-4193-b1e9-daa238c9c23a",
   "metadata": {},
   "outputs": [],
   "source": [
    "# Now create second file - Probation inc HQ\n",
    "# Filter Column \"NOMS-MOJ\" to leave only \"NPS\" or \"NOMS HQ\""
   ]
  },
  {
   "cell_type": "code",
   "execution_count": null,
   "id": "00281bbc-a842-4e9a-bd51-371e97fb8ff0",
   "metadata": {},
   "outputs": [],
   "source": [
    "Probation_inc_HQ = raw_data[raw_data[\"NOMS-MOJ\"].isin([\"NOMS HQ\", \"NPS\"])]"
   ]
  },
  {
   "cell_type": "code",
   "execution_count": null,
   "id": "bac9c5f1-38b9-47cd-b545-f912e06598a2",
   "metadata": {},
   "outputs": [],
   "source": [
    "#Save on AWS S3\n",
    "writer.write(df=Probation_inc_HQ, output_path=bucket+output_folder+\"Probation inc HQ.csv\", file_format=\"csv\")"
   ]
  },
  {
   "cell_type": "code",
   "execution_count": null,
   "id": "1c9634ad-35aa-45a7-9273-f4e2d254bf88",
   "metadata": {},
   "outputs": [],
   "source": [
    "#Completed second file\n",
    "Probation_inc_HQ.head(2)\n",
    "len(Probation_inc_HQ)"
   ]
  },
  {
   "cell_type": "code",
   "execution_count": null,
   "id": "c72a04c8-2eb2-46c0-aa05-ecc881d1189f",
   "metadata": {},
   "outputs": [],
   "source": [
    "# Now create the third file - Probation some HQ\n",
    "#For those working in Probation Delivery Units (PDUs) and Region Offices, \n",
    "#identify those who have NOMS-MOJ (column S) value of \"NPS\".\n",
    "# Add in Other HQ staff – see establishment names below (use the Prog CC and Admin CC)\n",
    "# Cost Centre = 10207830, 10207831, 10207812"
   ]
  },
  {
   "cell_type": "code",
   "execution_count": null,
   "id": "05293c2a-e59a-43e1-b9ea-5ccbbddb96c1",
   "metadata": {},
   "outputs": [],
   "source": [
    "raw_data.head(2)"
   ]
  },
  {
   "cell_type": "code",
   "execution_count": null,
   "id": "27a07098-dd61-46cd-b41e-be907186d2d8",
   "metadata": {},
   "outputs": [],
   "source": [
    "a = raw_data[raw_data[\"NOMS-MOJ\"] == \"NPS\"]\n",
    "b = raw_data[raw_data[\"NOMS-MOJ\"] == \"NOMS HQ\"]\n",
    "c = b[b[\"Cost Centre\"].isin([10207830, 10207831, 10207812])]\n",
    "probation_some_hq = pd.concat([a,c])"
   ]
  },
  {
   "cell_type": "code",
   "execution_count": null,
   "id": "076f52b4-479a-4987-8e52-98be2637b0c1",
   "metadata": {},
   "outputs": [],
   "source": [
    "probation_some_hq\n",
    "len(probation_some_hq)"
   ]
  },
  {
   "cell_type": "code",
   "execution_count": null,
   "id": "c66fb65a-c5b1-4854-9837-2c59c6ba63c9",
   "metadata": {},
   "outputs": [],
   "source": [
    "#Save on AWS S3\n",
    "writer.write(df=probation_some_hq, output_path=bucket+output_folder+\"Probation some HQ.csv\", file_format=\"csv\")"
   ]
  },
  {
   "cell_type": "code",
   "execution_count": null,
   "id": "b09532bb-2da0-49e8-a675-72e16ed31d5c",
   "metadata": {},
   "outputs": [],
   "source": [
    "#Create the fourth sheet - APs\n",
    "## Filter for NOMS-HQ field of \"NOMS HQ\" and then filter for all establishment with “APs\" at end of name. \n",
    "## Filter for National Approved Premises and AP Professionalisation Project (as in the table below).\n",
    "### Cost centres = 10207588, 10207586\n"
   ]
  },
  {
   "cell_type": "code",
   "execution_count": null,
   "id": "920bc906-1ba4-4c10-b8c1-ee3f98b5f3d8",
   "metadata": {},
   "outputs": [],
   "source": [
    "a = raw_data[raw_data[\"NOMS-MOJ\"] == \"NOMS HQ\"]\n",
    "b = a[a[\"Establishment\"].str.contains(\"APs\")]\n",
    "c = raw_data[raw_data[\"Cost Centre\"].isin([10207588, 10207586])]\n",
    "aps = pd.concat([b,c])"
   ]
  },
  {
   "cell_type": "code",
   "execution_count": null,
   "id": "acc8ad1b-0e7c-49f1-8090-5dda3439c9a5",
   "metadata": {},
   "outputs": [],
   "source": [
    "len(aps)"
   ]
  },
  {
   "cell_type": "code",
   "execution_count": null,
   "id": "7d5ec03c-1e83-49f9-8941-203474f8aacf",
   "metadata": {},
   "outputs": [],
   "source": [
    "#Save on AWS S3\n",
    "writer.write(df=aps, output_path=bucket+output_folder+\"APs.csv\", file_format=\"csv\")"
   ]
  },
  {
   "cell_type": "code",
   "execution_count": null,
   "id": "3b3bd99a-c0a0-47b2-98a8-9c912f84fdf3",
   "metadata": {},
   "outputs": [],
   "source": [
    "####################################################################################################################\n",
    "# Next step - to combine csv files into one workbook on excel\n",
    "####################################################################################################################"
   ]
  },
  {
   "cell_type": "code",
   "execution_count": null,
   "id": "2581f81e-55fe-448e-a4e2-e22ae9960308",
   "metadata": {},
   "outputs": [],
   "source": [
    "## Name of csv files\n",
    "# WfPT_all\n",
    "# Probation_inc_HQ\n",
    "# probation_some_hq\n",
    "# aps"
   ]
  },
  {
   "cell_type": "code",
   "execution_count": null,
   "id": "e464bb07-3772-4cd8-9615-e04a67ca5329",
   "metadata": {},
   "outputs": [],
   "source": [
    "with io.BytesIO() as output:\n",
    "    with pd.ExcelWriter(output, engine='xlsxwriter') as writer:\n",
    "        WfPT_all.to_excel(writer, sheet_name='WfPT All')\n",
    "        Probation_inc_HQ.to_excel(writer, sheet_name='Probation inc HQ')\n",
    "        probation_some_hq.to_excel(writer, sheet_name='Probation some HQ')\n",
    "        aps.to_excel(writer, sheet_name='APs')\n",
    "    data = output.getvalue()\n",
    "s3 = boto3.resource('s3')\n",
    "s3.Bucket('alpha-piatool').put_object(Key='sopdq_AV/outputs/WFPT Staff Data Mar22 Probation.xlsx', Body=data)\n"
   ]
  },
  {
   "cell_type": "code",
   "execution_count": null,
   "id": "06db268c-a674-4e12-9d9e-83c0b095b069",
   "metadata": {},
   "outputs": [],
   "source": [
    "####################################################################################################################\n",
    "# Next step - Add look up files\n",
    "####################################################################################################################"
   ]
  },
  {
   "cell_type": "code",
   "execution_count": null,
   "id": "d6752032-2131-4432-8bdd-94693a9b445f",
   "metadata": {},
   "outputs": [],
   "source": [
    "#Loading the look up file stored in reference folder\n",
    "look_ups = pd.read_excel(bucket+input_folder+\"Lookups for Probation DQ v1.4.xlsx\", \n",
    "                         sheet_name=1, skiprows=2)\n",
    "\n",
    "cost_centre_consistency = pd.read_excel(bucket+input_folder+\"Lookups for Probation DQ v1.4.xlsx\", \n",
    "                                        sheet_name=\"Cost Centre types\", skiprows=2)"
   ]
  },
  {
   "cell_type": "code",
   "execution_count": null,
   "id": "6d268e36-9425-4a72-bf5b-14ae04fbf71d",
   "metadata": {},
   "outputs": [],
   "source": [
    "look_ups.columns"
   ]
  },
  {
   "cell_type": "code",
   "execution_count": null,
   "id": "eb922a78-8fb5-4886-aa4a-2689bbd09560",
   "metadata": {},
   "outputs": [],
   "source": [
    "cost_centre_lookup = look_ups[['Cost Centre', 'Unnamed: 1', 'Unnamed: 2', 'Unnamed: 3','Cost Centre Description']]\n",
    "location_name_lookup = look_ups[['Location Name', 'Unnamed: 8', 'Unnamed: 9', 'Unnamed: 10', 'Location Post Code']]\n",
    "internal_function_lookup = look_ups[['Internal Function']]\n",
    "job_title_lookup = look_ups[['Job Title']]\n",
    "job_band_lookup = look_ups[['MoJ/NOMS Grade']]"
   ]
  },
  {
   "cell_type": "code",
   "execution_count": null,
   "id": "9265dd19-8988-4e1c-ab35-54b7eab21ee7",
   "metadata": {},
   "outputs": [],
   "source": [
    "################################################################################################################\n",
    "# Main Data Quality checks \n",
    "## Cost Centres\n",
    "## HR locations\n",
    "## Internal functions\n",
    "## Job (Title)\n",
    "## *Job (Band) not required but added in any event\n",
    "################################################################################################################"
   ]
  },
  {
   "cell_type": "code",
   "execution_count": null,
   "id": "e3b29bdc-8329-426f-a3a2-345cc1cfbe1c",
   "metadata": {},
   "outputs": [],
   "source": [
    "#Tidy up Cost Centre lookup column titles\n",
    "new_header = cost_centre_lookup.iloc[0] #grab the first row for the header\n",
    "cost_centre_lookup = cost_centre_lookup[1:] #take the data less the header row\n",
    "cost_centre_lookup.columns = new_header #set the header row as the df header"
   ]
  },
  {
   "cell_type": "code",
   "execution_count": null,
   "id": "44fa08c4-2571-4d68-9480-500f99b77905",
   "metadata": {},
   "outputs": [],
   "source": [
    "cost_centre_lookup = cost_centre_lookup[['Cost Centre Number','Region','Pdu Name (as used in the target)/LDU name', \"Cost centre name in SOP\"]]\n",
    "cost_centre_lookup.head(3)"
   ]
  },
  {
   "cell_type": "code",
   "execution_count": null,
   "id": "450c21b4-2543-40ed-80af-e82258e99034",
   "metadata": {},
   "outputs": [],
   "source": [
    "#Tidy up HR Location lookup column titles\n",
    "hr_location_lookup = location_name_lookup\n",
    "new_header = hr_location_lookup.iloc[0] #grab the first row for the header\n",
    "hr_location_lookup = hr_location_lookup[1:] #take the data less the header row\n",
    "hr_location_lookup.columns = new_header #set the header row as the df header"
   ]
  },
  {
   "cell_type": "code",
   "execution_count": null,
   "id": "601a36a8-3e65-49c9-8093-bc71421060e0",
   "metadata": {},
   "outputs": [],
   "source": [
    "hr_location_lookup.head(3)                        "
   ]
  },
  {
   "cell_type": "code",
   "execution_count": null,
   "id": "175d745b-60b9-4023-b857-7bb47f78b5cf",
   "metadata": {},
   "outputs": [],
   "source": [
    "#Tidy up Internal Function lookup column title\n",
    "new_header = internal_function_lookup.iloc[0] #grab the first row for the header\n",
    "internal_function_lookup = internal_function_lookup[1:] #take the data less the header row\n",
    "internal_function_lookup.columns = new_header #set the header row as the df header"
   ]
  },
  {
   "cell_type": "code",
   "execution_count": null,
   "id": "aab2ed86-1009-4b0e-9f3b-fce3023acedf",
   "metadata": {},
   "outputs": [],
   "source": [
    "internal_function_lookup.head(3)"
   ]
  },
  {
   "cell_type": "code",
   "execution_count": null,
   "id": "a4f834f5-8669-4a60-962d-3f96ffbb9171",
   "metadata": {},
   "outputs": [],
   "source": [
    "#Tidy up Job (title) lookup column title\n",
    "new_header = job_title_lookup.iloc[0] #grab the first row for the header\n",
    "job_title_lookup = job_title_lookup[1:] #take the data less the header row\n",
    "job_title_lookup.columns = new_header #set the header row as the df header"
   ]
  },
  {
   "cell_type": "code",
   "execution_count": null,
   "id": "88a7fd1c-cd25-4710-bd05-b525845778c7",
   "metadata": {},
   "outputs": [],
   "source": [
    "job_title_lookup.head(3)"
   ]
  },
  {
   "cell_type": "code",
   "execution_count": null,
   "id": "a7afe5fa-500d-4d17-9f0d-50d31d73cf71",
   "metadata": {},
   "outputs": [],
   "source": [
    "#Tidy up Job (band) lookup column title\n",
    "new_header = job_band_lookup.iloc[0] #grab the first row for the header\n",
    "job_band_lookup = job_band_lookup[1:] #take the data less the header row\n",
    "job_band_lookup.columns = new_header #set the header row as the df header"
   ]
  },
  {
   "cell_type": "code",
   "execution_count": null,
   "id": "f9874892-99d8-476e-a964-f33cb68d57ce",
   "metadata": {},
   "outputs": [],
   "source": [
    "job_band_lookup.head(3)"
   ]
  },
  {
   "cell_type": "code",
   "execution_count": null,
   "id": "79f689d8-4143-45a0-b5de-ca0ec5e20b29",
   "metadata": {},
   "outputs": [],
   "source": [
    "cost_centre_consistency = cost_centre_consistency[[\"Cost Centre\", \"Cost Centre Type\"]]\n",
    "cost_centre_consistency[\"Cost Centre\"]=cost_centre_consistency[\"Cost Centre\"].astype(\"Int64\")\n",
    "cost_centre_consistency.head(3)"
   ]
  },
  {
   "cell_type": "code",
   "execution_count": null,
   "id": "368e6889-c974-45da-aa85-4ad9fceb891f",
   "metadata": {},
   "outputs": [],
   "source": [
    "# Save all lookups in single excel file\n",
    "with io.BytesIO() as output:\n",
    "    with pd.ExcelWriter(output, engine='xlsxwriter') as writer:\n",
    "        cost_centre_lookup.to_excel(writer, sheet_name='Cost Centre Lookup')\n",
    "        internal_function_lookup.to_excel(writer, sheet_name='Internal Function Lookup')\n",
    "        hr_location_lookup.to_excel(writer, sheet_name='HR Location Lookup')\n",
    "        job_title_lookup.to_excel(writer, sheet_name='Job Title Lookup')\n",
    "        cost_centre_consistency.to_excel(writer, sheet_name=\"Cost Centre type\")\n",
    "    data = output.getvalue()\n",
    "s3 = boto3.resource('s3')\n",
    "s3.Bucket('alpha-piatool').put_object(Key='sopdq_AV/outputs/WFPT lookups.xlsx', Body=data)\n"
   ]
  },
  {
   "cell_type": "code",
   "execution_count": null,
   "id": "8c900c4c-e8f8-4664-8d62-a22af8213a7c",
   "metadata": {},
   "outputs": [],
   "source": [
    "################################################################################\n",
    "# Workforce Probation Error Report\n",
    "################################################################################"
   ]
  },
  {
   "cell_type": "code",
   "execution_count": null,
   "id": "84838b5b-6000-40a4-8053-1b91c644522f",
   "metadata": {},
   "outputs": [],
   "source": [
    "## Step 1: Create Sheet \"WfPT Probation Staff in Post\"\n",
    "### Use Probation Some HQ \n",
    "### Use cost_centre_consistency"
   ]
  },
  {
   "cell_type": "code",
   "execution_count": null,
   "id": "34cf872c-7d78-4678-8959-5c1eb9d334fe",
   "metadata": {},
   "outputs": [],
   "source": [
    "len(probation_some_hq)"
   ]
  },
  {
   "cell_type": "code",
   "execution_count": null,
   "id": "1c57d16a-89d6-43ae-8bb7-4dbcac678c5a",
   "metadata": {},
   "outputs": [],
   "source": [
    "probation_some_hq.columns"
   ]
  },
  {
   "cell_type": "code",
   "execution_count": null,
   "id": "4bfe9b21-7e68-4121-878e-e3427e0bfb43",
   "metadata": {},
   "outputs": [],
   "source": [
    "wfpt_probation_sip = pd.merge(probation_some_hq, cost_centre_consistency, on = \"Cost Centre\", how = \"left\")"
   ]
  },
  {
   "cell_type": "code",
   "execution_count": null,
   "id": "804dbea2-24dd-4e73-9592-634d9f6c33e6",
   "metadata": {},
   "outputs": [],
   "source": [
    "cols = ['Cost Centre Type', 'Internal Function', 'Job']\n",
    "wfpt_probation_sip[\"Joined CCType,IF, Job For Consistency Check\"] = wfpt_probation_sip[cols].apply(lambda row: ', '.join(row.values.astype(str)), axis=1)"
   ]
  },
  {
   "cell_type": "code",
   "execution_count": null,
   "id": "befec60e-8c54-43cc-a48f-9ab50f08e6d0",
   "metadata": {},
   "outputs": [],
   "source": [
    "##################################################################################################################"
   ]
  },
  {
   "cell_type": "code",
   "execution_count": null,
   "id": "00dbb3fa-3726-4a57-9a75-043f7a8b0fb8",
   "metadata": {},
   "outputs": [],
   "source": [
    "## Step 2: Create \"Cost Centre Error Flag\" column\n",
    "\n",
    "# Merge main to lookup on cost centre\n",
    "# If matched, \"Valid\", \n",
    "# If NA, \"Missing\", \n",
    "# If not NA and not matched, \"Invalid\""
   ]
  },
  {
   "cell_type": "code",
   "execution_count": null,
   "id": "01c94d07-fa37-46d8-a547-fdecc96906ed",
   "metadata": {},
   "outputs": [],
   "source": [
    "cost_centre_lookup2 = cost_centre_lookup[[\"Cost Centre Number\"]]\n",
    "cost_centre_lookup2 = cost_centre_lookup2.dropna(subset=[\"Cost Centre Number\"])\n",
    "cost_centre_lookup2 =cost_centre_lookup2.drop_duplicates(subset=[\"Cost Centre Number\"])\n",
    "cost_centre_lookup2[\"Cost Centre\"] = pd.to_numeric(cost_centre_lookup2[\"Cost Centre Number\"])"
   ]
  },
  {
   "cell_type": "code",
   "execution_count": null,
   "id": "bfbee508-ec82-485f-bc73-05e9987a2ffe",
   "metadata": {},
   "outputs": [],
   "source": [
    "wfpt_probation_sip2 = pd.merge(wfpt_probation_sip, cost_centre_lookup2, on=\"Cost Centre\", how=\"left\")"
   ]
  },
  {
   "cell_type": "code",
   "execution_count": null,
   "id": "20a83ece-cf62-449b-b196-05157d3c539d",
   "metadata": {},
   "outputs": [],
   "source": [
    "wfpt_probation_sip2[\"Cost Centre Error Flag\"] = np.where(wfpt_probation_sip2[\"Cost Centre Number\"] == wfpt_probation_sip2[\"Cost Centre\"], \"Valid\", \n",
    "                                                         np.where(wfpt_probation_sip2[\"Cost Centre\"].isna(), \"Missing\", \"Invalid\"))"
   ]
  },
  {
   "cell_type": "code",
   "execution_count": null,
   "id": "12c47431-a96b-4e35-b328-64f2b8866adf",
   "metadata": {},
   "outputs": [],
   "source": [
    "print(\n",
    "    len(wfpt_probation_sip2[wfpt_probation_sip2[\"Cost Centre Error Flag\"]==\"Invalid\"]), \n",
    "    len(wfpt_probation_sip2[wfpt_probation_sip2[\"Cost Centre Error Flag\"]==\"Valid\"]), \n",
    "    len(wfpt_probation_sip2[wfpt_probation_sip2[\"Cost Centre Error Flag\"]==\"Missing\"]), \n",
    "    len(wfpt_probation_sip2)\n",
    ")"
   ]
  },
  {
   "cell_type": "code",
   "execution_count": null,
   "id": "84121b9d-9a6c-4e21-bf8e-f77c0778b2ad",
   "metadata": {},
   "outputs": [],
   "source": [
    "## Step 3: Create \"HR Location Error Flag\" column\n",
    "\n",
    "# Merge main to lookup on cost centre\n",
    "# If matched, \"Valid\", \n",
    "# If NA, \"Missing\", \n",
    "# If not NA and not matched, \"Invalid\""
   ]
  },
  {
   "cell_type": "code",
   "execution_count": null,
   "id": "24e7d9e0-5854-4f20-abd2-5d99c30690ee",
   "metadata": {},
   "outputs": [],
   "source": []
  }
 ],
 "metadata": {
  "kernelspec": {
   "display_name": "Python 3 (ipykernel)",
   "language": "python",
   "name": "python3"
  },
  "language_info": {
   "codemirror_mode": {
    "name": "ipython",
    "version": 3
   },
   "file_extension": ".py",
   "mimetype": "text/x-python",
   "name": "python",
   "nbconvert_exporter": "python",
   "pygments_lexer": "ipython3",
   "version": "3.9.6"
  }
 },
 "nbformat": 4,
 "nbformat_minor": 5
}
