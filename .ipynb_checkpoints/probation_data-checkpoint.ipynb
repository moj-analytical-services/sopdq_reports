{
 "cells": [
  {
   "cell_type": "code",
   "execution_count": null,
   "id": "2c652ca8-8c12-42a9-8b6f-45e6bae1f779",
   "metadata": {},
   "outputs": [],
   "source": [
    "#First Stage of automating exception reports"
   ]
  },
  {
   "cell_type": "code",
   "execution_count": null,
   "id": "b6dd4001-c7a2-46e8-946e-af4b322064a9",
   "metadata": {},
   "outputs": [],
   "source": [
    "#Downloading the raw data from Amazon Web Service (AWS) S3 \n",
    "#This is the cloud warehouse where we store data for use on the analytical platform\n",
    "\n",
    "#This is a package that allows us to download data from AWS S3 in a more usable way\n",
    "#You may need to install it in the Terminal --> pip install arrow-pd-parser"
   ]
  },
  {
   "cell_type": "code",
   "execution_count": null,
   "id": "55903ad7-a2c2-4129-9e6a-d8a94b7b0cce",
   "metadata": {},
   "outputs": [],
   "source": [
    "from arrow_pd_parser import reader, writer\n",
    "import boto3\n",
    "import pandas as pd\n",
    "import numpy as np\n",
    "import io\n",
    "import xlsxwriter"
   ]
  },
  {
   "cell_type": "code",
   "execution_count": null,
   "id": "e7f95398-fa86-41a7-b102-b165abad575f",
   "metadata": {},
   "outputs": [],
   "source": [
    "# Specifying the reader Both reader statements are equivalent and call the same readers under the hood\n",
    "#Location of data - setting up the folder and file names\n",
    "bucket = \"s3://alpha-piatool/\"\n",
    "input_folder = \"sopdq_AV/inputs/\"\n",
    "output_folder = \"sopdq_AV/outputs/\"\n",
    "raw_data = \"WFPT Staff Data Mar22.csv\""
   ]
  },
  {
   "cell_type": "code",
   "execution_count": null,
   "id": "9835d0a2-4864-4f0b-bc90-627ed626911e",
   "metadata": {},
   "outputs": [],
   "source": [
    "#Loading the raw data stored by David Yuen \n",
    "raw_data = reader.read(bucket+input_folder+raw_data, file_format=\"csv\")"
   ]
  },
  {
   "cell_type": "code",
   "execution_count": null,
   "id": "fb2587c8-f092-4725-beb9-59c2b5d0ee5f",
   "metadata": {},
   "outputs": [],
   "source": [
    "raw_data.head(2)"
   ]
  },
  {
   "cell_type": "code",
   "execution_count": null,
   "id": "b4bbc627-51dd-41ed-a776-db3b3705aeea",
   "metadata": {},
   "outputs": [],
   "source": [
    "#Tracie Kilbey creates four sheets from the raw dataset, which she then uses for the exception reports\n",
    "#Let's start with creating the first sheet, as it's the simplest - \"WfPT all\"\n",
    "#This is just the raw data, but we'll make a few changes to column headings to make it easier to use"
   ]
  },
  {
   "cell_type": "code",
   "execution_count": null,
   "id": "75c351d8-9b46-48e3-b4ab-8538f5e56588",
   "metadata": {},
   "outputs": [],
   "source": [
    "WfPT_all = raw_data"
   ]
  },
  {
   "cell_type": "code",
   "execution_count": null,
   "id": "6a4e153d-4aa8-4907-b525-c824886d93cd",
   "metadata": {},
   "outputs": [],
   "source": [
    "# WfPT_all.columns = WfPT_all.columns.str.replace(\" \", \"_\")\n",
    "# WfPT_all.columns = map(str.lower, WfPT_all.columns)"
   ]
  },
  {
   "cell_type": "code",
   "execution_count": null,
   "id": "b56bbab3-3df6-4af4-8f54-e49e6e6e1377",
   "metadata": {},
   "outputs": [],
   "source": [
    "raw_data.columns"
   ]
  },
  {
   "cell_type": "code",
   "execution_count": null,
   "id": "79fe49a4-17fe-4e3d-ab03-781d9ef95f8e",
   "metadata": {},
   "outputs": [],
   "source": [
    "#Save this file in AWS S3 \n",
    "writer.write(df=WfPT_all, output_path=bucket+output_folder+\"WfPT all.csv\", file_format=\"csv\")"
   ]
  },
  {
   "cell_type": "code",
   "execution_count": null,
   "id": "754c4279-cbce-40a8-b730-ce55fcaf5ca4",
   "metadata": {},
   "outputs": [],
   "source": [
    "#Completed first file\n",
    "WfPT_all\n",
    "len(WfPT_all)"
   ]
  },
  {
   "cell_type": "code",
   "execution_count": null,
   "id": "f111e311-3230-4193-b1e9-daa238c9c23a",
   "metadata": {},
   "outputs": [],
   "source": [
    "# Now create second file - Probation inc HQ\n",
    "# Filter Column \"NOMS-MOJ\" to leave only \"NPS\" or \"NOMS HQ\""
   ]
  },
  {
   "cell_type": "code",
   "execution_count": null,
   "id": "00281bbc-a842-4e9a-bd51-371e97fb8ff0",
   "metadata": {},
   "outputs": [],
   "source": [
    "Probation_inc_HQ = raw_data[raw_data[\"NOMS-MOJ\"].isin([\"NOMS HQ\", \"NPS\"])]"
   ]
  },
  {
   "cell_type": "code",
   "execution_count": null,
   "id": "bac9c5f1-38b9-47cd-b545-f912e06598a2",
   "metadata": {},
   "outputs": [],
   "source": [
    "#Save on AWS S3\n",
    "writer.write(df=Probation_inc_HQ, output_path=bucket+output_folder+\"Probation inc HQ.csv\", file_format=\"csv\")"
   ]
  },
  {
   "cell_type": "code",
   "execution_count": null,
   "id": "1c9634ad-35aa-45a7-9273-f4e2d254bf88",
   "metadata": {},
   "outputs": [],
   "source": [
    "#Completed second file\n",
    "Probation_inc_HQ.head(2)\n",
    "len(Probation_inc_HQ)"
   ]
  },
  {
   "cell_type": "code",
   "execution_count": null,
   "id": "c72a04c8-2eb2-46c0-aa05-ecc881d1189f",
   "metadata": {},
   "outputs": [],
   "source": [
    "# Now create the third file - Probation some HQ\n",
    "#For those working in Probation Delivery Units (PDUs) and Region Offices, \n",
    "#identify those who have NOMS-MOJ (column S) value of \"NPS\".\n",
    "# Add in Other HQ staff – see establishment names below (use the Prog CC and Admin CC)\n",
    "# Cost Centre = 10207830, 10207831, 10207812"
   ]
  },
  {
   "cell_type": "code",
   "execution_count": null,
   "id": "05293c2a-e59a-43e1-b9ea-5ccbbddb96c1",
   "metadata": {},
   "outputs": [],
   "source": [
    "raw_data.head(2)"
   ]
  },
  {
   "cell_type": "code",
   "execution_count": null,
   "id": "27a07098-dd61-46cd-b41e-be907186d2d8",
   "metadata": {},
   "outputs": [],
   "source": [
    "a = raw_data[raw_data[\"NOMS-MOJ\"] == \"NPS\"]\n",
    "b = raw_data[raw_data[\"NOMS-MOJ\"] == \"NOMS HQ\"]\n",
    "c = b[b[\"Cost Centre\"].isin([10207830, 10207831, 10207812])]\n",
    "probation_some_hq = pd.concat([a,c])"
   ]
  },
  {
   "cell_type": "code",
   "execution_count": null,
   "id": "076f52b4-479a-4987-8e52-98be2637b0c1",
   "metadata": {},
   "outputs": [],
   "source": [
    "probation_some_hq\n",
    "len(probation_some_hq)"
   ]
  },
  {
   "cell_type": "code",
   "execution_count": null,
   "id": "c66fb65a-c5b1-4854-9837-2c59c6ba63c9",
   "metadata": {},
   "outputs": [],
   "source": [
    "#Save on AWS S3\n",
    "writer.write(df=probation_some_hq, output_path=bucket+output_folder+\"Probation some HQ.csv\", file_format=\"csv\")"
   ]
  },
  {
   "cell_type": "code",
   "execution_count": null,
   "id": "b09532bb-2da0-49e8-a675-72e16ed31d5c",
   "metadata": {},
   "outputs": [],
   "source": [
    "#Create the fourth sheet - APs\n",
    "## Filter for NOMS-HQ field of \"NOMS HQ\" and then filter for all establishment with “APs\" at end of name. \n",
    "## Filter for National Approved Premises and AP Professionalisation Project (as in the table below).\n",
    "### Cost centres = 10207588, 10207586\n"
   ]
  },
  {
   "cell_type": "code",
   "execution_count": null,
   "id": "920bc906-1ba4-4c10-b8c1-ee3f98b5f3d8",
   "metadata": {},
   "outputs": [],
   "source": [
    "a = raw_data[raw_data[\"NOMS-MOJ\"] == \"NOMS HQ\"]\n",
    "b = a[a[\"Establishment\"].str.contains(\"APs\")]\n",
    "c = raw_data[raw_data[\"Cost Centre\"].isin([10207588, 10207586])]\n",
    "aps = pd.concat([b,c])"
   ]
  },
  {
   "cell_type": "code",
   "execution_count": null,
   "id": "acc8ad1b-0e7c-49f1-8090-5dda3439c9a5",
   "metadata": {},
   "outputs": [],
   "source": [
    "len(aps)"
   ]
  },
  {
   "cell_type": "code",
   "execution_count": null,
   "id": "7d5ec03c-1e83-49f9-8941-203474f8aacf",
   "metadata": {},
   "outputs": [],
   "source": [
    "#Save on AWS S3\n",
    "writer.write(df=aps, output_path=bucket+output_folder+\"APs.csv\", file_format=\"csv\")"
   ]
  },
  {
   "cell_type": "code",
   "execution_count": null,
   "id": "3b3bd99a-c0a0-47b2-98a8-9c912f84fdf3",
   "metadata": {},
   "outputs": [],
   "source": [
    "####################################################################################################################\n",
    "# Next step - to combine csv files into one workbook on excel\n",
    "####################################################################################################################"
   ]
  },
  {
   "cell_type": "code",
   "execution_count": null,
   "id": "2581f81e-55fe-448e-a4e2-e22ae9960308",
   "metadata": {},
   "outputs": [],
   "source": [
    "## Name of csv files\n",
    "# WfPT_all\n",
    "# Probation_inc_HQ\n",
    "# probation_some_hq\n",
    "# aps"
   ]
  },
  {
   "cell_type": "code",
   "execution_count": null,
   "id": "e464bb07-3772-4cd8-9615-e04a67ca5329",
   "metadata": {},
   "outputs": [],
   "source": [
    "with io.BytesIO() as output:\n",
    "    with pd.ExcelWriter(output, engine='xlsxwriter') as writer:\n",
    "        WfPT_all.to_excel(writer, sheet_name='WfPT All')\n",
    "        Probation_inc_HQ.to_excel(writer, sheet_name='Probation inc HQ')\n",
    "        probation_some_hq.to_excel(writer, sheet_name='Probation some HQ')\n",
    "        aps.to_excel(writer, sheet_name='APs')\n",
    "    data = output.getvalue()\n",
    "s3 = boto3.resource('s3')\n",
    "s3.Bucket('alpha-piatool').put_object(Key='sopdq_AV/outputs/WFPT Staff Data Mar22 Probation.xlsx', Body=data)\n"
   ]
  },
  {
   "cell_type": "code",
   "execution_count": null,
   "id": "06db268c-a674-4e12-9d9e-83c0b095b069",
   "metadata": {},
   "outputs": [],
   "source": [
    "####################################################################################################################\n",
    "# Next step - Add look up files\n",
    "####################################################################################################################"
   ]
  },
  {
   "cell_type": "code",
   "execution_count": null,
   "id": "d6752032-2131-4432-8bdd-94693a9b445f",
   "metadata": {},
   "outputs": [],
   "source": [
    "#Loading the look up file stored in reference folder\n",
    "look_ups = pd.read_excel(bucket+input_folder+\"Lookups for Probation DQ v1.4.xlsx\", \n",
    "                         sheet_name=1, skiprows=2)\n",
    "\n",
    "cost_centre_consistency = pd.read_excel(bucket+input_folder+\"Lookups for Probation DQ v1.4.xlsx\", \n",
    "                                        sheet_name=\"Cost Centre types\", skiprows=2)"
   ]
  },
  {
   "cell_type": "code",
   "execution_count": null,
   "id": "6d268e36-9425-4a72-bf5b-14ae04fbf71d",
   "metadata": {},
   "outputs": [],
   "source": [
    "look_ups.columns"
   ]
  },
  {
   "cell_type": "code",
   "execution_count": null,
   "id": "eb922a78-8fb5-4886-aa4a-2689bbd09560",
   "metadata": {},
   "outputs": [],
   "source": [
    "cost_centre_lookup = look_ups[['Cost Centre', 'Unnamed: 1', 'Unnamed: 2', 'Unnamed: 3','Cost Centre Description']]\n",
    "location_name_lookup = look_ups[['Location Name', 'Unnamed: 8', 'Unnamed: 9', 'Unnamed: 10', 'Location Post Code']]\n",
    "internal_function_lookup = look_ups[['Internal Function']]\n",
    "job_title_lookup = look_ups[['Job Title']]\n",
    "job_band_lookup = look_ups[['MoJ/NOMS Grade']]"
   ]
  },
  {
   "cell_type": "code",
   "execution_count": null,
   "id": "9265dd19-8988-4e1c-ab35-54b7eab21ee7",
   "metadata": {},
   "outputs": [],
   "source": [
    "################################################################################################################\n",
    "# Main Data Quality checks \n",
    "## Cost Centres\n",
    "## HR locations\n",
    "## Internal functions\n",
    "## Job (Title)\n",
    "## *Job (Band) not required but added in any event\n",
    "################################################################################################################"
   ]
  },
  {
   "cell_type": "code",
   "execution_count": null,
   "id": "e3b29bdc-8329-426f-a3a2-345cc1cfbe1c",
   "metadata": {},
   "outputs": [],
   "source": [
    "#Tidy up Cost Centre lookup column titles\n",
    "new_header = cost_centre_lookup.iloc[0] #grab the first row for the header\n",
    "cost_centre_lookup = cost_centre_lookup[1:] #take the data less the header row\n",
    "cost_centre_lookup.columns = new_header #set the header row as the df header"
   ]
  },
  {
   "cell_type": "code",
   "execution_count": null,
   "id": "44fa08c4-2571-4d68-9480-500f99b77905",
   "metadata": {},
   "outputs": [],
   "source": [
    "cost_centre_lookup = cost_centre_lookup[['Cost Centre Number','Region','Pdu Name (as used in the target)/LDU name', \"Cost centre name in SOP\"]]\n",
    "cost_centre_lookup.head(3)"
   ]
  },
  {
   "cell_type": "code",
   "execution_count": null,
   "id": "450c21b4-2543-40ed-80af-e82258e99034",
   "metadata": {},
   "outputs": [],
   "source": [
    "#Tidy up HR Location lookup column titles\n",
    "hr_location_lookup = location_name_lookup\n",
    "new_header = hr_location_lookup.iloc[0] #grab the first row for the header\n",
    "hr_location_lookup = hr_location_lookup[1:] #take the data less the header row\n",
    "hr_location_lookup.columns = new_header #set the header row as the df header"
   ]
  },
  {
   "cell_type": "code",
   "execution_count": null,
   "id": "601a36a8-3e65-49c9-8093-bc71421060e0",
   "metadata": {},
   "outputs": [],
   "source": [
    "hr_location_lookup.head(3)                        "
   ]
  },
  {
   "cell_type": "code",
   "execution_count": null,
   "id": "175d745b-60b9-4023-b857-7bb47f78b5cf",
   "metadata": {},
   "outputs": [],
   "source": [
    "#Tidy up Internal Function lookup column title\n",
    "new_header = internal_function_lookup.iloc[0] #grab the first row for the header\n",
    "internal_function_lookup = internal_function_lookup[1:] #take the data less the header row\n",
    "internal_function_lookup.columns = new_header #set the header row as the df header"
   ]
  },
  {
   "cell_type": "code",
   "execution_count": null,
   "id": "aab2ed86-1009-4b0e-9f3b-fce3023acedf",
   "metadata": {},
   "outputs": [],
   "source": [
    "internal_function_lookup.head(3)"
   ]
  },
  {
   "cell_type": "code",
   "execution_count": null,
   "id": "a4f834f5-8669-4a60-962d-3f96ffbb9171",
   "metadata": {},
   "outputs": [],
   "source": [
    "#Tidy up Job (title) lookup column title\n",
    "new_header = job_title_lookup.iloc[0] #grab the first row for the header\n",
    "job_title_lookup = job_title_lookup[1:] #take the data less the header row\n",
    "job_title_lookup.columns = new_header #set the header row as the df header"
   ]
  },
  {
   "cell_type": "code",
   "execution_count": null,
   "id": "88a7fd1c-cd25-4710-bd05-b525845778c7",
   "metadata": {},
   "outputs": [],
   "source": [
    "job_title_lookup.head(3)"
   ]
  },
  {
   "cell_type": "code",
   "execution_count": null,
   "id": "a7afe5fa-500d-4d17-9f0d-50d31d73cf71",
   "metadata": {},
   "outputs": [],
   "source": [
    "#Tidy up Job (band) lookup column title\n",
    "new_header = job_band_lookup.iloc[0] #grab the first row for the header\n",
    "job_band_lookup = job_band_lookup[1:] #take the data less the header row\n",
    "job_band_lookup.columns = new_header #set the header row as the df header"
   ]
  },
  {
   "cell_type": "code",
   "execution_count": null,
   "id": "f9874892-99d8-476e-a964-f33cb68d57ce",
   "metadata": {},
   "outputs": [],
   "source": [
    "job_band_lookup.head(3)"
   ]
  },
  {
   "cell_type": "code",
   "execution_count": null,
   "id": "79f689d8-4143-45a0-b5de-ca0ec5e20b29",
   "metadata": {},
   "outputs": [],
   "source": [
    "cost_centre_consistency = cost_centre_consistency[[\"Cost Centre\", \"Cost Centre Type\"]]\n",
    "cost_centre_consistency[\"Cost Centre\"]=cost_centre_consistency[\"Cost Centre\"].astype(\"Int64\")\n",
    "cost_centre_consistency.head(3)"
   ]
  },
  {
   "cell_type": "code",
   "execution_count": null,
   "id": "368e6889-c974-45da-aa85-4ad9fceb891f",
   "metadata": {},
   "outputs": [],
   "source": [
    "# Save all lookups in single excel file\n",
    "with io.BytesIO() as output:\n",
    "    with pd.ExcelWriter(output, engine='xlsxwriter') as writer:\n",
    "        cost_centre_lookup.to_excel(writer, sheet_name='Cost Centre Lookup')\n",
    "        internal_function_lookup.to_excel(writer, sheet_name='Internal Function Lookup')\n",
    "        hr_location_lookup.to_excel(writer, sheet_name='HR Location Lookup')\n",
    "        job_title_lookup.to_excel(writer, sheet_name='Job Title Lookup')\n",
    "        cost_centre_consistency.to_excel(writer, sheet_name=\"Cost Centre type\")\n",
    "    data = output.getvalue()\n",
    "s3 = boto3.resource('s3')\n",
    "s3.Bucket('alpha-piatool').put_object(Key='sopdq_AV/outputs/WFPT lookups.xlsx', Body=data)\n"
   ]
  },
  {
   "cell_type": "code",
   "execution_count": null,
   "id": "8c900c4c-e8f8-4664-8d62-a22af8213a7c",
   "metadata": {},
   "outputs": [],
   "source": [
    "################################################################################\n",
    "# Workforce Probation Error Report\n",
    "################################################################################"
   ]
  },
  {
   "cell_type": "code",
   "execution_count": null,
   "id": "84838b5b-6000-40a4-8053-1b91c644522f",
   "metadata": {},
   "outputs": [],
   "source": [
    "## Step 0: Create Sheet \"WfPT Probation Staff in Post\"\n",
    "### Use Probation Some HQ \n",
    "### Use cost_centre_consistency"
   ]
  },
  {
   "cell_type": "code",
   "execution_count": null,
   "id": "34cf872c-7d78-4678-8959-5c1eb9d334fe",
   "metadata": {},
   "outputs": [],
   "source": [
    "len(probation_some_hq)"
   ]
  },
  {
   "cell_type": "code",
   "execution_count": null,
   "id": "1c57d16a-89d6-43ae-8bb7-4dbcac678c5a",
   "metadata": {},
   "outputs": [],
   "source": [
    "probation_some_hq.columns"
   ]
  },
  {
   "cell_type": "code",
   "execution_count": null,
   "id": "4bfe9b21-7e68-4121-878e-e3427e0bfb43",
   "metadata": {},
   "outputs": [],
   "source": [
    "wfpt_probation_sip = pd.merge(probation_some_hq, cost_centre_consistency, on = \"Cost Centre\", how = \"left\")"
   ]
  },
  {
   "cell_type": "code",
   "execution_count": null,
   "id": "804dbea2-24dd-4e73-9592-634d9f6c33e6",
   "metadata": {},
   "outputs": [],
   "source": [
    "cols = ['Cost Centre Type', 'Internal Function', 'Job']\n",
    "wfpt_probation_sip[\"Joined CCType,IF, Job For Consistency Check\"] = wfpt_probation_sip[cols].apply(lambda row: ', '.join(row.values.astype(str)), axis=1)"
   ]
  },
  {
   "cell_type": "code",
   "execution_count": null,
   "id": "befec60e-8c54-43cc-a48f-9ab50f08e6d0",
   "metadata": {},
   "outputs": [],
   "source": [
    "##################################################################################################################"
   ]
  },
  {
   "cell_type": "code",
   "execution_count": null,
   "id": "00dbb3fa-3726-4a57-9a75-043f7a8b0fb8",
   "metadata": {},
   "outputs": [],
   "source": [
    "## Step 1: Create \"Cost Centre Error Flag\" column\n",
    "\n",
    "# Merge main to lookup on cost centre\n",
    "# If matched, \"Valid\", \n",
    "# If NA, \"Missing\", \n",
    "# If not NA and not matched, \"Invalid\""
   ]
  },
  {
   "cell_type": "code",
   "execution_count": null,
   "id": "01c94d07-fa37-46d8-a547-fdecc96906ed",
   "metadata": {},
   "outputs": [],
   "source": [
    "cost_centre_lookup2 = cost_centre_lookup[[\"Cost Centre Number\"]]\n",
    "cost_centre_lookup2 = cost_centre_lookup2.dropna(subset=[\"Cost Centre Number\"])\n",
    "cost_centre_lookup2 =cost_centre_lookup2.drop_duplicates(subset=[\"Cost Centre Number\"])\n",
    "cost_centre_lookup2[\"Cost Centre\"] = pd.to_numeric(cost_centre_lookup2[\"Cost Centre Number\"])"
   ]
  },
  {
   "cell_type": "code",
   "execution_count": null,
   "id": "bfbee508-ec82-485f-bc73-05e9987a2ffe",
   "metadata": {},
   "outputs": [],
   "source": [
    "wfpt_probation_sip2 = pd.merge(wfpt_probation_sip, cost_centre_lookup2, on=\"Cost Centre\", how=\"left\")"
   ]
  },
  {
   "cell_type": "code",
   "execution_count": null,
   "id": "20a83ece-cf62-449b-b196-05157d3c539d",
   "metadata": {},
   "outputs": [],
   "source": [
    "wfpt_probation_sip2[\"Cost Centre Error Flag\"] = np.where(wfpt_probation_sip2[\"Cost Centre Number\"] == wfpt_probation_sip2[\"Cost Centre\"], \"Valid\", \n",
    "                                                         np.where(wfpt_probation_sip2[\"Cost Centre\"].isna(), \"Missing\", \"Invalid\"))"
   ]
  },
  {
   "cell_type": "code",
   "execution_count": null,
   "id": "12c47431-a96b-4e35-b328-64f2b8866adf",
   "metadata": {},
   "outputs": [],
   "source": [
    "print(\n",
    "    len(wfpt_probation_sip2[wfpt_probation_sip2[\"Cost Centre Error Flag\"]==\"Invalid\"]), \n",
    "    len(wfpt_probation_sip2[wfpt_probation_sip2[\"Cost Centre Error Flag\"]==\"Valid\"]), \n",
    "    len(wfpt_probation_sip2[wfpt_probation_sip2[\"Cost Centre Error Flag\"]==\"Missing\"]), \n",
    "    len(wfpt_probation_sip2)\n",
    ")"
   ]
  },
  {
   "cell_type": "code",
   "execution_count": null,
   "id": "84121b9d-9a6c-4e21-bf8e-f77c0778b2ad",
   "metadata": {},
   "outputs": [],
   "source": [
    "## Step 2: Create \"HR Location Error Flag\" column\n",
    "\n",
    "# Merge main to lookup on cost centre\n",
    "# If matched, \"Valid\", \n",
    "# If NA, \"Missing\", \n",
    "# If not NA and not matched, \"Invalid\""
   ]
  },
  {
   "cell_type": "code",
   "execution_count": null,
   "id": "24e7d9e0-5854-4f20-abd2-5d99c30690ee",
   "metadata": {},
   "outputs": [],
   "source": [
    "hr_location_lookup2 = hr_location_lookup[[\"Location Name\", \"Valid\"]]                       \n",
    "hr_location_lookup2 = hr_location_lookup2.dropna(subset=[\"Location Name\"])\n",
    "hr_location_lookup2 = hr_location_lookup2.drop_duplicates(subset=[\"Location Name\"])\n",
    "hr_location_lookup2.columns = [\"HR Location\", \"HR Valid\"]"
   ]
  },
  {
   "cell_type": "code",
   "execution_count": null,
   "id": "110eafd8-4cd9-4ded-b4f5-fcb658a30581",
   "metadata": {},
   "outputs": [],
   "source": [
    "wfpt_probation_sip3 = pd.merge(wfpt_probation_sip2, hr_location_lookup2, on=\"HR Location\", how=\"left\")"
   ]
  },
  {
   "cell_type": "code",
   "execution_count": null,
   "id": "eeb9adbd-8f69-4e44-b4dd-88a8c0228da2",
   "metadata": {},
   "outputs": [],
   "source": [
    "wfpt_probation_sip3[\"HR Location Error Flag\"] = np.where(wfpt_probation_sip3[\"HR Location\"].isnull(), \"Missing\", \n",
    "                                                         np.where(wfpt_probation_sip3[\"HR Valid\"].isnull(), \"Invalid\", \"Valid\"))"
   ]
  },
  {
   "cell_type": "code",
   "execution_count": null,
   "id": "bbe04a22-d9b4-4a74-b885-178e0c07e46f",
   "metadata": {},
   "outputs": [],
   "source": [
    "print(\n",
    "    len(wfpt_probation_sip3[wfpt_probation_sip3[\"HR Location Error Flag\"]==\"Invalid\"]), \n",
    "    len(wfpt_probation_sip3[wfpt_probation_sip3[\"HR Location Error Flag\"]==\"Valid\"]), \n",
    "    len(wfpt_probation_sip3[wfpt_probation_sip3[\"HR Location Error Flag\"]==\"Missing\"]), \n",
    "    len(wfpt_probation_sip3)\n",
    ")"
   ]
  },
  {
   "cell_type": "code",
   "execution_count": null,
   "id": "459d0cf8-53e6-4914-b29c-8563bf2a762f",
   "metadata": {},
   "outputs": [],
   "source": [
    "## Step 3: Create \"Internal Function Error Flag\" column\n",
    "\n",
    "# Merge main to lookup on cost centre\n",
    "# If matched, \"Valid\", \n",
    "# If NA, \"Missing\", \n",
    "# If not NA and not matched, \"Invalid\""
   ]
  },
  {
   "cell_type": "code",
   "execution_count": null,
   "id": "36fa2b15-817d-41d6-9807-8f69133389ad",
   "metadata": {},
   "outputs": [],
   "source": [
    "internal_function_lookup2 = internal_function_lookup[[\"Unified internal Function\"]]                       \n",
    "internal_function_lookup2 = internal_function_lookup2.dropna(subset=[\"Unified internal Function\"])\n",
    "internal_function_lookup2 = internal_function_lookup2.drop_duplicates(subset=[\"Unified internal Function\"])\n",
    "internal_function_lookup2 = internal_function_lookup2[~internal_function_lookup2[\"Unified internal Function\"].str.contains(\"NPS|Internal Function\")]\n",
    "internal_function_lookup2.columns = [\"Internal Function\"]\n",
    "internal_function_lookup2[\"Internal Function Valid\"] = \"Valid\""
   ]
  },
  {
   "cell_type": "code",
   "execution_count": null,
   "id": "afd9615e-e619-43ef-8491-3f82efd94e88",
   "metadata": {},
   "outputs": [],
   "source": [
    "wfpt_probation_sip4 = pd.merge(wfpt_probation_sip3, internal_function_lookup2, on=\"Internal Function\", how=\"left\")"
   ]
  },
  {
   "cell_type": "code",
   "execution_count": null,
   "id": "b129fa00-25d1-47d6-aa4c-ff6cb0243c0f",
   "metadata": {},
   "outputs": [],
   "source": [
    "wfpt_probation_sip4[\"Internal Function Error Flag\"] = np.where(wfpt_probation_sip4[\"Internal Function\"].isnull(), \"Missing\", \n",
    "                                                         np.where(wfpt_probation_sip4[\"Internal Function Valid\"].isnull(), \"Invalid\", \"Valid\"))"
   ]
  },
  {
   "cell_type": "code",
   "execution_count": null,
   "id": "9dbb706b-3721-4d20-bd25-9c0902922546",
   "metadata": {},
   "outputs": [],
   "source": [
    "print(\n",
    "    r\"Invalid total: \", len(wfpt_probation_sip4[wfpt_probation_sip4[\"Internal Function Error Flag\"]==\"Invalid\"]), \"\\n\",\n",
    "    r\"Valid total: \", len(wfpt_probation_sip4[wfpt_probation_sip4[\"Internal Function Error Flag\"]==\"Valid\"]), \"\\n\", \n",
    "    r\"Missing Total: \", len(wfpt_probation_sip4[wfpt_probation_sip4[\"Internal Function Error Flag\"]==\"Missing\"]), \"\\n\",\n",
    "    r\"Total Staff:\", len(wfpt_probation_sip4)\n",
    ")"
   ]
  },
  {
   "cell_type": "code",
   "execution_count": null,
   "id": "3bd11084-09d2-4d24-8d68-9dae3d64f6bb",
   "metadata": {},
   "outputs": [],
   "source": [
    "## Step 4: Create \"Job Error Flag\" column\n",
    "\n",
    "# Merge main to lookup on cost centre\n",
    "# If matched, \"Valid\", \n",
    "# If NA, \"Missing\", \n",
    "# If not NA and not matched, \"Invalid\""
   ]
  },
  {
   "cell_type": "code",
   "execution_count": null,
   "id": "8e3ab0a8-526c-4a38-8b78-30d8dc38668d",
   "metadata": {},
   "outputs": [],
   "source": [
    "job_title_lookup2 = job_title_lookup[[\"Probation Jobs\"]]\n",
    "job_title_lookup2"
   ]
  },
  {
   "cell_type": "code",
   "execution_count": null,
   "id": "9b7cc1a2-ba4b-405f-8af9-7344bf02a893",
   "metadata": {},
   "outputs": [],
   "source": [
    "job_title_lookup2 = job_title_lookup[[\"Probation Jobs\"]]\n",
    "job_title_lookup2 = job_title_lookup[[\"Probation Jobs\"]]                     \n",
    "job_title_lookup2 = job_title_lookup2.dropna(subset=[\"Probation Jobs\"])\n",
    "job_title_lookup2 = job_title_lookup2.drop_duplicates(subset=[\"Probation Jobs\"])\n",
    "job_title_lookup2.columns = [\"Job\"]\n",
    "job_title_lookup2[\"Job Function Valid\"] = \"Valid\""
   ]
  },
  {
   "cell_type": "code",
   "execution_count": null,
   "id": "a0d24373-dcbf-47af-bb3c-abcedfc5b8df",
   "metadata": {},
   "outputs": [],
   "source": [
    "wfpt_probation_sip5 = pd.merge(wfpt_probation_sip4, job_title_lookup2, on=\"Job\", how=\"left\")"
   ]
  },
  {
   "cell_type": "code",
   "execution_count": null,
   "id": "4a56ca4f-dffc-4380-849b-b9dd690ac843",
   "metadata": {},
   "outputs": [],
   "source": [
    "wfpt_probation_sip5.head(2)"
   ]
  },
  {
   "cell_type": "code",
   "execution_count": null,
   "id": "7c012d57-727a-44ba-83f2-89f7dcbd4d10",
   "metadata": {},
   "outputs": [],
   "source": [
    "wfpt_probation_sip5[\"Job Error Flag\"] = np.where(wfpt_probation_sip5[\"Job\"].isnull(), \"Missing\",\n",
    "                                                 np.where(wfpt_probation_sip5[\"Job Function Valid\"].isnull(), \"Invalid\", \"Valid\"))"
   ]
  },
  {
   "cell_type": "code",
   "execution_count": null,
   "id": "1e7db21a-025b-45be-b122-8d2d20f091a9",
   "metadata": {},
   "outputs": [],
   "source": [
    "print(\n",
    "    r\"Invalid total: \", len(wfpt_probation_sip5[wfpt_probation_sip5[\"Job Error Flag\"]==\"Invalid\"]), \"\\n\",\n",
    "    r\"Valid total: \", len(wfpt_probation_sip5[wfpt_probation_sip5[\"Job Error Flag\"]==\"Valid\"]), \"\\n\", \n",
    "    r\"Missing Total: \", len(wfpt_probation_sip5[wfpt_probation_sip5[\"Job Error Flag\"]==\"Missing\"]), \"\\n\",\n",
    "    r\"Total Staff:\", len(wfpt_probation_sip5)\n",
    ")"
   ]
  },
  {
   "cell_type": "code",
   "execution_count": null,
   "id": "588a8f55-a8ce-416f-a1d5-9e6291f0ba71",
   "metadata": {},
   "outputs": [],
   "source": [
    "wfpt_probation_sip5.head(1)"
   ]
  },
  {
   "cell_type": "code",
   "execution_count": null,
   "id": "aaf59b0d-46e6-4afe-96ef-dd4886d96484",
   "metadata": {},
   "outputs": [],
   "source": [
    "wfpt_probation_sip5.columns"
   ]
  },
  {
   "cell_type": "code",
   "execution_count": null,
   "id": "ef121890-8133-4ce2-9488-87dfe8037fe3",
   "metadata": {},
   "outputs": [],
   "source": [
    "wfpt_probation_sip_final = wfpt_probation_sip5.drop([\"Cost Centre Number\", \"HR Valid\", \"Internal Function Valid\", \"Job Function Valid\"], axis=1)"
   ]
  },
  {
   "cell_type": "code",
   "execution_count": null,
   "id": "e38a2421-4ba8-4a85-a867-59611646d352",
   "metadata": {},
   "outputs": [],
   "source": [
    "wfpt_probation_sip_final.head(2)"
   ]
  },
  {
   "cell_type": "code",
   "execution_count": null,
   "id": "9eb7e051-372a-46c2-8175-118e60eb24ea",
   "metadata": {},
   "outputs": [],
   "source": [
    "len(wfpt_probation_sip_final)"
   ]
  },
  {
   "cell_type": "code",
   "execution_count": null,
   "id": "9434934b-0c56-4843-8389-5753598acff3",
   "metadata": {},
   "outputs": [],
   "source": [
    "####################################################################################################################\n",
    "# Final Error Report\n",
    "####################################################################################################################"
   ]
  },
  {
   "cell_type": "code",
   "execution_count": null,
   "id": "70dc5665-5e25-4019-9b46-0eb148e8c7f5",
   "metadata": {},
   "outputs": [],
   "source": [
    "#################################################################\n",
    "# Step 1: WfPT data\n",
    "#################################################################"
   ]
  },
  {
   "cell_type": "code",
   "execution_count": null,
   "id": "e95322c6-ad7e-4e93-88a2-2d30fcd3fd87",
   "metadata": {},
   "outputs": [],
   "source": [
    "# WORKFORCE PLANNING TOOL DATA\n",
    "# Employee Number\n",
    "# Cost Centre\n",
    "# Cost Centre Description (Establishment)\n",
    "# HR Location\n",
    "# Internal Function\n",
    "# Grade\n",
    "# Job (title)\n",
    "# FTE\n",
    "# Location Postcode\n",
    "# Area_Directorate\n",
    "# Hours\n",
    "\n",
    "# ERROR FLAGS\n",
    "# Cost Centre Error Flag\n",
    "# HR Location Error Flag\n",
    "# Internal Function Error Flag\n",
    "# Job Error Flag"
   ]
  },
  {
   "cell_type": "code",
   "execution_count": null,
   "id": "5ca86048-8695-4d7c-887d-0b0bdb81055b",
   "metadata": {},
   "outputs": [],
   "source": [
    "wfpt_data = wfpt_probation_sip_final[[\"Employee Number\", \"Cost Centre\", \"Establishment\", \"HR Location\", \"Internal Function\", \n",
    "                                      \"Grade\", \"Job\", \"FTE\", \"Location Post Code\", \"Area_Directorate\", \"Hours\", \n",
    "                                     'Cost Centre Error Flag', 'HR Location Error Flag','Internal Function Error Flag', 'Job Error Flag']]"
   ]
  },
  {
   "cell_type": "code",
   "execution_count": null,
   "id": "b7764fb3-56ab-4a95-97c5-7f07f5125bcc",
   "metadata": {},
   "outputs": [],
   "source": [
    "wfpt_probation_sip_final.columns"
   ]
  },
  {
   "cell_type": "code",
   "execution_count": null,
   "id": "fc62c06d-bd3f-460d-b0f1-236d18f5aa8f",
   "metadata": {},
   "outputs": [],
   "source": [
    "wfpt_data.head(1)"
   ]
  },
  {
   "cell_type": "code",
   "execution_count": null,
   "id": "aa7fabe0-7c35-4662-9353-69aa6e1abddb",
   "metadata": {},
   "outputs": [],
   "source": [
    "#################################################################\n",
    "# Step 2: Tables % Valid\n",
    "#################################################################"
   ]
  },
  {
   "cell_type": "code",
   "execution_count": null,
   "id": "c8937978-5288-4a67-a03b-d893084bc1fc",
   "metadata": {},
   "outputs": [],
   "source": [
    "#################################################################\n",
    "# Rename columns\n",
    "#################################################################"
   ]
  },
  {
   "cell_type": "code",
   "execution_count": null,
   "id": "fb2a9ed4-6ce1-42da-abc1-c00857418784",
   "metadata": {},
   "outputs": [],
   "source": [
    "wfpt_data_report = wfpt_data"
   ]
  },
  {
   "cell_type": "code",
   "execution_count": null,
   "id": "d12d9890-d547-496b-821c-2b337ac7082b",
   "metadata": {},
   "outputs": [],
   "source": [
    "wfpt_data_report.rename(columns={\"Establishment\" : 'Cost Centre Description (Establishment)', \"Job\" : 'Job (title)'}, inplace=True)"
   ]
  },
  {
   "cell_type": "code",
   "execution_count": null,
   "id": "13ba64d8-f245-4b58-b645-bdc709cf3ddf",
   "metadata": {},
   "outputs": [],
   "source": [
    "wfpt_data_report.head(1)"
   ]
  },
  {
   "cell_type": "code",
   "execution_count": null,
   "id": "f1d4f5d0-51b7-46d4-88af-2d442e5893b5",
   "metadata": {},
   "outputs": [],
   "source": [
    "#Columns: \n",
    "## Region (Area Directorate)\n",
    "## Total Cases\n",
    "### Number missing, Number invalid, Number valid\n",
    "## Cost Centre \n",
    "### Number missing, Number invalid, Number valid\n",
    "## HR Location\n",
    "### Number missing, Number invalid, Number valid\n",
    "## Internal Function\n",
    "### Number missing, Number invalid, Number valid\n",
    "## Job\n",
    "### Number missing, Number invalid, Number valid\n",
    "## Total Valid \n",
    "### Number missing, Number invalid, Number valid\n",
    "## Percentage point difference from England and Wales\n",
    "## Comparison with England and Wales\n",
    "## Trend June 2021 to March 2022"
   ]
  },
  {
   "cell_type": "code",
   "execution_count": null,
   "id": "29363924-216c-4d3b-a125-59ba03a07666",
   "metadata": {},
   "outputs": [],
   "source": [
    "#################################################################\n",
    "#Table 1: Number of errors and percentage of valid cases by Region and variable \n",
    "# (excluding Approved Premises in England and some HQ functions), \n",
    "# 31 March 2022 with trends\n",
    "################################################################## "
   ]
  },
  {
   "cell_type": "code",
   "execution_count": null,
   "id": "1f3e6686-9dcd-47b7-b14d-6c33396f5dce",
   "metadata": {},
   "outputs": [],
   "source": [
    "table1 = wfpt_data_report[[\"Area_Directorate\", \"Cost Centre Error Flag\", \"HR Location Error Flag\", \n",
    "                          \"Internal Function Error Flag\", \"Job Error Flag\"]]"
   ]
  },
  {
   "cell_type": "code",
   "execution_count": null,
   "id": "8cc5d9ef-20e7-4864-a1b9-451cc7d3515d",
   "metadata": {},
   "outputs": [],
   "source": [
    "#group by area directorate\n",
    "#sum total cases "
   ]
  },
  {
   "cell_type": "code",
   "execution_count": null,
   "id": "566e7af9-b9d1-4e74-886e-386b22fe401c",
   "metadata": {},
   "outputs": [],
   "source": [
    "table1.head(3)"
   ]
  },
  {
   "cell_type": "code",
   "execution_count": null,
   "id": "dd7cea79-b360-4413-aa2e-78fbdf18ad43",
   "metadata": {},
   "outputs": [],
   "source": [
    "#group by area directorate\n",
    "#Cost Centre: sum missing, invalid, valid, % of valid/total cases"
   ]
  },
  {
   "cell_type": "code",
   "execution_count": null,
   "id": "f2bd777d-d24f-474c-b124-2bdb7a75c2bc",
   "metadata": {},
   "outputs": [],
   "source": [
    "cols = ['Cost Centre Error Flag', 'HR Location Error Flag', 'Internal Function Error Flag', 'Job Error Flag']\n",
    "table1_valid_raw = []\n",
    "\n",
    "for col in cols:\n",
    "    df = pd.crosstab(table1['Area_Directorate'], table1[col])\n",
    "    df.columns = pd.MultiIndex.from_product([[col], df.columns.tolist()])\n",
    "    table1_valid_raw.append(df)\n",
    "\n",
    "table1_valid = pd.concat(table1_valid_raw, axis=1)"
   ]
  },
  {
   "cell_type": "code",
   "execution_count": null,
   "id": "d1652f6b-8bae-48a2-afb9-805fd3984ace",
   "metadata": {},
   "outputs": [],
   "source": [
    "table1_valid"
   ]
  },
  {
   "cell_type": "code",
   "execution_count": null,
   "id": "600e9a36-1c88-4675-9a87-e166a6624263",
   "metadata": {},
   "outputs": [],
   "source": [
    "complete_list = [('Cost Centre Error Flag', 'Invalid'),\n",
    "                 ('Cost Centre Error Flag', 'Valid'),\n",
    "                 ('Cost Centre Error Flag', 'Missing'),\n",
    "                 ('HR Location Error Flag', 'Invalid'),\n",
    "                 ('HR Location Error Flag', 'Missing'),\n",
    "                 ('HR Location Error Flag', 'Valid'),\n",
    "                 ('Internal Function Error Flag', 'Invalid'),\n",
    "                 ('Internal Function Error Flag', 'Missing'),\n",
    "                 ('Internal Function Error Flag', 'Valid'),\n",
    "                 ('Job Error Flag', 'Invalid'),\n",
    "                 ('Job Error Flag', 'Missing'),\n",
    "                 ('Job Error Flag', 'Valid')]"
   ]
  },
  {
   "cell_type": "code",
   "execution_count": null,
   "id": "83740a90-ff2f-4424-bf43-293d47184f2e",
   "metadata": {},
   "outputs": [],
   "source": [
    "missing_items = list(set(complete_list) - set(table1_valid.columns.to_list()))"
   ]
  },
  {
   "cell_type": "code",
   "execution_count": null,
   "id": "9871ab1f-1f1d-409b-b9ae-016e05aebf4a",
   "metadata": {},
   "outputs": [],
   "source": [
    "for item in missing_items:\n",
    "    table1_valid[item] = 0\n",
    "    table1_valid = table1_valid.sort_index(axis=1)"
   ]
  },
  {
   "cell_type": "code",
   "execution_count": null,
   "id": "b2c61dcc-66f7-4124-8a2c-f9abd1da884d",
   "metadata": {},
   "outputs": [],
   "source": [
    "table1_valid.head(1)"
   ]
  },
  {
   "cell_type": "code",
   "execution_count": null,
   "id": "42c75c8d-e8f3-4c89-9e0c-5c0a080ddfdf",
   "metadata": {},
   "outputs": [],
   "source": [
    "table1_valid[(\"Total Cases\", \"\")] = (table1_valid[(\"Cost Centre Error Flag\", \"Invalid\")] + \n",
    "                                     table1_valid[(\"Cost Centre Error Flag\", \"Valid\")] + \n",
    "                                     table1_valid[(\"Cost Centre Error Flag\", \"Missing\")])"
   ]
  },
  {
   "cell_type": "code",
   "execution_count": null,
   "id": "70a3f076-a70f-4b3d-b634-d03b6451e1c2",
   "metadata": {},
   "outputs": [],
   "source": [
    "table1_valid.head(3)"
   ]
  },
  {
   "cell_type": "code",
   "execution_count": null,
   "id": "8ef3dfbd-afe0-41a3-9fe7-f093efa16e7e",
   "metadata": {},
   "outputs": [],
   "source": [
    "table1_valid[(\"Cost Centre Error Flag\", \"% valid\")] = round(100*(table1_valid[(\"Cost Centre Error Flag\", \"Valid\")] / table1_valid[(\"Total Cases\", \"\")]), 1)\n",
    "\n",
    "table1_valid[(\"HR Location Error Flag\", \"% valid\")] = round(100*(table1_valid[(\"HR Location Error Flag\", \"Valid\")] /table1_valid[(\"Total Cases\", \"\")]), 1)\n",
    "\n",
    "table1_valid[(\"Internal Function Error Flag\", \"% valid\")] = round(100*(table1_valid[(\"Internal Function Error Flag\", \"Valid\")] /table1_valid[(\"Total Cases\", \"\")]), 1)\n",
    "\n",
    "table1_valid[(\"Job Error Flag\", \"% valid\")] = round(100*(table1_valid[(\"Job Error Flag\", \"Valid\")] /table1_valid[(\"Total Cases\", \"\")]), 1)"
   ]
  },
  {
   "cell_type": "code",
   "execution_count": null,
   "id": "20140eac-b49e-408b-a62d-5c7ef60bf681",
   "metadata": {},
   "outputs": [],
   "source": [
    "table1_valid = table1_valid.sort_index(axis=1)"
   ]
  },
  {
   "cell_type": "code",
   "execution_count": null,
   "id": "d89b15eb-b9eb-4004-b73c-e69d7f950dc4",
   "metadata": {},
   "outputs": [],
   "source": [
    "table1_valid"
   ]
  },
  {
   "cell_type": "code",
   "execution_count": null,
   "id": "b32055bb-a4a5-47f7-8a14-88654c3976c4",
   "metadata": {},
   "outputs": [],
   "source": [
    "table1_valid[(\"Total Valid\", \"Missing\")] = (table1_valid[(\"Cost Centre Error Flag\", \"Missing\")] +\n",
    "                                                  table1_valid[(\"HR Location Error Flag\", \"Missing\")] +\n",
    "                                                  table1_valid[(\"Internal Function Error Flag\", \"Missing\")] +\n",
    "                                                  table1_valid[(\"Job Error Flag\", \"Missing\")])\n",
    "\n",
    "table1_valid[(\"Total Valid\", \"Invalid\")] = (table1_valid[(\"Cost Centre Error Flag\", \"Invalid\")] +\n",
    "                                                  table1_valid[(\"HR Location Error Flag\", \"Invalid\")] +\n",
    "                                                  table1_valid[(\"Internal Function Error Flag\", \"Invalid\")] +\n",
    "                                                  table1_valid[(\"Job Error Flag\", \"Invalid\")])\n",
    "\n",
    "table1_valid[(\"Total Valid\", \"Valid\")] = (table1_valid[(\"Cost Centre Error Flag\", \"Valid\")] +\n",
    "                                                  table1_valid[(\"HR Location Error Flag\", \"Valid\")] +\n",
    "                                                  table1_valid[(\"Internal Function Error Flag\", \"Valid\")] +\n",
    "                                                  table1_valid[(\"Job Error Flag\", \"Valid\")])"
   ]
  },
  {
   "cell_type": "code",
   "execution_count": null,
   "id": "2f3acefc-d088-4a52-885c-9388ddadd052",
   "metadata": {},
   "outputs": [],
   "source": [
    "england_and_wales = 100*(sum(table1_valid[(\"Total Valid\", \"Valid\")]) / \n",
    "                     (sum(table1_valid[(\"Total Valid\", \"Missing\")]) + \n",
    "                      sum(table1_valid[(\"Total Valid\", \"Invalid\")]) + \n",
    "                      sum(table1_valid[(\"Total Valid\", \"Valid\")])))\n",
    "england_and_wales "
   ]
  },
  {
   "cell_type": "code",
   "execution_count": null,
   "id": "f2265549-a882-4226-a671-e63617d80799",
   "metadata": {},
   "outputs": [],
   "source": [
    "table1_valid[(\"Total Valid\", \"% valid\")] = 100*(table1_valid[(\"Total Valid\", \"Valid\")] / \n",
    "                                                  (table1_valid[(\"Total Valid\", \"Valid\")] + \n",
    "                                                   table1_valid[(\"Total Valid\", \"Invalid\")] + \n",
    "                                                   table1_valid[(\"Total Valid\", \"Missing\")]))"
   ]
  },
  {
   "cell_type": "code",
   "execution_count": null,
   "id": "bfe8f563-1f39-448c-9fcd-bb0c88ce1b32",
   "metadata": {},
   "outputs": [],
   "source": [
    "table1_valid[(\"Percentage point difference from England and Wales\", \"\")] = round((table1_valid[(\"Total Valid\", \"% valid\")] - england_and_wales), 1)"
   ]
  },
  {
   "cell_type": "code",
   "execution_count": null,
   "id": "0348ad72-6e9d-40a1-8692-60f010efaf4c",
   "metadata": {},
   "outputs": [],
   "source": [
    "table1_valid"
   ]
  },
  {
   "cell_type": "code",
   "execution_count": null,
   "id": "73deecc3-64e0-4d8b-9a69-719467b6d4c6",
   "metadata": {},
   "outputs": [],
   "source": [
    "###########################################################################\n",
    "# Table 2: Number of errors and percentage of valid cases by Region and variable \n",
    "# (excluding Approved Premises in England and some HQ functions), \n",
    "# 31 March 2022 with trends\n",
    "############################################################################"
   ]
  },
  {
   "cell_type": "code",
   "execution_count": null,
   "id": "d2ca0fed-b0c9-492a-82ab-2b391f7aa66c",
   "metadata": {},
   "outputs": [],
   "source": [
    "table2 = wfpt_data_report[[\"Area_Directorate\", \"Cost Centre\", \"Cost Centre Error Flag\", \"HR Location Error Flag\", \n",
    "                          \"Internal Function Error Flag\", \"Job Error Flag\"]]"
   ]
  },
  {
   "cell_type": "code",
   "execution_count": null,
   "id": "82fc87bb-2840-47ef-b685-4606fb45c559",
   "metadata": {},
   "outputs": [],
   "source": [
    "table2.head()"
   ]
  },
  {
   "cell_type": "code",
   "execution_count": null,
   "id": "6f5f5ebf-dbb2-4933-9648-3223e49b2185",
   "metadata": {},
   "outputs": [],
   "source": [
    "cols = ['Cost Centre Error Flag', 'HR Location Error Flag', 'Internal Function Error Flag', 'Job Error Flag']\n",
    "table2_valid_raw = []\n",
    "\n",
    "for col in cols:\n",
    "    df = pd.crosstab(table2[\"Cost Centre\"], table2[col])\n",
    "    df.columns = pd.MultiIndex.from_product([[col], df.columns.tolist()])\n",
    "    table2_valid_raw.append(df)\n",
    "\n",
    "table2_valid = pd.concat(table2_valid_raw, axis=1)"
   ]
  },
  {
   "cell_type": "code",
   "execution_count": null,
   "id": "9700d761-d24a-4d86-aaef-43d71257264f",
   "metadata": {},
   "outputs": [],
   "source": [
    "table2_valid.reset_index()"
   ]
  },
  {
   "cell_type": "code",
   "execution_count": null,
   "id": "64c1ac67-3d9d-401b-9d63-52e29eac4806",
   "metadata": {},
   "outputs": [],
   "source": [
    "regions = table2[[\"Area_Directorate\", \"Cost Centre\"]]\n",
    "regions = regions.drop_duplicates(ignore_index = True)\n",
    "regions.columns = [regions.columns, [\"Region\", \"\"]]\n",
    "regions"
   ]
  },
  {
   "cell_type": "code",
   "execution_count": null,
   "id": "c10f06cf-4550-4cf1-8db5-75aa6dd59e52",
   "metadata": {},
   "outputs": [],
   "source": [
    "table2_valid_test = pd.merge(table2_valid, regions, on=(\"Cost Centre\", \"\"), how=\"left\")\n",
    "table2_valid_test"
   ]
  },
  {
   "cell_type": "code",
   "execution_count": null,
   "id": "459c37fb-4e5e-442d-b7f7-b667fd64a577",
   "metadata": {},
   "outputs": [],
   "source": []
  }
 ],
 "metadata": {
  "kernelspec": {
   "display_name": "Python 3 (ipykernel)",
   "language": "python",
   "name": "python3"
  },
  "language_info": {
   "codemirror_mode": {
    "name": "ipython",
    "version": 3
   },
   "file_extension": ".py",
   "mimetype": "text/x-python",
   "name": "python",
   "nbconvert_exporter": "python",
   "pygments_lexer": "ipython3",
   "version": "3.9.6"
  }
 },
 "nbformat": 4,
 "nbformat_minor": 5
}
