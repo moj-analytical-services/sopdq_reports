{
 "cells": [
  {
   "cell_type": "code",
   "execution_count": null,
   "id": "2c652ca8-8c12-42a9-8b6f-45e6bae1f779",
   "metadata": {},
   "outputs": [],
   "source": [
    "#First Stage of automating exception reports"
   ]
  },
  {
   "cell_type": "code",
   "execution_count": null,
   "id": "b6dd4001-c7a2-46e8-946e-af4b322064a9",
   "metadata": {},
   "outputs": [],
   "source": [
    "#Downloading the raw data from Amazon Web Service (AWS) S3 \n",
    "#This is the cloud warehouse where we store data for use on the analytical platform\n",
    "\n",
    "#This is a package that allows us to download data from AWS S3 in a more usable way\n",
    "#You may need to install it in the Terminal --> pip install arrow-pd-parser\n",
    "from arrow_pd_parser import reader, writer\n",
    "\n",
    "#Alternatively you can use Boto3 --> pip install boto3\n",
    "import boto3"
   ]
  },
  {
   "cell_type": "code",
   "execution_count": null,
   "id": "55903ad7-a2c2-4129-9e6a-d8a94b7b0cce",
   "metadata": {},
   "outputs": [],
   "source": [
    "import pandas as pd\n",
    "import numpy as np"
   ]
  },
  {
   "cell_type": "code",
   "execution_count": null,
   "id": "e7f95398-fa86-41a7-b102-b165abad575f",
   "metadata": {},
   "outputs": [],
   "source": [
    "# Specifying the reader Both reader statements are equivalent and call the same readers under the hood\n",
    "#Location of data - setting up the folder and file names\n",
    "bucket = \"s3://alpha-piatool/\"\n",
    "folder = \"sopdq_AV/\"\n",
    "raw_data = \"WFPT Staff Data Mar22.csv\"\n",
    "filename = bucket+folder+raw_data"
   ]
  },
  {
   "cell_type": "code",
   "execution_count": null,
   "id": "9835d0a2-4864-4f0b-bc90-627ed626911e",
   "metadata": {},
   "outputs": [],
   "source": [
    "#Loading the raw data stored by David Yuen \n",
    "raw_data = reader.read(filename, file_format=\"csv\")"
   ]
  },
  {
   "cell_type": "code",
   "execution_count": null,
   "id": "fb2587c8-f092-4725-beb9-59c2b5d0ee5f",
   "metadata": {},
   "outputs": [],
   "source": [
    "raw_data.head(2)"
   ]
  },
  {
   "cell_type": "code",
   "execution_count": null,
   "id": "b4bbc627-51dd-41ed-a776-db3b3705aeea",
   "metadata": {},
   "outputs": [],
   "source": [
    "#Tracie Kilbey creates four sheets from the raw dataset, which she then uses for the exception reports\n",
    "#Let's start with creating the first sheet, as it's the simplest - \"WfPT all\"\n",
    "#This is just the raw data, but we'll make a few changes to column headings to make it easier to use"
   ]
  },
  {
   "cell_type": "code",
   "execution_count": null,
   "id": "75c351d8-9b46-48e3-b4ab-8538f5e56588",
   "metadata": {},
   "outputs": [],
   "source": [
    "WfPT_all = raw_data"
   ]
  },
  {
   "cell_type": "code",
   "execution_count": null,
   "id": "6a4e153d-4aa8-4907-b525-c824886d93cd",
   "metadata": {},
   "outputs": [],
   "source": [
    "WfPT_all.columns = WfPT_all.columns.str.replace(\" \", \"_\")\n",
    "WfPT_all.columns = map(str.lower, WfPT_all.columns)"
   ]
  },
  {
   "cell_type": "code",
   "execution_count": null,
   "id": "79fe49a4-17fe-4e3d-ab03-781d9ef95f8e",
   "metadata": {},
   "outputs": [],
   "source": [
    "#Save this file in AWS S3 \n",
    "writer.write(df=WfPT_all, output_path=bucket+folder+\"WfPT all.csv\", file_format=\"csv\")"
   ]
  },
  {
   "cell_type": "code",
   "execution_count": null,
   "id": "754c4279-cbce-40a8-b730-ce55fcaf5ca4",
   "metadata": {},
   "outputs": [],
   "source": [
    "#Completed first file\n",
    "WfPT_all\n",
    "len(WfPT_all)"
   ]
  },
  {
   "cell_type": "code",
   "execution_count": null,
   "id": "f111e311-3230-4193-b1e9-daa238c9c23a",
   "metadata": {},
   "outputs": [],
   "source": [
    "# Now create second file - Probation inc HQ\n",
    "# Filter Column \"NOMS-MOJ\" to leave only \"NPS\" or \"NOMS HQ\""
   ]
  },
  {
   "cell_type": "code",
   "execution_count": null,
   "id": "00281bbc-a842-4e9a-bd51-371e97fb8ff0",
   "metadata": {},
   "outputs": [],
   "source": [
    "Probation_inc_HQ = raw_data[raw_data[\"noms-moj\"].isin([\"NOMS HQ\", \"NPS\"])]"
   ]
  },
  {
   "cell_type": "code",
   "execution_count": null,
   "id": "bac9c5f1-38b9-47cd-b545-f912e06598a2",
   "metadata": {},
   "outputs": [],
   "source": [
    "#Save on AWS S3\n",
    "writer.write(df=Probation_inc_HQ, output_path=bucket+folder+\"Probation inc HQ.csv\", file_format=\"csv\")"
   ]
  },
  {
   "cell_type": "code",
   "execution_count": null,
   "id": "1c9634ad-35aa-45a7-9273-f4e2d254bf88",
   "metadata": {},
   "outputs": [],
   "source": [
    "#Completed second file\n",
    "Probation_inc_HQ.head(2)\n",
    "len(Probation_inc_HQ)"
   ]
  },
  {
   "cell_type": "code",
   "execution_count": null,
   "id": "c72a04c8-2eb2-46c0-aa05-ecc881d1189f",
   "metadata": {},
   "outputs": [],
   "source": [
    "# Now create the third file - Probation some HQ\n",
    "#For those working in Probation Delivery Units (PDUs) and Region Offices, \n",
    "#identify those who have NOMS-MOJ (column S) value of \"NPS\".\n",
    "# Add in Other HQ staff – see establishment names below (use the Prog CC and Admin CC)\n",
    "# Cost Centre = 10207830, 10207831, 10207812"
   ]
  },
  {
   "cell_type": "code",
   "execution_count": null,
   "id": "05293c2a-e59a-43e1-b9ea-5ccbbddb96c1",
   "metadata": {},
   "outputs": [],
   "source": [
    "raw_data.head(2)"
   ]
  },
  {
   "cell_type": "code",
   "execution_count": null,
   "id": "27a07098-dd61-46cd-b41e-be907186d2d8",
   "metadata": {},
   "outputs": [],
   "source": [
    "a = raw_data[raw_data[\"NOMS-MOJ\"] == \"NPS\"]\n",
    "b = raw_data[raw_data[\"NOMS-MOJ\"] == \"NOMS HQ\"]\n",
    "c = b[b[\"Cost Centre\"].isin([10207830, 10207831, 10207812])]\n",
    "probation_some_hq = pd.concat([a,c])"
   ]
  },
  {
   "cell_type": "code",
   "execution_count": null,
   "id": "076f52b4-479a-4987-8e52-98be2637b0c1",
   "metadata": {},
   "outputs": [],
   "source": [
    "probation_some_hq\n",
    "len(probation_some_hq)"
   ]
  },
  {
   "cell_type": "code",
   "execution_count": null,
   "id": "c66fb65a-c5b1-4854-9837-2c59c6ba63c9",
   "metadata": {},
   "outputs": [],
   "source": [
    "#Save on AWS S3\n",
    "writer.write(df=probation_some_hq, output_path=bucket+folder+\"Probation some HQ.csv\", file_format=\"csv\")"
   ]
  },
  {
   "cell_type": "code",
   "execution_count": null,
   "id": "b09532bb-2da0-49e8-a675-72e16ed31d5c",
   "metadata": {},
   "outputs": [],
   "source": [
    "#Create the fourth sheet - APs\n",
    "## Filter for NOMS-HQ field of \"NOMS HQ\" and then filter for all establishment with “APs\" at end of name. \n",
    "## Filter for National Approved Premises and AP Professionalisation Project (as in the table below).\n",
    "### Cost centres = 10207588, 10207586\n"
   ]
  },
  {
   "cell_type": "code",
   "execution_count": null,
   "id": "920bc906-1ba4-4c10-b8c1-ee3f98b5f3d8",
   "metadata": {},
   "outputs": [],
   "source": [
    "a = raw_data[raw_data[\"NOMS-MOJ\"] == \"NOMS HQ\"]\n",
    "b = a[a[\"Establishment\"].str.contains(\"APs\")]\n",
    "c = raw_data[raw_data[\"Cost Centre\"].isin([10207588, 10207586])]\n",
    "aps = pd.concat([b,c])"
   ]
  },
  {
   "cell_type": "code",
   "execution_count": null,
   "id": "acc8ad1b-0e7c-49f1-8090-5dda3439c9a5",
   "metadata": {},
   "outputs": [],
   "source": [
    "len(aps)"
   ]
  },
  {
   "cell_type": "code",
   "execution_count": null,
   "id": "7d5ec03c-1e83-49f9-8941-203474f8aacf",
   "metadata": {},
   "outputs": [],
   "source": [
    "#Save on AWS S3\n",
    "writer.write(df=aps, output_path=bucket+folder+\"APs.csv\", file_format=\"csv\")"
   ]
  },
  {
   "cell_type": "code",
   "execution_count": null,
   "id": "3b3bd99a-c0a0-47b2-98a8-9c912f84fdf3",
   "metadata": {},
   "outputs": [],
   "source": []
  },
  {
   "cell_type": "code",
   "execution_count": null,
   "id": "f939aca2-d33c-471e-8497-ca08ddd3981c",
   "metadata": {},
   "outputs": [],
   "source": [
    "#Save all csv's as separate sheets in a single Excel file - \"WFPT Staff Data Mar22 Probation.xlsx\"\n",
    "\n",
    "from openpyxl import Workbook\n",
    "\n",
    "wb = Workbook()\n",
    "wb.create_sheet(\"Probation inc HQ\")\n",
    "wb.create_sheet(\"Probation some HQ\")\n",
    "wb.create_sheet(\"APs\")\n",
    "wb['Sheet'].title = \"WfPT all\""
   ]
  },
  {
   "cell_type": "code",
   "execution_count": null,
   "id": "b82ae3ff-bb70-48cf-8747-d97e3c731e0e",
   "metadata": {},
   "outputs": [],
   "source": [
    "books_df = pd.DataFrame(\n",
    "    data={\"Title\": [\"Book I\", \"Book II\", \"Book III\"], \"Price\": [56.6, 59.87, 74.54]},\n",
    "    columns=[\"Title\", \"Price\"],\n",
    ")\n",
    "\n",
    "key = \"books.csv\"\n",
    "\n",
    "books_df.to_csv(bucket+folder+key)"
   ]
  },
  {
   "cell_type": "code",
   "execution_count": null,
   "id": "e98a6bf8-7742-4778-bbbe-202a2db2ecaa",
   "metadata": {},
   "outputs": [],
   "source": [
    "bucket = \"s3://alpha-piatool/\"\n",
    "folder = \"sopdq_AV/\"\n",
    "bucket+folder"
   ]
  },
  {
   "cell_type": "code",
   "execution_count": null,
   "id": "85f5563a-7690-4185-8bdd-bb1285610c40",
   "metadata": {},
   "outputs": [],
   "source": [
    "import boto3\n",
    "\n",
    "\n",
    "s3 = boto3.resource('s3')\n",
    "s3.Object('alpha-piatool', 'sopdq_AV').download_file('books.csv')\n"
   ]
  }
 ],
 "metadata": {
  "kernelspec": {
   "display_name": "Python 3 (ipykernel)",
   "language": "python",
   "name": "python3"
  },
  "language_info": {
   "codemirror_mode": {
    "name": "ipython",
    "version": 3
   },
   "file_extension": ".py",
   "mimetype": "text/x-python",
   "name": "python",
   "nbconvert_exporter": "python",
   "pygments_lexer": "ipython3",
   "version": "3.9.6"
  }
 },
 "nbformat": 4,
 "nbformat_minor": 5
}
